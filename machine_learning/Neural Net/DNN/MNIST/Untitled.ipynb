{
 "cells": [
  {
   "cell_type": "markdown",
   "metadata": {},
   "source": [
    "# DNN on MNIST\n",
    "\n",
    "In this exercice, we are going to do the first Neural Network with Tensorflow. We will explore some models, tweak their topology, activation function and check the impact in Tensorboard. As input we gonna use the mnist dataset included in Tensorflow"
   ]
  },
  {
   "cell_type": "code",
   "execution_count": 1,
   "metadata": {
    "collapsed": true
   },
   "outputs": [],
   "source": [
    "import numpy as np\n",
    "import matplotlib.pyplot as plt\n",
    "import pandas as pd\n",
    "\n",
    "import tensorflow as tf\n",
    "from tensorflow.examples.tutorials.mnist import input_data\n",
    "\n",
    "from sklearn.datasets import fetch_mldata\n",
    "from sklearn.preprocessing import OneHotEncoder\n",
    "from sklearn.model_selection import train_test_split\n",
    "\n",
    "% matplotlib inline"
   ]
  },
  {
   "cell_type": "code",
   "execution_count": 2,
   "metadata": {},
   "outputs": [],
   "source": [
    "#mnist = input_data.read_data_sets(\"/data/\")\n",
    "mnist = fetch_mldata('MNIST original', data_home=\"./\")"
   ]
  },
  {
   "cell_type": "markdown",
   "metadata": {},
   "source": [
    "# Presentation of the dataset\n",
    "\n",
    "Source : <a href=\"https://en.wikipedia.org/wiki/MNIST_database\" target=\"_blank\">Wikipedia</a>\n",
    "\n",
    "The MNIST database (Modified National Institute of Standards and Technology database) is a large database of handwritten digits that is commonly used for training various image processing systems. [...] The MNIST database contains 60,000 training images and 10,000 testing images. [...] Currently, the best performance of a single convolutional neural network trained in 74 epochs on the expanded training data is 0.27 percent error rate."
   ]
  },
  {
   "cell_type": "code",
   "execution_count": 3,
   "metadata": {},
   "outputs": [
    {
     "name": "stdout",
     "output_type": "stream",
     "text": [
      "(70000, 784)\n",
      "(70000, 1)\n"
     ]
    }
   ],
   "source": [
    "X = mnist.data\n",
    "y = mnist.target.reshape(-1,1)\n",
    "\n",
    "print(X.shape)\n",
    "print(y.shape)"
   ]
  },
  {
   "cell_type": "markdown",
   "metadata": {},
   "source": [
    "So we have the dataset with 784 inputs corresponding to the 28x28 pixel presenting the picture and an output vector with the label corresponding. To switch to a multiclass classification, we gonna use the OneHotEncoder to \"explode\" the label to n dictinct columns"
   ]
  },
  {
   "cell_type": "code",
   "execution_count": 4,
   "metadata": {},
   "outputs": [],
   "source": [
    "ohe = OneHotEncoder()\n",
    "y_ohe = ohe.fit_transform(y)"
   ]
  },
  {
   "cell_type": "code",
   "execution_count": 5,
   "metadata": {},
   "outputs": [
    {
     "name": "stdout",
     "output_type": "stream",
     "text": [
      "(70000, 10) \n",
      "\n",
      "[ 0.] => [1 0 0 0 0 0 0 0 0 0]\n",
      "[ 1.] => [0 1 0 0 0 0 0 0 0 0]\n",
      "[ 2.] => [0 0 1 0 0 0 0 0 0 0]\n",
      "[ 3.] => [0 0 0 1 0 0 0 0 0 0]\n",
      "[ 4.] => [0 0 0 0 1 0 0 0 0 0]\n",
      "[ 5.] => [0 0 0 0 0 1 0 0 0 0]\n",
      "[ 7.] => [0 0 0 0 0 0 0 1 0 0]\n",
      "[ 8.] => [0 0 0 0 0 0 0 0 1 0]\n",
      "[ 9.] => [0 0 0 0 0 0 0 0 0 1]\n",
      "[ 2.] => [0 0 1 0 0 0 0 0 0 0]\n"
     ]
    }
   ],
   "source": [
    "y_dense = y_ohe.toarray().astype(int)\n",
    "print(y_dense.shape, \"\\n\")\n",
    "for i in range(10):\n",
    "    print(y[i*6999], \"=>\", y_dense[i*6999])"
   ]
  },
  {
   "cell_type": "markdown",
   "metadata": {},
   "source": [
    "Here we are, we now have 10 columns with only with 1 on the label corresponding. We can also plot some input to check how it looks like"
   ]
  },
  {
   "cell_type": "code",
   "execution_count": 6,
   "metadata": {},
   "outputs": [
    {
     "data": {
      "image/png": "[encoded data removed]",
      "text/plain": [
       "<matplotlib.figure.Figure at 0x1d2f2f10278>"
      ]
     },
     "metadata": {},
     "output_type": "display_data"
    }
   ],
   "source": [
    "idx = np.random.randint(X.shape[0], size=9)\n",
    "plt.figure(1)\n",
    "pos = 331\n",
    "for choice in X[idx,:]:\n",
    "    mat = choice.reshape(28,28)\n",
    "    plt.subplot(pos)\n",
    "    plt.imshow(mat, cmap='binary')\n",
    "    pos += 1\n",
    "plt.show()"
   ]
  },
  {
   "cell_type": "markdown",
   "metadata": {},
   "source": [
    "We can see that there is an high variety of change which make it very difficult to handle with standard \"rules\" like :\n",
    "if pixel[a] > 0 and pixel[b] < 100 ... it's a 3 for example.\n",
    "But we can try a simple DNN and check if it learn well.\n",
    "\n",
    "Prior to go for the DNN, we first goona split the dataset in 2 parts : 1 for the training and 1 for the test"
   ]
  },
  {
   "cell_type": "code",
   "execution_count": 7,
   "metadata": {},
   "outputs": [],
   "source": [
    "X_train, X_test, y_train, y_test = train_test_split(X, y_dense, test_size=1/7, random_state=42)"
   ]
  },
  {
   "cell_type": "code",
   "execution_count": 8,
   "metadata": {},
   "outputs": [
    {
     "name": "stdout",
     "output_type": "stream",
     "text": [
      "Training set\n",
      "(60000, 784)\n",
      "(60000, 10)\n",
      "\n",
      "\n",
      "Test set\n",
      "(10000, 784)\n",
      "(10000, 10)\n"
     ]
    }
   ],
   "source": [
    "print(\"Training set\")\n",
    "print(X_train.shape)\n",
    "print(y_train.shape)\n",
    "print(\"\\n\")\n",
    "print(\"Test set\")\n",
    "print(X_test.shape)\n",
    "print(y_test.shape)"
   ]
  },
  {
   "cell_type": "markdown",
   "metadata": {},
   "source": [
    "# Creation of the model\n",
    "\n",
    "As I already experiment some tries on this kind of model, Iwon't explore several Topology/activation functions etc ... The idea is only to show how well it learn from \"difficult\" inputs. Nevertheless, if you are interested to this, you can take a look to <a href=\"http://nicolasmine.com/scripts/solution/Neural_Network_Exploration.html\" target=\"_blank\">this workbook</a>"
   ]
  },
  {
   "cell_type": "code",
   "execution_count": 35,
   "metadata": {
    "collapsed": true
   },
   "outputs": [],
   "source": [
    "def batch_gen(X, y, batch_size = 50, nb_batch = None):\n",
    "    if nb_batch is None:\n",
    "        nb_batch = X.shape[0] // batch_size\n",
    "    randomize = np.arange(X.shape[0])\n",
    "    np.random.shuffle(randomize)\n",
    "    X = X[randomize]\n",
    "    y = y[randomize]\n",
    "    for _ in range(nb_batch):\n",
    "        X_chunk = X[:batch_size]\n",
    "        y_chunk = y[:batch_size]\n",
    "        yield (X_chunk, y_chunk)\n",
    "        X, y = X[batch_size:], y[batch_size:]"
   ]
  },
  {
   "cell_type": "code",
   "execution_count": 36,
   "metadata": {
    "collapsed": true
   },
   "outputs": [],
   "source": [
    "input_features = 28*28\n",
    "size_hidden_layer_1 = 300\n",
    "size_hidden_layer_2 = 50\n",
    "size_output_layer = 10\n",
    "dropout_rate = 0.5"
   ]
  },
  {
   "cell_type": "code",
   "execution_count": 37,
   "metadata": {
    "collapsed": true
   },
   "outputs": [],
   "source": [
    "tf.reset_default_graph()\n",
    "tf.set_random_seed(42)"
   ]
  },
  {
   "cell_type": "code",
   "execution_count": 38,
   "metadata": {
    "collapsed": true
   },
   "outputs": [],
   "source": [
    "# Creation Graph\n",
    "X_ph = tf.placeholder(tf.float32, shape=(None, input_features), name='X')\n",
    "y_ph = tf.placeholder(tf.int32, shape=(None, size_output_layer), name='y')\n",
    "training_ph = tf.placeholder_with_default(False, shape=(), name='training')"
   ]
  },
  {
   "cell_type": "code",
   "execution_count": 39,
   "metadata": {},
   "outputs": [],
   "source": [
    "# Setup Dropout\n",
    "X_drop = tf.layers.dropout(X_ph, dropout_rate, training = training_ph)\n",
    "\n",
    "# Hidden Layer\n",
    "hidden_layer_1 = tf.layers.dense(X_drop, size_hidden_layer_1, name=\"hidden1\")\n",
    "bn1 = tf.layers.batch_normalization(hidden_layer_1, training=training_ph, momentum=0.9)\n",
    "bn1_act = tf.nn.elu(bn1)\n",
    "hidden_layer_1_drop = tf.layers.dropout(bn1_act, dropout_rate, training = training_ph)\n",
    "\n",
    "hidden_layer_2 = tf.layers.dense(hidden_layer_1_drop, size_hidden_layer_2, name=\"hidden2\")\n",
    "bn2 = tf.layers.batch_normalization(hidden_layer_2, training=training_ph, momentum=0.9)\n",
    "bn2_act = tf.nn.elu(bn2)   \n",
    "hidden_layer_2_drop = tf.layers.dropout(bn2_act, dropout_rate, training = training_ph)\n",
    "\n",
    "output_layer = tf.layers.dense(hidden_layer_2_drop, size_output_layer, name=\"output\")"
   ]
  },
  {
   "cell_type": "code",
   "execution_count": 40,
   "metadata": {
    "collapsed": true
   },
   "outputs": [],
   "source": [
    "predict = tf.contrib.layers.softmax(output_layer) #tf.nn.softmax(output_layer)"
   ]
  },
  {
   "cell_type": "code",
   "execution_count": 41,
   "metadata": {},
   "outputs": [],
   "source": [
    "# Cost function\n",
    "cross_entropy = tf.nn.softmax_cross_entropy_with_logits(labels=y_ph, logits=output_layer)\n",
    "loss= tf.reduce_mean(cross_entropy)"
   ]
  },
  {
   "cell_type": "code",
   "execution_count": 42,
   "metadata": {},
   "outputs": [],
   "source": [
    "# Backpropagation\n",
    "LR = 0.01\n",
    "optimizer = tf.train.MomentumOptimizer(LR, momentum=0.9).minimize(loss)"
   ]
  },
  {
   "cell_type": "code",
   "execution_count": 43,
   "metadata": {
    "collapsed": true
   },
   "outputs": [],
   "source": [
    "# evaluation\n",
    "# correct = tf.nn.in_top_k(output_layer, y_ph, 1)\n",
    "correct = tf.equal(tf.argmax(output_layer, 1), tf.argmax(y_ph, 1))\n",
    "accuracy = tf.reduce_mean(tf.cast(correct, tf.float32))"
   ]
  },
  {
   "cell_type": "code",
   "execution_count": 44,
   "metadata": {},
   "outputs": [],
   "source": [
    "# Initialization\n",
    "init = tf.global_variables_initializer()\n",
    "saver = tf.train.Saver()\n",
    "\n",
    "# Tensorborad info\n",
    "acc_summary = tf.summary.scalar(\"Accuracy\", accuracy)\n",
    "file_writter = tf.summary.FileWriter(\"/saves/summary/model1/\", tf.get_default_graph())"
   ]
  },
  {
   "cell_type": "code",
   "execution_count": 45,
   "metadata": {},
   "outputs": [
    {
     "name": "stdout",
     "output_type": "stream",
     "text": [
      "0 0.8359\n",
      "1 0.8649\n",
      "2 0.8589\n",
      "3 0.8475\n",
      "4 0.8952\n",
      "5 0.9151\n",
      "6 0.8874\n",
      "7 0.9078\n",
      "8 0.9032\n",
      "9 0.8857\n",
      "10 0.8911\n",
      "11 0.8846\n",
      "12 0.9013\n",
      "13 0.8997\n",
      "14 0.9004\n",
      "15 0.8921\n",
      "16 0.8872\n",
      "17 0.892\n",
      "18 0.8977\n",
      "19 0.8952\n",
      "20 0.8995\n",
      "21 0.9147\n",
      "22 0.9101\n",
      "23 0.8982\n",
      "24 0.9026\n",
      "25 0.9081\n",
      "26 0.8968\n",
      "27 0.9034\n",
      "28 0.9062\n",
      "29 0.9058\n",
      "30 0.9103\n",
      "31 0.9108\n",
      "32 0.926\n",
      "33 0.9271\n",
      "34 0.917\n",
      "35 0.9195\n",
      "36 0.9258\n",
      "37 0.9419\n",
      "38 0.9265\n",
      "39 0.9332\n",
      "40 0.9248\n",
      "41 0.9317\n",
      "42 0.9317\n",
      "43 0.9311\n",
      "44 0.9354\n",
      "45 0.9329\n",
      "46 0.9344\n",
      "47 0.9341\n",
      "48 0.9373\n",
      "49 0.9257\n",
      "50 0.9268\n",
      "51 0.9268\n",
      "52 0.9245\n",
      "53 0.9297\n",
      "54 0.9329\n",
      "55 0.9263\n",
      "56 0.9329\n",
      "57 0.9357\n",
      "58 0.9349\n",
      "59 0.9346\n"
     ]
    }
   ],
   "source": [
    "training = True\n",
    "n_epoch = 60\n",
    "\n",
    "with tf.Session() as sess:\n",
    "    init.run()\n",
    "    for epoch in range(n_epoch):\n",
    "        batch = batch_gen(X_train, y_train, 50)\n",
    "        for X_batch, y_batch in batch:\n",
    "            sess.run(optimizer, feed_dict={X_ph: X_batch, y_ph: y_batch, training_ph: True})\n",
    "        #accuracy_str = acc_summary.eval(feed_dict={X: X_test, y: mnist.test.labels})\n",
    "        #file_writter.add_summary(accuracy_str, epoch)\n",
    "        print(epoch, accuracy.eval(feed_dict={X_ph: X_test, y_ph: y_test}))\n",
    "    save_path = saver.save(sess, \"/saves/trained_model.ckpt\")\n",
    "    #file_writter.close()"
   ]
  },
  {
   "cell_type": "code",
   "execution_count": 46,
   "metadata": {},
   "outputs": [
    {
     "name": "stdout",
     "output_type": "stream",
     "text": [
      "INFO:tensorflow:Restoring parameters from /saves/trained_model.ckpt\n"
     ]
    },
    {
     "data": {
      "image/png": "[encoded data removed]",
      "text/plain": [
       "<matplotlib.figure.Figure at 0x1d2f6c29550>"
      ]
     },
     "metadata": {},
     "output_type": "display_data"
    },
    {
     "name": "stdout",
     "output_type": "stream",
     "text": [
      "Real Value : 2\n",
      "OHE Real : [0 0 1 0 0 0 0 0 0 0]\n",
      "OHE Pred : [0 0 1 0 0 0 0 0 0 0]\n",
      "OHE Pred : [-5699  4334  9229  3012 -4057 -5011 -6493  4688 -3209  -923]\n",
      "inf\n"
     ]
    },
    {
     "data": {
      "image/png": "[encoded data removed]",
      "text/plain": [
       "<matplotlib.figure.Figure at 0x1d2f2ee0518>"
      ]
     },
     "metadata": {},
     "output_type": "display_data"
    },
    {
     "name": "stdout",
     "output_type": "stream",
     "text": [
      "Real Value : 7\n",
      "OHE Real : [0 0 0 0 0 0 0 1 0 0]\n",
      "OHE Pred : [0 0 0 0 0 0 0 1 0 0]\n",
      "OHE Pred : [-14213   3820   7365   5391  -7390  -6804 -14216  19862  -2264   3299]\n",
      "inf\n"
     ]
    },
    {
     "data": {
      "image/png": "[encoded data removed]",
      "text/plain": [
       "<matplotlib.figure.Figure at 0x1d2fafe3e80>"
      ]
     },
     "metadata": {},
     "output_type": "display_data"
    },
    {
     "name": "stdout",
     "output_type": "stream",
     "text": [
      "Real Value : 2\n",
      "OHE Real : [0 0 1 0 0 0 0 0 0 0]\n",
      "OHE Pred : [0 0 1 0 0 0 0 0 0 0]\n",
      "OHE Pred : [ -400 -1708  5340  1516 -2500 -3484 -3747 -1207 -1607  1262]\n",
      "inf\n"
     ]
    },
    {
     "data": {
      "image/png": "[encoded data removed]",
      "text/plain": [
       "<matplotlib.figure.Figure at 0x1d2fada0160>"
      ]
     },
     "metadata": {},
     "output_type": "display_data"
    },
    {
     "name": "stdout",
     "output_type": "stream",
     "text": [
      "Real Value : 8\n",
      "OHE Real : [0 0 0 0 0 0 0 0 1 0]\n",
      "OHE Pred : [0 0 0 0 0 0 0 0 1 0]\n",
      "OHE Pred : [-4441 -2200 -1949  3759 -4720  3512 -5535   327  7506  3856]\n",
      "inf\n"
     ]
    },
    {
     "data": {
      "image/png": "[encoded data removed]",
      "text/plain": [
       "<matplotlib.figure.Figure at 0x1d4517bc860>"
      ]
     },
     "metadata": {},
     "output_type": "display_data"
    },
    {
     "name": "stdout",
     "output_type": "stream",
     "text": [
      "Real Value : 7\n",
      "OHE Real : [0 0 0 0 0 0 0 1 0 0]\n",
      "OHE Pred : [0 0 0 0 0 0 0 1 0 0]\n",
      "OHE Pred : [-13044   6279   9527   6663  -5432  -7234 -12525  14474  -3288  -1256]\n",
      "inf\n"
     ]
    },
    {
     "data": {
      "image/png": "[encoded data removed]",
      "text/plain": [
       "<matplotlib.figure.Figure at 0x1d453467898>"
      ]
     },
     "metadata": {},
     "output_type": "display_data"
    },
    {
     "name": "stdout",
     "output_type": "stream",
     "text": [
      "Real Value : 9\n",
      "OHE Real : [0 0 0 0 0 0 0 0 0 1]\n",
      "OHE Pred : [0 0 0 0 0 0 0 0 0 1]\n",
      "OHE Pred : [-8558 -2798 -5456  1571  1730 -2632 -8602  7480 -6285 11935]\n",
      "inf\n"
     ]
    },
    {
     "data": {
      "image/png": "[encoded data removed]",
      "text/plain": [
       "<matplotlib.figure.Figure at 0x1d4582dd198>"
      ]
     },
     "metadata": {},
     "output_type": "display_data"
    },
    {
     "name": "stdout",
     "output_type": "stream",
     "text": [
      "Real Value : 9\n",
      "OHE Real : [0 0 0 0 0 0 0 0 0 1]\n",
      "OHE Pred : [0 0 0 0 0 0 0 0 0 1]\n",
      "OHE Pred : [-8047 -2512 -2872   326  1201 -4788 -7754  7771 -7281 11247]\n",
      "inf\n"
     ]
    },
    {
     "data": {
      "image/png": "[encoded data removed]",
      "text/plain": [
       "<matplotlib.figure.Figure at 0x1d4520e7f60>"
      ]
     },
     "metadata": {},
     "output_type": "display_data"
    },
    {
     "name": "stdout",
     "output_type": "stream",
     "text": [
      "Real Value : 7\n",
      "OHE Real : [0 0 0 0 0 0 0 1 0 0]\n",
      "OHE Pred : [0 0 0 0 0 0 0 1 0 0]\n",
      "OHE Pred : [-14428   4115   3346   2242  -3099 -11266 -12684  24200  -9472   4765]\n",
      "inf\n"
     ]
    },
    {
     "data": {
      "image/png": "[encoded data removed]",
      "text/plain": [
       "<matplotlib.figure.Figure at 0x1d45143a518>"
      ]
     },
     "metadata": {},
     "output_type": "display_data"
    },
    {
     "name": "stdout",
     "output_type": "stream",
     "text": [
      "Real Value : 2\n",
      "OHE Real : [0 0 1 0 0 0 0 0 0 0]\n",
      "OHE Pred : [0 0 1 0 0 0 0 0 0 0]\n",
      "OHE Pred : [ -6859   1845  14497   4161  -3647 -11692 -10004   9518  -7879  -1300]\n",
      "inf\n"
     ]
    }
   ],
   "source": [
    "with tf.Session() as sess:\n",
    "    saver.restore(sess, \"/saves/trained_model.ckpt\")\n",
    "    idx = np.random.randint(X_test.shape[0], size=9)\n",
    "    x_eval = X_test[idx]\n",
    "    y_eval = y_test[idx]\n",
    "    y_pred, out = sess.run([predict, output_layer], feed_dict={X_ph: x_eval})\n",
    "    for i in range(9):\n",
    "        mat = x_eval[i].reshape(28,28)\n",
    "        plt.imshow(mat, cmap='binary')\n",
    "        plt.show()\n",
    "        print(\"Real Value :\", np.argmax(y_eval[i]))\n",
    "        print(\"OHE Real :\", y_eval[i])\n",
    "        print(\"OHE Pred :\", y_pred[i].astype(int))\n",
    "        print(\"OHE Pred :\", out[i].astype(int))\n",
    "        numerateur = tf.exp(out[i])\n",
    "        sum_prob = tf.reduce_sum(tf.exp(out[i]))\n",
    "        pro = tf.divide(numerateur, sum_prob)\n",
    "        print(sum_prob.eval())"
   ]
  },
  {
   "cell_type": "code",
   "execution_count": null,
   "metadata": {
    "collapsed": true
   },
   "outputs": [],
   "source": []
  }
 ],
 "metadata": {
  "kernelspec": {
   "display_name": "Python 3",
   "language": "python",
   "name": "python3"
  },
  "language_info": {
   "codemirror_mode": {
    "name": "ipython",
    "version": 3
   },
   "file_extension": ".py",
   "mimetype": "text/x-python",
   "name": "python",
   "nbconvert_exporter": "python",
   "pygments_lexer": "ipython3",
   "version": "3.6.1"
  }
 },
 "nbformat": 4,
 "nbformat_minor": 2
}
