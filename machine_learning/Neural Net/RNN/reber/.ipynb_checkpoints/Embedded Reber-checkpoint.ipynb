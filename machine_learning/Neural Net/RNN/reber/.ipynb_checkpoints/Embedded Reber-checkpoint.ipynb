{
 "cells": [
  {
   "cell_type": "markdown",
   "metadata": {},
   "source": [
    "# REBER Grammar with RNN\n",
    "\n",
    "This workbook follows the notebook regarding <a href=\"https://www.willamette.edu/~gorr/classes/cs449/reber.html\" target=\"_blank\">Reber's grammar</a> words. In this one we gonna train a more complexe RNN to generate Embedded Reber's word\n",
    "\n",
    "## What is a Reber Word ?\n",
    "\n",
    "The embedded version Reber word is a word following the graph:\n",
    "\n",
    "<img src=\"embreber.gif\"/>"
   ]
  },
  {
   "cell_type": "code",
   "execution_count": 1,
   "metadata": {},
   "outputs": [
    {
     "name": "stderr",
     "output_type": "stream",
     "text": [
      "Using TensorFlow backend.\n"
     ]
    }
   ],
   "source": [
    "import numpy as np\n",
    "import matplotlib.pyplot as plt\n",
    "import time\n",
    "\n",
    "import create_dataset as reber\n",
    "\n",
    "from keras.datasets import imdb\n",
    "from keras.models import Sequential\n",
    "from keras.layers import Dense, Dropout, LSTM, SimpleRNN, GRU\n",
    "from keras.layers.embeddings import Embedding\n",
    "from keras.preprocessing import sequence\n",
    "\n",
    "np.set_printoptions(precision=3)\n",
    "np.set_printoptions(suppress=True)\n",
    "\n",
    "%matplotlib inline"
   ]
  },
  {
   "cell_type": "markdown",
   "metadata": {},
   "source": [
    "## Preparation of datas\n",
    "\n",
    "We discover on the previous notebook how to generate a dataset for the training. We just gonna change it to use Embedded Word"
   ]
  },
  {
   "cell_type": "code",
   "execution_count": 2,
   "metadata": {},
   "outputs": [
    {
     "name": "stdout",
     "output_type": "stream",
     "text": [
      "BTBTSSXXTTTTVPSET\n"
     ]
    }
   ],
   "source": [
    "x, y = reber.get_one_embedded_example(minLength=10)\n",
    "print(reber.sequenceToWord(x))"
   ]
  },
  {
   "cell_type": "code",
   "execution_count": 3,
   "metadata": {},
   "outputs": [
    {
     "data": {
      "text/plain": [
       "True"
      ]
     },
     "execution_count": 3,
     "metadata": {},
     "output_type": "execute_result"
    }
   ],
   "source": [
    "reber.in_grammar(reber.sequenceToWord(x)[2:-1])"
   ]
  },
  {
   "cell_type": "markdown",
   "metadata": {},
   "source": [
    "To generate the target, we can reuse the previous fonction to generate the output based on the input"
   ]
  },
  {
   "cell_type": "code",
   "execution_count": 4,
   "metadata": {
    "collapsed": true
   },
   "outputs": [],
   "source": [
    "def generate(x0):\n",
    "    end = np.array([0.,  0.,  0.,  0.,  0.,  0.,  1.])\n",
    "    y=x0[1:]\n",
    "    y.append(end)\n",
    "    return y"
   ]
  },
  {
   "cell_type": "markdown",
   "metadata": {},
   "source": [
    "So now let's build our dataset. Due to the embedding features, the maxlen for the padding will be increase to 30"
   ]
  },
  {
   "cell_type": "code",
   "execution_count": 5,
   "metadata": {},
   "outputs": [
    {
     "name": "stdout",
     "output_type": "stream",
     "text": [
      "(2048, 30, 7)\n",
      "(2048, 30, 7)\n",
      "(256, 30, 7)\n",
      "(256, 30, 7)\n",
      "(1, 30, 7)\n",
      "(1, 30, 7)\n",
      "(1, 30, 7)\n"
     ]
    }
   ],
   "source": [
    "maxlen = 30\n",
    "min_length = 10\n",
    "\n",
    "X_train, y_train = [], []\n",
    "X_test, y_test = [], []\n",
    "X_val, y_val = [], []\n",
    "y_possible = []\n",
    "\n",
    "for i in range(2048):\n",
    "    x, y = reber.get_one_embedded_example(minLength=min_length)\n",
    "    X_train.append(x)\n",
    "    y_train.append(generate(x))\n",
    "\n",
    "for i in range(256):\n",
    "    x, y = reber.get_one_embedded_example(minLength=min_length)\n",
    "    X_test.append(x)\n",
    "    y_test.append(generate(x))  \n",
    "    \n",
    "for i in range(1):\n",
    "    x, y = reber.get_one_embedded_example(minLength=min_length)\n",
    "    X_val.append(x)\n",
    "    y_val.append(generate(x))\n",
    "    y_possible.append(y)\n",
    "\n",
    "X_train = np.array(X_train)\n",
    "y_train = np.array(y_train)\n",
    "X_test = np.array(X_test)\n",
    "y_test = np.array(y_test)\n",
    "X_val = np.array(X_val)\n",
    "y_val = np.array(y_val)\n",
    "y_possible = np.array(y_possible)\n",
    "\n",
    "X_train = sequence.pad_sequences(X_train, maxlen=maxlen, padding='post', truncating='post')\n",
    "y_train = sequence.pad_sequences(y_train, maxlen=maxlen, padding='post', truncating='post')\n",
    "X_test = sequence.pad_sequences(X_test, maxlen=maxlen, padding='post', truncating='post')\n",
    "y_test = sequence.pad_sequences(y_test, maxlen=maxlen, padding='post', truncating='post')\n",
    "X_val = sequence.pad_sequences(X_val, maxlen=maxlen, padding='post', truncating='post')\n",
    "y_val = sequence.pad_sequences(y_val, maxlen=maxlen, padding='post', truncating='post')\n",
    "y_possible = sequence.pad_sequences(y_possible, maxlen=maxlen, padding='post', truncating='post')\n",
    "\n",
    "print(X_train.shape)\n",
    "print(y_train.shape)\n",
    "print(X_test.shape)\n",
    "print(y_test.shape)\n",
    "print(X_val.shape)\n",
    "print(y_val.shape)\n",
    "print(y_possible.shape)"
   ]
  },
  {
   "cell_type": "markdown",
   "metadata": {},
   "source": [
    "Previously, we found out that the GRU performed really better than LSTM and SimpleRNN. As a result we will focus on this model to improve it to generate correct sequences\n",
    "\n",
    "## Test on GRU"
   ]
  },
  {
   "cell_type": "markdown",
   "metadata": {},
   "source": [
    "During the writing of this notebook, I tried some loss, metrics and optimizer. The following ones are the one fitting the best"
   ]
  },
  {
   "cell_type": "code",
   "execution_count": 6,
   "metadata": {
    "collapsed": true
   },
   "outputs": [],
   "source": [
    "nb_unit = 7\n",
    "inp_shape = (maxlen, 7)\n",
    "loss_ = \"mean_squared_error\"\n",
    "metrics_ = \"mean_squared_error\"\n",
    "optimizer_ = \"Nadam\"\n",
    "nb_epoch = 50\n",
    "batch_size = 64"
   ]
  },
  {
   "cell_type": "code",
   "execution_count": 7,
   "metadata": {
    "collapsed": true
   },
   "outputs": [],
   "source": [
    "model = Sequential()\n",
    "model.add(GRU(units=nb_unit, input_shape=inp_shape, return_sequences=True))\n",
    "model.compile(loss=loss_,\n",
    "              optimizer=optimizer_,\n",
    "              metrics=[metrics_])"
   ]
  },
  {
   "cell_type": "code",
   "execution_count": 8,
   "metadata": {},
   "outputs": [
    {
     "name": "stdout",
     "output_type": "stream",
     "text": [
      "Train on 2048 samples, validate on 256 samples\n",
      "Epoch 1/50\n",
      "2048/2048 [==============================] - 2s - loss: 0.0773 - mean_squared_error: 0.0773 - val_loss: 0.0726 - val_mean_squared_error: 0.0726\n",
      "Epoch 2/50\n",
      "2048/2048 [==============================] - 0s - loss: 0.0692 - mean_squared_error: 0.0692 - val_loss: 0.0667 - val_mean_squared_error: 0.0667\n",
      "Epoch 3/50\n",
      "2048/2048 [==============================] - 0s - loss: 0.0644 - mean_squared_error: 0.0644 - val_loss: 0.0625 - val_mean_squared_error: 0.0625\n",
      "Epoch 4/50\n",
      "2048/2048 [==============================] - 0s - loss: 0.0604 - mean_squared_error: 0.0604 - val_loss: 0.0587 - val_mean_squared_error: 0.0587\n",
      "Epoch 5/50\n",
      "2048/2048 [==============================] - 0s - loss: 0.0569 - mean_squared_error: 0.0569 - val_loss: 0.0554 - val_mean_squared_error: 0.0554\n",
      "Epoch 6/50\n",
      "2048/2048 [==============================] - 0s - loss: 0.0538 - mean_squared_error: 0.0538 - val_loss: 0.0527 - val_mean_squared_error: 0.0527\n",
      "Epoch 7/50\n",
      "2048/2048 [==============================] - 0s - loss: 0.0514 - mean_squared_error: 0.0514 - val_loss: 0.0505 - val_mean_squared_error: 0.0505\n",
      "Epoch 8/50\n",
      "2048/2048 [==============================] - 0s - loss: 0.0493 - mean_squared_error: 0.0493 - val_loss: 0.0486 - val_mean_squared_error: 0.0486\n",
      "Epoch 9/50\n",
      "2048/2048 [==============================] - 0s - loss: 0.0475 - mean_squared_error: 0.0475 - val_loss: 0.0468 - val_mean_squared_error: 0.0468\n",
      "Epoch 10/50\n",
      "2048/2048 [==============================] - 0s - loss: 0.0458 - mean_squared_error: 0.0458 - val_loss: 0.0451 - val_mean_squared_error: 0.0451\n",
      "Epoch 11/50\n",
      "2048/2048 [==============================] - 0s - loss: 0.0442 - mean_squared_error: 0.0442 - val_loss: 0.0436 - val_mean_squared_error: 0.0436\n",
      "Epoch 12/50\n",
      "2048/2048 [==============================] - 0s - loss: 0.0427 - mean_squared_error: 0.0427 - val_loss: 0.0422 - val_mean_squared_error: 0.0422\n",
      "Epoch 13/50\n",
      "2048/2048 [==============================] - 0s - loss: 0.0415 - mean_squared_error: 0.0415 - val_loss: 0.0411 - val_mean_squared_error: 0.0411\n",
      "Epoch 14/50\n",
      "2048/2048 [==============================] - 0s - loss: 0.0405 - mean_squared_error: 0.0405 - val_loss: 0.0402 - val_mean_squared_error: 0.0402\n",
      "Epoch 15/50\n",
      "2048/2048 [==============================] - 0s - loss: 0.0397 - mean_squared_error: 0.0397 - val_loss: 0.0394 - val_mean_squared_error: 0.0394\n",
      "Epoch 16/50\n",
      "2048/2048 [==============================] - 0s - loss: 0.0390 - mean_squared_error: 0.0390 - val_loss: 0.0387 - val_mean_squared_error: 0.0387\n",
      "Epoch 17/50\n",
      "2048/2048 [==============================] - 0s - loss: 0.0384 - mean_squared_error: 0.0384 - val_loss: 0.0381 - val_mean_squared_error: 0.0381\n",
      "Epoch 18/50\n",
      "2048/2048 [==============================] - 0s - loss: 0.0378 - mean_squared_error: 0.0378 - val_loss: 0.0376 - val_mean_squared_error: 0.0376\n",
      "Epoch 19/50\n",
      "2048/2048 [==============================] - 0s - loss: 0.0374 - mean_squared_error: 0.0374 - val_loss: 0.0371 - val_mean_squared_error: 0.0371\n",
      "Epoch 20/50\n",
      "2048/2048 [==============================] - 0s - loss: 0.0369 - mean_squared_error: 0.0369 - val_loss: 0.0367 - val_mean_squared_error: 0.0367\n",
      "Epoch 21/50\n",
      "2048/2048 [==============================] - 0s - loss: 0.0365 - mean_squared_error: 0.0365 - val_loss: 0.0363 - val_mean_squared_error: 0.0363\n",
      "Epoch 22/50\n",
      "2048/2048 [==============================] - 0s - loss: 0.0362 - mean_squared_error: 0.0362 - val_loss: 0.0360 - val_mean_squared_error: 0.0360\n",
      "Epoch 23/50\n",
      "2048/2048 [==============================] - 0s - loss: 0.0358 - mean_squared_error: 0.0358 - val_loss: 0.0357 - val_mean_squared_error: 0.0357\n",
      "Epoch 24/50\n",
      "2048/2048 [==============================] - 0s - loss: 0.0355 - mean_squared_error: 0.0355 - val_loss: 0.0354 - val_mean_squared_error: 0.0354\n",
      "Epoch 25/50\n",
      "2048/2048 [==============================] - 0s - loss: 0.0353 - mean_squared_error: 0.0353 - val_loss: 0.0351 - val_mean_squared_error: 0.0351\n",
      "Epoch 26/50\n",
      "2048/2048 [==============================] - 0s - loss: 0.0350 - mean_squared_error: 0.0350 - val_loss: 0.0349 - val_mean_squared_error: 0.0349\n",
      "Epoch 27/50\n",
      "2048/2048 [==============================] - 0s - loss: 0.0348 - mean_squared_error: 0.0348 - val_loss: 0.0347 - val_mean_squared_error: 0.0347\n",
      "Epoch 28/50\n",
      "2048/2048 [==============================] - 0s - loss: 0.0346 - mean_squared_error: 0.0346 - val_loss: 0.0345 - val_mean_squared_error: 0.0345\n",
      "Epoch 29/50\n",
      "2048/2048 [==============================] - 0s - loss: 0.0344 - mean_squared_error: 0.0344 - val_loss: 0.0343 - val_mean_squared_error: 0.0343\n",
      "Epoch 30/50\n",
      "2048/2048 [==============================] - 0s - loss: 0.0343 - mean_squared_error: 0.0343 - val_loss: 0.0342 - val_mean_squared_error: 0.0342\n",
      "Epoch 31/50\n",
      "2048/2048 [==============================] - 0s - loss: 0.0341 - mean_squared_error: 0.0341 - val_loss: 0.0340 - val_mean_squared_error: 0.0340\n",
      "Epoch 32/50\n",
      "2048/2048 [==============================] - 0s - loss: 0.0340 - mean_squared_error: 0.0340 - val_loss: 0.0338 - val_mean_squared_error: 0.0338\n",
      "Epoch 33/50\n",
      "2048/2048 [==============================] - 0s - loss: 0.0338 - mean_squared_error: 0.0338 - val_loss: 0.0337 - val_mean_squared_error: 0.0337\n",
      "Epoch 34/50\n",
      "2048/2048 [==============================] - 0s - loss: 0.0337 - mean_squared_error: 0.0337 - val_loss: 0.0336 - val_mean_squared_error: 0.0336\n",
      "Epoch 35/50\n",
      "2048/2048 [==============================] - 0s - loss: 0.0336 - mean_squared_error: 0.0336 - val_loss: 0.0335 - val_mean_squared_error: 0.0335\n",
      "Epoch 36/50\n",
      "2048/2048 [==============================] - 0s - loss: 0.0335 - mean_squared_error: 0.0335 - val_loss: 0.0334 - val_mean_squared_error: 0.0334\n",
      "Epoch 37/50\n",
      "2048/2048 [==============================] - 0s - loss: 0.0334 - mean_squared_error: 0.0334 - val_loss: 0.0333 - val_mean_squared_error: 0.0333\n",
      "Epoch 38/50\n",
      "2048/2048 [==============================] - 0s - loss: 0.0332 - mean_squared_error: 0.0332 - val_loss: 0.0332 - val_mean_squared_error: 0.0332\n",
      "Epoch 39/50\n",
      "2048/2048 [==============================] - 0s - loss: 0.0332 - mean_squared_error: 0.0332 - val_loss: 0.0331 - val_mean_squared_error: 0.0331\n",
      "Epoch 40/50\n",
      "2048/2048 [==============================] - 0s - loss: 0.0331 - mean_squared_error: 0.0331 - val_loss: 0.0330 - val_mean_squared_error: 0.0330\n",
      "Epoch 41/50\n",
      "2048/2048 [==============================] - 0s - loss: 0.0330 - mean_squared_error: 0.0330 - val_loss: 0.0329 - val_mean_squared_error: 0.0329\n",
      "Epoch 42/50\n",
      "2048/2048 [==============================] - 0s - loss: 0.0329 - mean_squared_error: 0.0329 - val_loss: 0.0328 - val_mean_squared_error: 0.0328\n",
      "Epoch 43/50\n",
      "2048/2048 [==============================] - 0s - loss: 0.0328 - mean_squared_error: 0.0328 - val_loss: 0.0327 - val_mean_squared_error: 0.0327\n",
      "Epoch 44/50\n",
      "2048/2048 [==============================] - 0s - loss: 0.0328 - mean_squared_error: 0.0328 - val_loss: 0.0327 - val_mean_squared_error: 0.0327\n",
      "Epoch 45/50\n",
      "2048/2048 [==============================] - 0s - loss: 0.0327 - mean_squared_error: 0.0327 - val_loss: 0.0326 - val_mean_squared_error: 0.0326\n",
      "Epoch 46/50\n",
      "2048/2048 [==============================] - 0s - loss: 0.0326 - mean_squared_error: 0.0326 - val_loss: 0.0326 - val_mean_squared_error: 0.0326\n",
      "Epoch 47/50\n",
      "2048/2048 [==============================] - 0s - loss: 0.0326 - mean_squared_error: 0.0326 - val_loss: 0.0325 - val_mean_squared_error: 0.0325\n",
      "Epoch 48/50\n",
      "2048/2048 [==============================] - 0s - loss: 0.0325 - mean_squared_error: 0.0325 - val_loss: 0.0324 - val_mean_squared_error: 0.0324\n",
      "Epoch 49/50\n",
      "2048/2048 [==============================] - 0s - loss: 0.0325 - mean_squared_error: 0.0325 - val_loss: 0.0324 - val_mean_squared_error: 0.0324\n",
      "Epoch 50/50\n",
      "2048/2048 [==============================] - 0s - loss: 0.0324 - mean_squared_error: 0.0324 - val_loss: 0.0324 - val_mean_squared_error: 0.0324\n",
      "_________________________________________________________________\n",
      "Layer (type)                 Output Shape              Param #   \n",
      "=================================================================\n",
      "gru_1 (GRU)                  (None, 30, 7)             315       \n",
      "=================================================================\n",
      "Total params: 315\n",
      "Trainable params: 315\n",
      "Non-trainable params: 0\n",
      "_________________________________________________________________\n",
      "None Training time : 42.230859994888306s\n"
     ]
    }
   ],
   "source": [
    "start = time.time()\n",
    "history = model.fit(X_train, y_train, validation_data=(X_test, y_test), epochs=nb_epoch, batch_size=batch_size)\n",
    "stop = time.time()\n",
    "t = stop-start\n",
    "print(model.summary(), end=\" \")\n",
    "print(\"Training time : {:}s\".format(t))"
   ]
  },
  {
   "cell_type": "markdown",
   "metadata": {},
   "source": [
    "## Evaluation\n",
    "\n",
    "Every models will be evaluated on the fonction designed previously which count on 20 x 100 word generated by the NN, how much are following the rule. But first, let's check if the training is \"over\" by checking the loss"
   ]
  },
  {
   "cell_type": "code",
   "execution_count": 9,
   "metadata": {},
   "outputs": [
    {
     "data": {
      "image/png": "[encoded data removed]",
      "text/plain": [
       "<matplotlib.figure.Figure at 0x22a264f7e48>"
      ]
     },
     "metadata": {},
     "output_type": "display_data"
    }
   ],
   "source": [
    "plt.plot(history.history[\"loss\"], label=\"GRU\")\n",
    "plt.show()"
   ]
  },
  {
   "cell_type": "markdown",
   "metadata": {},
   "source": [
    "The loss is \"stable\" even if it didn't reached yet the best point. We can also take a look to the output based on the X_val we generated"
   ]
  },
  {
   "cell_type": "code",
   "execution_count": 10,
   "metadata": {},
   "outputs": [
    {
     "name": "stdout",
     "output_type": "stream",
     "text": [
      "Input :\n",
      "[[[1 0 0 0 0 0 0]\n",
      "  [0 0 0 0 1 0 0]\n",
      "  [1 0 0 0 0 0 0]\n",
      "  [0 1 0 0 0 0 0]\n",
      "  [0 0 1 0 0 0 0]\n",
      "  [0 0 1 0 0 0 0]\n",
      "  [0 0 0 1 0 0 0]\n",
      "  [0 0 0 1 0 0 0]\n",
      "  [0 1 0 0 0 0 0]\n",
      "  [0 0 0 0 0 1 0]\n",
      "  [0 0 0 0 1 0 0]\n",
      "  [0 0 1 0 0 0 0]\n",
      "  [0 0 0 0 0 0 1]\n",
      "  [0 0 0 0 1 0 0]\n",
      "  [0 0 0 0 0 0 0]\n",
      "  [0 0 0 0 0 0 0]\n",
      "  [0 0 0 0 0 0 0]\n",
      "  [0 0 0 0 0 0 0]\n",
      "  [0 0 0 0 0 0 0]\n",
      "  [0 0 0 0 0 0 0]\n",
      "  [0 0 0 0 0 0 0]\n",
      "  [0 0 0 0 0 0 0]\n",
      "  [0 0 0 0 0 0 0]\n",
      "  [0 0 0 0 0 0 0]\n",
      "  [0 0 0 0 0 0 0]\n",
      "  [0 0 0 0 0 0 0]\n",
      "  [0 0 0 0 0 0 0]\n",
      "  [0 0 0 0 0 0 0]\n",
      "  [0 0 0 0 0 0 0]\n",
      "  [0 0 0 0 0 0 0]]]\n",
      "\n",
      "\n",
      " Output :\n",
      "[[[ 0.004  0.462 -0.119  0.054  0.437 -0.097 -0.187]\n",
      "  [ 0.85   0.127 -0.103 -0.048  0.013  0.089  0.07 ]\n",
      "  [ 0.031  0.719  0.097 -0.063  0.5    0.075 -0.077]\n",
      "  [ 0.034  0.062  0.532  0.246 -0.004  0.07   0.012]\n",
      "  [ 0.024 -0.003  0.603  0.323  0.008  0.06   0.022]\n",
      "  [ 0.016 -0.035  0.638  0.359  0.007  0.048  0.03 ]\n",
      "  [-0.035  0.053  0.119  0.855  0.077  0.023  0.045]\n",
      "  [ 0.019  0.569  0.013 -0.018 -0.012  0.392  0.02 ]\n",
      "  [-0.042  0.567 -0.004  0.001 -0.006  0.415  0.023]\n",
      "  [-0.01  -0.002  0.001 -0.017  0.707  0.325 -0.022]\n",
      "  [-0.059 -0.004  0.116  0.686 -0.022 -0.04   0.288]\n",
      "  [ 0.022  0.054  0.116  0.036 -0.03   0.021  0.623]\n",
      "  [-0.109  0.372 -0.095 -0.007  0.582 -0.038  0.274]\n",
      "  [ 0.053  0.063 -0.048 -0.02   0.011  0.028  0.703]\n",
      "  [ 0.024  0.019 -0.02  -0.032  0.001  0.028  0.007]\n",
      "  [ 0.001  0.007  0.001 -0.014  0.002  0.015  0.003]\n",
      "  [-0.011 -0.001  0.004  0.001  0.001  0.006  0.008]\n",
      "  [-0.009 -0.002  0.001  0.004 -0.001  0.002  0.012]\n",
      "  [-0.004 -0.    -0.002  0.    -0.001  0.003  0.012]\n",
      "  [-0.001  0.    -0.003 -0.002 -0.001  0.003  0.009]\n",
      "  [ 0.     0.    -0.002 -0.003 -0.001  0.003  0.007]\n",
      "  [ 0.001  0.    -0.001 -0.002 -0.001  0.003  0.006]\n",
      "  [ 0.001  0.    -0.001 -0.002 -0.001  0.003  0.005]\n",
      "  [ 0.001  0.    -0.001 -0.001 -0.001  0.002  0.004]\n",
      "  [ 0.001  0.    -0.    -0.001 -0.001  0.002  0.004]\n",
      "  [ 0.001  0.    -0.    -0.001 -0.001  0.002  0.004]\n",
      "  [ 0.001  0.     0.    -0.001 -0.001  0.002  0.004]\n",
      "  [ 0.001  0.     0.    -0.001 -0.001  0.002  0.004]\n",
      "  [ 0.001  0.     0.    -0.    -0.001  0.002  0.004]\n",
      "  [ 0.001  0.     0.    -0.    -0.001  0.002  0.004]]]\n"
     ]
    }
   ],
   "source": [
    "print(\"Input :\")\n",
    "print(X_val)\n",
    "print(\"\\n\\n Output :\")\n",
    "y_pred = model.predict(X_val)\n",
    "print(y_pred)"
   ]
  },
  {
   "cell_type": "markdown",
   "metadata": {},
   "source": [
    "We can also perform the cleaning and compare it to the expected output"
   ]
  },
  {
   "cell_type": "code",
   "execution_count": 11,
   "metadata": {
    "collapsed": true
   },
   "outputs": [],
   "source": [
    "y_pred = np.where(y_pred < 0.1, 0, y_pred)"
   ]
  },
  {
   "cell_type": "code",
   "execution_count": 12,
   "metadata": {},
   "outputs": [
    {
     "name": "stdout",
     "output_type": "stream",
     "text": [
      "[ 0.     0.462  0.     0.     0.437  0.     0.   ] \t [0 1 0 0 1 0 0]\n",
      "[ 0.85   0.127  0.     0.     0.     0.     0.   ] \t [1 0 0 0 0 0 0]\n",
      "[ 0.     0.719  0.     0.     0.5    0.     0.   ] \t [0 1 0 0 1 0 0]\n",
      "[ 0.     0.     0.532  0.246  0.     0.     0.   ] \t [0 0 1 1 0 0 0]\n",
      "[ 0.     0.     0.603  0.323  0.     0.     0.   ] \t [0 0 1 1 0 0 0]\n",
      "[ 0.     0.     0.638  0.359  0.     0.     0.   ] \t [0 0 1 1 0 0 0]\n",
      "[ 0.     0.     0.119  0.855  0.     0.     0.   ] \t [0 0 1 1 0 0 0]\n",
      "[ 0.     0.569  0.     0.     0.     0.392  0.   ] \t [0 1 0 0 0 1 0]\n",
      "[ 0.     0.567  0.     0.     0.     0.415  0.   ] \t [0 1 0 0 0 1 0]\n",
      "[ 0.     0.     0.     0.     0.707  0.325  0.   ] \t [0 0 0 0 1 1 0]\n",
      "[ 0.     0.     0.116  0.686  0.     0.     0.288] \t [0 0 1 1 0 0 0]\n",
      "[ 0.     0.     0.116  0.     0.     0.     0.623] \t [0 0 0 0 0 0 1]\n",
      "[ 0.     0.372  0.     0.     0.582  0.     0.274] \t [0 0 0 0 1 0 0]\n",
      "[ 0.     0.     0.     0.     0.     0.     0.703] \t [0 0 0 0 0 0 1]\n",
      "[ 0.  0.  0.  0.  0.  0.  0.] \t [0 0 0 0 0 0 0]\n",
      "[ 0.  0.  0.  0.  0.  0.  0.] \t [0 0 0 0 0 0 0]\n",
      "[ 0.  0.  0.  0.  0.  0.  0.] \t [0 0 0 0 0 0 0]\n",
      "[ 0.  0.  0.  0.  0.  0.  0.] \t [0 0 0 0 0 0 0]\n",
      "[ 0.  0.  0.  0.  0.  0.  0.] \t [0 0 0 0 0 0 0]\n",
      "[ 0.  0.  0.  0.  0.  0.  0.] \t [0 0 0 0 0 0 0]\n",
      "[ 0.  0.  0.  0.  0.  0.  0.] \t [0 0 0 0 0 0 0]\n",
      "[ 0.  0.  0.  0.  0.  0.  0.] \t [0 0 0 0 0 0 0]\n",
      "[ 0.  0.  0.  0.  0.  0.  0.] \t [0 0 0 0 0 0 0]\n",
      "[ 0.  0.  0.  0.  0.  0.  0.] \t [0 0 0 0 0 0 0]\n",
      "[ 0.  0.  0.  0.  0.  0.  0.] \t [0 0 0 0 0 0 0]\n",
      "[ 0.  0.  0.  0.  0.  0.  0.] \t [0 0 0 0 0 0 0]\n",
      "[ 0.  0.  0.  0.  0.  0.  0.] \t [0 0 0 0 0 0 0]\n",
      "[ 0.  0.  0.  0.  0.  0.  0.] \t [0 0 0 0 0 0 0]\n",
      "[ 0.  0.  0.  0.  0.  0.  0.] \t [0 0 0 0 0 0 0]\n",
      "[ 0.  0.  0.  0.  0.  0.  0.] \t [0 0 0 0 0 0 0]\n"
     ]
    }
   ],
   "source": [
    "for pred, real in zip(y_pred[0], y_possible[0]):\n",
    "    print(pred, \"\\t\", real)"
   ]
  },
  {
   "cell_type": "markdown",
   "metadata": {},
   "source": [
    "We can see that the output is clearly more \"shuffled\". This model starts to show it's own limit. We can check the output on the generation of words"
   ]
  },
  {
   "cell_type": "code",
   "execution_count": 13,
   "metadata": {
    "collapsed": true
   },
   "outputs": [],
   "source": [
    "def is_embedded_word(w):\n",
    "    if w[:2] not in [\"BT\", \"BP\"]:\n",
    "        return False\n",
    "    if reber.in_grammar(w[2:-1]):\n",
    "        return False\n",
    "    if w[-1] not in [\"T\", \"P\"]:\n",
    "        return False\n",
    "    return True\n",
    "\n",
    "def Pick_From_Output(x):\n",
    "    y = np.zeros_like(x)\n",
    "    x = np.where(x < 0.1, 0, x)\n",
    "    x = x[0]/x[0].sum(axis=1)\n",
    "    i = np.random.choice(list(range(7)), size=1, p=x[0])\n",
    "    y[0,0,i] = 1\n",
    "    return y\n",
    "\n",
    "def evaluate(model, nb_word = 1, max_iter = 50):\n",
    "    good_pred = 0\n",
    "    for _ in range(nb_word):\n",
    "        model.reset_states()\n",
    "        first_input = np.array([[[1,0,0,0,0,0,0]]])\n",
    "        word = \"B\"\n",
    "        loop = 0\n",
    "        nextLetter = \"B\"\n",
    "        next_seq = first_input\n",
    "        while nextLetter != \"E\" and loop < max_iter:\n",
    "            y_pred = model.predict(next_seq)\n",
    "            next_seq = Pick_From_Output(y_pred)\n",
    "            nextLetter = reber.sequenceToWord(next_seq[0])\n",
    "            loop += 1\n",
    "            word += nextLetter\n",
    "        if is_embedded_word(word):\n",
    "            good_pred += 1\n",
    "    acc = 100*good_pred/nb_word\n",
    "    print(\"Good prediction : {:.2f}%\".format(acc))\n",
    "    return acc"
   ]
  },
  {
   "cell_type": "code",
   "execution_count": 14,
   "metadata": {
    "collapsed": true
   },
   "outputs": [],
   "source": [
    "newModel = Sequential()\n",
    "newModel.add(GRU(units=7, stateful=True, batch_input_shape=(1,1,7), return_sequences=True))\n",
    "newModel.set_weights(model.get_weights())\n",
    "newModel.compile(loss=loss_,\n",
    "              optimizer=optimizer_,\n",
    "              metrics=[metrics_])"
   ]
  },
  {
   "cell_type": "code",
   "execution_count": 15,
   "metadata": {},
   "outputs": [],
   "source": [
    "# start = time.time()\n",
    "# history2 = newModel.fit(X_train, y_train, validation_data=(X_test, y_test), epochs=nb_epoch, batch_size=batch_size)\n",
    "# stop = time.time()\n",
    "# t2 = stop-start\n",
    "# print(newModel.summary(), end=\" \")\n",
    "# print(\"Training time : {:}s\".format(t2))"
   ]
  },
  {
   "cell_type": "code",
   "execution_count": 16,
   "metadata": {},
   "outputs": [
    {
     "name": "stdout",
     "output_type": "stream",
     "text": [
      "Good prediction : 0.00%\n",
      "Good prediction : 0.00%\n",
      "Good prediction : 0.00%\n",
      "Good prediction : 0.00%\n",
      "Good prediction : 0.00%\n",
      "Good prediction : 0.00%\n",
      "Good prediction : 1.00%\n",
      "Good prediction : 0.00%\n",
      "Good prediction : 0.00%\n",
      "Good prediction : 0.00%\n",
      "Good prediction : 0.00%\n",
      "Good prediction : 0.00%\n",
      "Good prediction : 0.00%\n",
      "Good prediction : 0.00%\n",
      "Good prediction : 0.00%\n",
      "Good prediction : 0.00%\n",
      "Good prediction : 0.00%\n",
      "Good prediction : 0.00%\n",
      "Good prediction : 0.00%\n",
      "Good prediction : 0.00%\n"
     ]
    }
   ],
   "source": [
    "result_GRU = []\n",
    "for _ in range(20):\n",
    "    result_GRU.append(evaluate(newModel, 100, 50))"
   ]
  },
  {
   "cell_type": "markdown",
   "metadata": {},
   "source": [
    "The output is really worse than it was previously. This is due to the more complexe rule behind the embedded words"
   ]
  },
  {
   "cell_type": "code",
   "execution_count": 17,
   "metadata": {},
   "outputs": [
    {
     "data": {
      "image/png": "[encoded data removed]",
      "text/plain": [
       "<matplotlib.figure.Figure at 0x22bc2596160>"
      ]
     },
     "metadata": {},
     "output_type": "display_data"
    }
   ],
   "source": [
    "x = list(range(20))\n",
    "y = [result_GRU]\n",
    "labels = [\"GRU\"]\n",
    "\n",
    "plt.figure(figsize=(12, 12))\n",
    "for y_arr, label in zip(y, labels):\n",
    "    plt.plot(x, y_arr, label=label)\n",
    "\n",
    "plt.legend(bbox_to_anchor=(1.05, 1), loc=2, borderaxespad=0.)\n",
    "plt.show()"
   ]
  },
  {
   "cell_type": "markdown",
   "metadata": {},
   "source": [
    "## Improvements\n",
    "\n",
    "Now let's do the same but with differents topology and features"
   ]
  },
  {
   "cell_type": "code",
   "execution_count": 18,
   "metadata": {
    "collapsed": true
   },
   "outputs": [],
   "source": [
    "nb_unit = 7\n",
    "inp_shape = (maxlen, 7)\n",
    "loss_ = \"mean_squared_error\"\n",
    "metrics_ = \"mean_squared_error\"\n",
    "optimizer_ = \"Nadam\"\n",
    "nb_epoch = 50\n",
    "batch_size = 64"
   ]
  },
  {
   "cell_type": "code",
   "execution_count": 19,
   "metadata": {
    "collapsed": true
   },
   "outputs": [],
   "source": [
    "model = Sequential()\n",
    "model.add(GRU(units=nb_unit, input_shape=inp_shape, return_sequences=True))\n",
    "model.add(Dropout(0.2))\n",
    "model.add(GRU(units=nb_unit, return_sequences=True))\n",
    "model.compile(loss=loss_,\n",
    "              optimizer=optimizer_,\n",
    "              metrics=[metrics_])"
   ]
  },
  {
   "cell_type": "code",
   "execution_count": null,
   "metadata": {},
   "outputs": [
    {
     "name": "stdout",
     "output_type": "stream",
     "text": [
      "_________________________________________________________________\n",
      "Layer (type)                 Output Shape              Param #   \n",
      "=================================================================\n",
      "gru_3 (GRU)                  (None, 30, 7)             315       \n",
      "_________________________________________________________________\n",
      "dropout_1 (Dropout)          (None, 30, 7)             0         \n",
      "_________________________________________________________________\n",
      "gru_4 (GRU)                  (None, 30, 7)             315       \n",
      "=================================================================\n",
      "Total params: 630\n",
      "Trainable params: 630\n",
      "Non-trainable params: 0\n",
      "_________________________________________________________________\n",
      "None Training time : 76.4886372089386s\n"
     ]
    },
    {
     "data": {
      "text/plain": [
       "[<matplotlib.lines.Line2D at 0x22bd93496d8>]"
      ]
     },
     "execution_count": 20,
     "metadata": {},
     "output_type": "execute_result"
    },
    {
     "data": {
      "image/png": "[encoded data removed]",
      "text/plain": [
       "<matplotlib.figure.Figure at 0x22bd931a438>"
      ]
     },
     "metadata": {},
     "output_type": "display_data"
    }
   ],
   "source": [
    "start = time.time()\n",
    "history = model.fit(X_train, y_train, validation_data=(X_test, y_test), epochs=nb_epoch, batch_size=batch_size, verbose=0)\n",
    "stop = time.time()\n",
    "t = stop-start\n",
    "print(model.summary(), end=\" \")\n",
    "print(\"Training time : {:}s\".format(t))\n",
    "plt.plot(history.history[\"loss\"], label=\"GRU\")"
   ]
  },
  {
   "cell_type": "code",
   "execution_count": null,
   "metadata": {},
   "outputs": [
    {
     "name": "stderr",
     "output_type": "stream",
     "text": [
      "C:\\Anaconda\\lib\\site-packages\\ipykernel_launcher.py:13: RuntimeWarning: invalid value encountered in true_divide\n",
      "  del sys.path[0]\n",
      "C:\\Anaconda\\lib\\site-packages\\ipykernel_launcher.py:14: RuntimeWarning: invalid value encountered in less\n",
      "  \n"
     ]
    },
    {
     "name": "stdout",
     "output_type": "stream",
     "text": [
      "Good prediction : 0.00%\n",
      "Good prediction : 0.00%\n",
      "Good prediction : 0.00%\n",
      "Good prediction : 0.00%\n",
      "Good prediction : 0.00%\n",
      "Good prediction : 0.00%\n",
      "Good prediction : 1.00%\n",
      "Good prediction : 0.00%\n",
      "Good prediction : 0.00%\n",
      "Good prediction : 0.00%\n"
     ]
    }
   ],
   "source": [
    "newModel = Sequential()\n",
    "newModel.add(GRU(units=7, stateful=True, batch_input_shape=(1,1,7), return_sequences=True))\n",
    "newModel.add(GRU(units=nb_unit, return_sequences=True))\n",
    "newModel.set_weights(model.get_weights())\n",
    "\n",
    "result_GRU = []\n",
    "for _ in range(20):\n",
    "    result_GRU.append(evaluate(newModel, 100, 50))\n",
    "\n",
    "plt.plot(list(range(20)), result_GRU)\n",
    "plt.show()"
   ]
  },
  {
   "cell_type": "markdown",
   "metadata": {},
   "source": [
    "## Conclusion\n",
    "\n",
    "IUn this workbook, we started to go through RNN. We check simple model of both LSTM, GRU and SimpleRNN to check how fast and well they learn. On this example GRU outperform other models for 2 reasons:\n",
    "<li>LSTM are better for long sequence memory. On this short example, the generator jumped from a node to another one with the same letter (see red arrow below) <img src=\"reber_jump.png\"/>. In fact, it outputs a too high probability of those non-allowed rules and the \"PickOne\" function had risks to pick it</li>\n",
    "<li>Simple RNN are not strong enougth with 1 hidden layer to \"remember\" all those rules. We need a longer NN which is also longer to train. This simpleRNN is faster but nearly never used anymore as it perform very poorly on lot of cases</li>"
   ]
  },
  {
   "cell_type": "markdown",
   "metadata": {},
   "source": [
    "## Going further\n",
    "\n",
    "On a future notebook, we will explore Embedded Reber but using deeper RNNs"
   ]
  }
 ],
 "metadata": {
  "kernelspec": {
   "display_name": "Python 3",
   "language": "python",
   "name": "python3"
  },
  "language_info": {
   "codemirror_mode": {
    "name": "ipython",
    "version": 3
   },
   "file_extension": ".py",
   "mimetype": "text/x-python",
   "name": "python",
   "nbconvert_exporter": "python",
   "pygments_lexer": "ipython3",
   "version": "3.6.1"
  }
 },
 "nbformat": 4,
 "nbformat_minor": 2
}
