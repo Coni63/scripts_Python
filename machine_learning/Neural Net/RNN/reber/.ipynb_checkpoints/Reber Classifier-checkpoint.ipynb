{
 "cells": [
  {
   "cell_type": "markdown",
   "metadata": {},
   "source": [
    "# REBER Grammar with RNN\n",
    "\n",
    "This workbook follows the notebook regarding <a href=\"https://www.willamette.edu/~gorr/classes/cs449/reber.html\" target=\"_blank\">Reber's grammar</a> words. In this one we gonna train a classifier to validate Embedded Reber's word\n",
    "\n",
    "## What is a Reber Word ?\n",
    "\n",
    "The embedded version Reber word is a word following the graph:\n",
    "\n",
    "<img src=\"embreber.gif\"/>"
   ]
  },
  {
   "cell_type": "code",
   "execution_count": 49,
   "metadata": {},
   "outputs": [],
   "source": [
    "import numpy as np\n",
    "import matplotlib.pyplot as plt\n",
    "import time\n",
    "import random\n",
    "\n",
    "import create_dataset as reber\n",
    "\n",
    "from keras.datasets import imdb\n",
    "from keras.models import Sequential\n",
    "from keras.layers import Dense, Dropout, LSTM, SimpleRNN, GRU, TimeDistributed,Activation\n",
    "from keras.layers.embeddings import Embedding\n",
    "from keras.preprocessing import sequence\n",
    "\n",
    "np.set_printoptions(precision=3)\n",
    "np.set_printoptions(suppress=True)\n",
    "\n",
    "%matplotlib inline"
   ]
  },
  {
   "cell_type": "markdown",
   "metadata": {},
   "source": [
    "## Preparation of datas\n",
    "\n",
    "We discover on the previous notebook how to generate a dataset for the training. We just gonna change it to use Embedded Word"
   ]
  },
  {
   "cell_type": "code",
   "execution_count": 2,
   "metadata": {},
   "outputs": [
    {
     "name": "stdout",
     "output_type": "stream",
     "text": [
      "BTBTSSSXXVPSET\n"
     ]
    }
   ],
   "source": [
    "x, y = reber.get_one_embedded_example(minLength=10)\n",
    "print(reber.sequenceToWord(x))"
   ]
  },
  {
   "cell_type": "code",
   "execution_count": 3,
   "metadata": {},
   "outputs": [
    {
     "data": {
      "text/plain": [
       "True"
      ]
     },
     "execution_count": 3,
     "metadata": {},
     "output_type": "execute_result"
    }
   ],
   "source": [
    "reber.in_grammar(reber.sequenceToWord(x)[2:-1])"
   ]
  },
  {
   "cell_type": "code",
   "execution_count": 6,
   "metadata": {},
   "outputs": [
    {
     "name": "stdout",
     "output_type": "stream",
     "text": [
      "[array([ 1.,  0.,  0.,  0.,  0.,  0.,  0.])]\n",
      "BTBTSSSXXVPSET\n"
     ]
    }
   ],
   "source": [
    "print(reber.get_char_one_hot(\"B\"))\n",
    "print(reber.sequenceToWord(x))"
   ]
  },
  {
   "cell_type": "code",
   "execution_count": 4,
   "metadata": {},
   "outputs": [
    {
     "ename": "SyntaxError",
     "evalue": "invalid syntax (<ipython-input-4-42f009fe647e>, line 11)",
     "output_type": "error",
     "traceback": [
      "\u001b[1;36m  File \u001b[1;32m\"<ipython-input-4-42f009fe647e>\"\u001b[1;36m, line \u001b[1;32m11\u001b[0m\n\u001b[1;33m    return None #bad_seq\u001b[0m\n\u001b[1;37m         ^\u001b[0m\n\u001b[1;31mSyntaxError\u001b[0m\u001b[1;31m:\u001b[0m invalid syntax\n"
     ]
    }
   ],
   "source": [
    "\n",
    "#     bad_char = 2 #random.choice(list(set(\"0123456\") - set(np.argmax(selected_seq))))\n",
    "#     bad_seq = np.copy(good_seq)\n",
    "#     bad_seq[index, np.argmax(selected_seq)] = 0\n",
    "#     bad_seq[index, bad_char] = 1\n",
    "    return None #bad_seq"
   ]
  },
  {
   "cell_type": "code",
   "execution_count": 23,
   "metadata": {},
   "outputs": [
    {
     "name": "stdout",
     "output_type": "stream",
     "text": [
      "BTBTSSXXVPXVVET\n",
      "BTBTSPXXVPXVVET\n"
     ]
    }
   ],
   "source": [
    "def set_wrong(good_seq):\n",
    "    index = np.random.randint(len(good_seq))\n",
    "    letter = reber.sequenceToWord([good_seq[index]])\n",
    "    new_letter = random.choice(list(set(\"BTSXPVE\") - set(letter)))\n",
    "    bad_seq = good_seq.copy()\n",
    "    bad_seq[index] = np.array(reber.get_char_one_hot(new_letter)[0])\n",
    "    return bad_seq\n",
    "\n",
    "x, y = reber.get_one_embedded_example(minLength=10)\n",
    "print(reber.sequenceToWord(x))\n",
    "x2 = set_wrong(x)\n",
    "print(reber.sequenceToWord(x2))"
   ]
  },
  {
   "cell_type": "markdown",
   "metadata": {},
   "source": [
    "To generate the target, we can reuse the previous fonction to generate the output based on the input"
   ]
  },
  {
   "cell_type": "markdown",
   "metadata": {},
   "source": [
    "So now let's build our dataset. Due to the embedding features, the maxlen for the padding will be increase to 30"
   ]
  },
  {
   "cell_type": "code",
   "execution_count": 126,
   "metadata": {},
   "outputs": [
    {
     "name": "stdout",
     "output_type": "stream",
     "text": [
      "(1000, 30, 7)\n",
      "(1000, 2)\n",
      "(200, 30, 7)\n",
      "(200, 2)\n"
     ]
    }
   ],
   "source": [
    "maxlen = 30\n",
    "min_length = 10\n",
    "\n",
    "X_train, y_train = [], []\n",
    "X_test, y_test = [], []\n",
    "X_val, y_val = [], []\n",
    "y_possible = []\n",
    "\n",
    "for i in range(1000):\n",
    "    x, y = reber.get_one_embedded_example(minLength=min_length)\n",
    "    res = [1]\n",
    "    if random.random() < 0.5:\n",
    "        x = set_wrong(x)\n",
    "        res = [0]\n",
    "    X_train.append(x)\n",
    "    y_train.append(res)\n",
    "\n",
    "for i in range(200):\n",
    "    x, y = reber.get_one_embedded_example(minLength=min_length)\n",
    "    res = [1]\n",
    "    if random.random() < 0.5:\n",
    "        x = set_wrong(x)\n",
    "        res = [0]\n",
    "    X_test.append(x)\n",
    "    y_test.append(res)  \n",
    "    \n",
    "X_train = np.array(X_train)\n",
    "y_train = np.array(y_train)\n",
    "X_test = np.array(X_test)\n",
    "y_test = np.array(y_test)\n",
    "\n",
    "X_train = sequence.pad_sequences(X_train, maxlen=maxlen, padding='post', truncating='post')\n",
    "#y_train = sequence.pad_sequences(y_train, maxlen=maxlen)\n",
    "X_test = sequence.pad_sequences(X_test, maxlen=maxlen, padding='post', truncating='post')\n",
    "#y_test = sequence.pad_sequences(y_test, maxlen=maxlen)\n",
    "\n",
    "print(X_train.shape)\n",
    "print(y_train.shape)\n",
    "print(X_test.shape)\n",
    "print(y_test.shape)"
   ]
  },
  {
   "cell_type": "code",
   "execution_count": 127,
   "metadata": {},
   "outputs": [
    {
     "name": "stdout",
     "output_type": "stream",
     "text": [
      "[112  88]\n"
     ]
    }
   ],
   "source": [
    "#print(y_test)\n",
    "print(np.sum(y_test, axis=0))"
   ]
  },
  {
   "cell_type": "markdown",
   "metadata": {},
   "source": [
    "Previously, we found out that the GRU performed really better than LSTM and SimpleRNN. As a result we will focus on this model to improve it to generate correct sequences\n",
    "\n",
    "## Test on GRU"
   ]
  },
  {
   "cell_type": "markdown",
   "metadata": {},
   "source": [
    "During the writing of this notebook, I tried some loss, metrics and optimizer. The following ones are the one fitting the best"
   ]
  },
  {
   "cell_type": "code",
   "execution_count": 128,
   "metadata": {
    "collapsed": true
   },
   "outputs": [],
   "source": [
    "nb_unit = 7\n",
    "inp_shape = (maxlen, 7)\n",
    "loss_ = \"mean_squared_error\"\n",
    "metrics_ = \"mean_squared_error\"\n",
    "optimizer_ = \"Nadam\"\n",
    "nb_epoch = 1000\n",
    "batch_size = 1024"
   ]
  },
  {
   "cell_type": "code",
   "execution_count": 199,
   "metadata": {},
   "outputs": [
    {
     "ename": "AssertionError",
     "evalue": "",
     "output_type": "error",
     "traceback": [
      "\u001b[1;31m---------------------------------------------------------------------------\u001b[0m",
      "\u001b[1;31mAssertionError\u001b[0m                            Traceback (most recent call last)",
      "\u001b[1;32m<ipython-input-199-78b7d68621eb>\u001b[0m in \u001b[0;36m<module>\u001b[1;34m()\u001b[0m\n\u001b[0;32m      1\u001b[0m \u001b[0mmodel\u001b[0m \u001b[1;33m=\u001b[0m \u001b[0mSequential\u001b[0m\u001b[1;33m(\u001b[0m\u001b[1;33m)\u001b[0m\u001b[1;33m\u001b[0m\u001b[0m\n\u001b[0;32m      2\u001b[0m \u001b[0mmodel\u001b[0m\u001b[1;33m.\u001b[0m\u001b[0madd\u001b[0m\u001b[1;33m(\u001b[0m\u001b[0mGRU\u001b[0m\u001b[1;33m(\u001b[0m\u001b[0munits\u001b[0m\u001b[1;33m=\u001b[0m\u001b[1;36m7\u001b[0m\u001b[1;33m,\u001b[0m \u001b[0minput_shape\u001b[0m\u001b[1;33m=\u001b[0m\u001b[0minp_shape\u001b[0m\u001b[1;33m,\u001b[0m \u001b[0mactivation\u001b[0m \u001b[1;33m=\u001b[0m \u001b[1;34m'softmax'\u001b[0m\u001b[1;33m)\u001b[0m\u001b[1;33m)\u001b[0m \u001b[1;31m#return_sequences=True\u001b[0m\u001b[1;33m\u001b[0m\u001b[0m\n\u001b[1;32m----> 3\u001b[1;33m \u001b[0mmodel\u001b[0m\u001b[1;33m.\u001b[0m\u001b[0madd\u001b[0m\u001b[1;33m(\u001b[0m\u001b[0mTimeDistributed\u001b[0m\u001b[1;33m(\u001b[0m\u001b[0mDense\u001b[0m\u001b[1;33m(\u001b[0m\u001b[1;36m2\u001b[0m\u001b[1;33m)\u001b[0m\u001b[1;33m,\u001b[0m \u001b[0minput_shape\u001b[0m\u001b[1;33m=\u001b[0m\u001b[1;33m(\u001b[0m\u001b[1;36m30\u001b[0m\u001b[1;33m,\u001b[0m\u001b[1;36m1\u001b[0m\u001b[1;33m)\u001b[0m\u001b[1;33m)\u001b[0m\u001b[1;33m)\u001b[0m  \u001b[1;31m#\u001b[0m\u001b[1;33m\u001b[0m\u001b[0m\n\u001b[0m\u001b[0;32m      4\u001b[0m \u001b[0mmodel\u001b[0m\u001b[1;33m.\u001b[0m\u001b[0madd\u001b[0m\u001b[1;33m(\u001b[0m\u001b[0mActivation\u001b[0m\u001b[1;33m(\u001b[0m\u001b[1;34m'sigmoid'\u001b[0m\u001b[1;33m)\u001b[0m\u001b[1;33m)\u001b[0m\u001b[1;33m\u001b[0m\u001b[0m\n\u001b[0;32m      5\u001b[0m \u001b[0mmodel\u001b[0m\u001b[1;33m.\u001b[0m\u001b[0mcompile\u001b[0m\u001b[1;33m(\u001b[0m\u001b[0mloss\u001b[0m\u001b[1;33m=\u001b[0m\u001b[1;34m'binary_crossentropy'\u001b[0m\u001b[1;33m,\u001b[0m \u001b[0moptimizer\u001b[0m\u001b[1;33m=\u001b[0m\u001b[1;34m'Nadam'\u001b[0m\u001b[1;33m,\u001b[0m \u001b[0mmetrics\u001b[0m\u001b[1;33m=\u001b[0m\u001b[1;33m[\u001b[0m\u001b[1;34m'accuracy'\u001b[0m\u001b[1;33m]\u001b[0m\u001b[1;33m)\u001b[0m\u001b[1;33m\u001b[0m\u001b[0m\n",
      "\u001b[1;32mC:\\Anaconda\\lib\\site-packages\\keras\\models.py\u001b[0m in \u001b[0;36madd\u001b[1;34m(self, layer)\u001b[0m\n\u001b[0;32m    473\u001b[0m                           output_shapes=[self.outputs[0]._keras_shape])\n\u001b[0;32m    474\u001b[0m         \u001b[1;32melse\u001b[0m\u001b[1;33m:\u001b[0m\u001b[1;33m\u001b[0m\u001b[0m\n\u001b[1;32m--> 475\u001b[1;33m             \u001b[0moutput_tensor\u001b[0m \u001b[1;33m=\u001b[0m \u001b[0mlayer\u001b[0m\u001b[1;33m(\u001b[0m\u001b[0mself\u001b[0m\u001b[1;33m.\u001b[0m\u001b[0moutputs\u001b[0m\u001b[1;33m[\u001b[0m\u001b[1;36m0\u001b[0m\u001b[1;33m]\u001b[0m\u001b[1;33m)\u001b[0m\u001b[1;33m\u001b[0m\u001b[0m\n\u001b[0m\u001b[0;32m    476\u001b[0m             \u001b[1;32mif\u001b[0m \u001b[0misinstance\u001b[0m\u001b[1;33m(\u001b[0m\u001b[0moutput_tensor\u001b[0m\u001b[1;33m,\u001b[0m \u001b[0mlist\u001b[0m\u001b[1;33m)\u001b[0m\u001b[1;33m:\u001b[0m\u001b[1;33m\u001b[0m\u001b[0m\n\u001b[0;32m    477\u001b[0m                 raise TypeError('All layers in a Sequential model '\n",
      "\u001b[1;32mC:\\Anaconda\\lib\\site-packages\\keras\\engine\\topology.py\u001b[0m in \u001b[0;36m__call__\u001b[1;34m(self, inputs, **kwargs)\u001b[0m\n\u001b[0;32m    573\u001b[0m                                          '`layer.build(batch_input_shape)`')\n\u001b[0;32m    574\u001b[0m                 \u001b[1;32mif\u001b[0m \u001b[0mlen\u001b[0m\u001b[1;33m(\u001b[0m\u001b[0minput_shapes\u001b[0m\u001b[1;33m)\u001b[0m \u001b[1;33m==\u001b[0m \u001b[1;36m1\u001b[0m\u001b[1;33m:\u001b[0m\u001b[1;33m\u001b[0m\u001b[0m\n\u001b[1;32m--> 575\u001b[1;33m                     \u001b[0mself\u001b[0m\u001b[1;33m.\u001b[0m\u001b[0mbuild\u001b[0m\u001b[1;33m(\u001b[0m\u001b[0minput_shapes\u001b[0m\u001b[1;33m[\u001b[0m\u001b[1;36m0\u001b[0m\u001b[1;33m]\u001b[0m\u001b[1;33m)\u001b[0m\u001b[1;33m\u001b[0m\u001b[0m\n\u001b[0m\u001b[0;32m    576\u001b[0m                 \u001b[1;32melse\u001b[0m\u001b[1;33m:\u001b[0m\u001b[1;33m\u001b[0m\u001b[0m\n\u001b[0;32m    577\u001b[0m                     \u001b[0mself\u001b[0m\u001b[1;33m.\u001b[0m\u001b[0mbuild\u001b[0m\u001b[1;33m(\u001b[0m\u001b[0minput_shapes\u001b[0m\u001b[1;33m)\u001b[0m\u001b[1;33m\u001b[0m\u001b[0m\n",
      "\u001b[1;32mC:\\Anaconda\\lib\\site-packages\\keras\\layers\\wrappers.py\u001b[0m in \u001b[0;36mbuild\u001b[1;34m(self, input_shape)\u001b[0m\n\u001b[0;32m    152\u001b[0m \u001b[1;33m\u001b[0m\u001b[0m\n\u001b[0;32m    153\u001b[0m     \u001b[1;32mdef\u001b[0m \u001b[0mbuild\u001b[0m\u001b[1;33m(\u001b[0m\u001b[0mself\u001b[0m\u001b[1;33m,\u001b[0m \u001b[0minput_shape\u001b[0m\u001b[1;33m)\u001b[0m\u001b[1;33m:\u001b[0m\u001b[1;33m\u001b[0m\u001b[0m\n\u001b[1;32m--> 154\u001b[1;33m         \u001b[1;32massert\u001b[0m \u001b[0mlen\u001b[0m\u001b[1;33m(\u001b[0m\u001b[0minput_shape\u001b[0m\u001b[1;33m)\u001b[0m \u001b[1;33m>=\u001b[0m \u001b[1;36m3\u001b[0m\u001b[1;33m\u001b[0m\u001b[0m\n\u001b[0m\u001b[0;32m    155\u001b[0m         \u001b[0mself\u001b[0m\u001b[1;33m.\u001b[0m\u001b[0minput_spec\u001b[0m \u001b[1;33m=\u001b[0m \u001b[0mInputSpec\u001b[0m\u001b[1;33m(\u001b[0m\u001b[0mshape\u001b[0m\u001b[1;33m=\u001b[0m\u001b[0minput_shape\u001b[0m\u001b[1;33m)\u001b[0m\u001b[1;33m\u001b[0m\u001b[0m\n\u001b[0;32m    156\u001b[0m         \u001b[0mchild_input_shape\u001b[0m \u001b[1;33m=\u001b[0m \u001b[1;33m(\u001b[0m\u001b[0minput_shape\u001b[0m\u001b[1;33m[\u001b[0m\u001b[1;36m0\u001b[0m\u001b[1;33m]\u001b[0m\u001b[1;33m,\u001b[0m\u001b[1;33m)\u001b[0m \u001b[1;33m+\u001b[0m \u001b[0minput_shape\u001b[0m\u001b[1;33m[\u001b[0m\u001b[1;36m2\u001b[0m\u001b[1;33m:\u001b[0m\u001b[1;33m]\u001b[0m\u001b[1;33m\u001b[0m\u001b[0m\n",
      "\u001b[1;31mAssertionError\u001b[0m: "
     ]
    }
   ],
   "source": [
    "model = Sequential()\n",
    "model.add(GRU(units=7, input_shape=inp_shape, activation = 'softmax')) #return_sequences=True\n",
    "model.add(TimeDistributed(Dense(2), input_shape=(30,1)))  #\n",
    "model.add(Activation('sigmoid'))\n",
    "model.compile(loss='binary_crossentropy', optimizer='Nadam', metrics=['accuracy'])"
   ]
  },
  {
   "cell_type": "code",
   "execution_count": 197,
   "metadata": {},
   "outputs": [
    {
     "name": "stdout",
     "output_type": "stream",
     "text": [
      "Inputs: (None, 30, 7)\n",
      "Outputs: (None, 30, 2)\n",
      "Actual input: (1000, 30, 7)\n",
      "Actual output: (1000, 2)\n"
     ]
    }
   ],
   "source": [
    "print(\"Inputs: {}\".format(model.input_shape))\n",
    "print(\"Outputs: {}\".format(model.output_shape))\n",
    "print(\"Actual input: {}\".format(X_train.shape))\n",
    "print(\"Actual output: {}\".format(y_train.shape))"
   ]
  },
  {
   "cell_type": "code",
   "execution_count": 198,
   "metadata": {},
   "outputs": [
    {
     "ename": "ValueError",
     "evalue": "Error when checking target: expected activation_20 to have 3 dimensions, but got array with shape (1000, 2)",
     "output_type": "error",
     "traceback": [
      "\u001b[1;31m---------------------------------------------------------------------------\u001b[0m",
      "\u001b[1;31mValueError\u001b[0m                                Traceback (most recent call last)",
      "\u001b[1;32m<ipython-input-198-b9f0262f044c>\u001b[0m in \u001b[0;36m<module>\u001b[1;34m()\u001b[0m\n\u001b[0;32m      1\u001b[0m \u001b[0mstart\u001b[0m \u001b[1;33m=\u001b[0m \u001b[0mtime\u001b[0m\u001b[1;33m.\u001b[0m\u001b[0mtime\u001b[0m\u001b[1;33m(\u001b[0m\u001b[1;33m)\u001b[0m\u001b[1;33m\u001b[0m\u001b[0m\n\u001b[1;32m----> 2\u001b[1;33m \u001b[0mhistory\u001b[0m \u001b[1;33m=\u001b[0m \u001b[0mmodel\u001b[0m\u001b[1;33m.\u001b[0m\u001b[0mfit\u001b[0m\u001b[1;33m(\u001b[0m\u001b[0mX_train\u001b[0m\u001b[1;33m,\u001b[0m \u001b[0my_train\u001b[0m\u001b[1;33m,\u001b[0m \u001b[0mvalidation_data\u001b[0m\u001b[1;33m=\u001b[0m\u001b[1;33m(\u001b[0m\u001b[0mX_test\u001b[0m\u001b[1;33m,\u001b[0m \u001b[0my_test\u001b[0m\u001b[1;33m)\u001b[0m\u001b[1;33m,\u001b[0m \u001b[0mepochs\u001b[0m\u001b[1;33m=\u001b[0m\u001b[1;36m20\u001b[0m\u001b[1;33m,\u001b[0m \u001b[0mbatch_size\u001b[0m\u001b[1;33m=\u001b[0m\u001b[1;36m500\u001b[0m\u001b[1;33m)\u001b[0m\u001b[1;33m\u001b[0m\u001b[0m\n\u001b[0m\u001b[0;32m      3\u001b[0m \u001b[0mstop\u001b[0m \u001b[1;33m=\u001b[0m \u001b[0mtime\u001b[0m\u001b[1;33m.\u001b[0m\u001b[0mtime\u001b[0m\u001b[1;33m(\u001b[0m\u001b[1;33m)\u001b[0m\u001b[1;33m\u001b[0m\u001b[0m\n\u001b[0;32m      4\u001b[0m \u001b[0mt\u001b[0m \u001b[1;33m=\u001b[0m \u001b[0mstop\u001b[0m\u001b[1;33m-\u001b[0m\u001b[0mstart\u001b[0m\u001b[1;33m\u001b[0m\u001b[0m\n\u001b[0;32m      5\u001b[0m \u001b[0mprint\u001b[0m\u001b[1;33m(\u001b[0m\u001b[0mmodel\u001b[0m\u001b[1;33m.\u001b[0m\u001b[0msummary\u001b[0m\u001b[1;33m(\u001b[0m\u001b[1;33m)\u001b[0m\u001b[1;33m,\u001b[0m \u001b[0mend\u001b[0m\u001b[1;33m=\u001b[0m\u001b[1;34m\" \"\u001b[0m\u001b[1;33m)\u001b[0m\u001b[1;33m\u001b[0m\u001b[0m\n",
      "\u001b[1;32mC:\\Anaconda\\lib\\site-packages\\keras\\models.py\u001b[0m in \u001b[0;36mfit\u001b[1;34m(self, x, y, batch_size, epochs, verbose, callbacks, validation_split, validation_data, shuffle, class_weight, sample_weight, initial_epoch, **kwargs)\u001b[0m\n\u001b[0;32m    865\u001b[0m                               \u001b[0mclass_weight\u001b[0m\u001b[1;33m=\u001b[0m\u001b[0mclass_weight\u001b[0m\u001b[1;33m,\u001b[0m\u001b[1;33m\u001b[0m\u001b[0m\n\u001b[0;32m    866\u001b[0m                               \u001b[0msample_weight\u001b[0m\u001b[1;33m=\u001b[0m\u001b[0msample_weight\u001b[0m\u001b[1;33m,\u001b[0m\u001b[1;33m\u001b[0m\u001b[0m\n\u001b[1;32m--> 867\u001b[1;33m                               initial_epoch=initial_epoch)\n\u001b[0m\u001b[0;32m    868\u001b[0m \u001b[1;33m\u001b[0m\u001b[0m\n\u001b[0;32m    869\u001b[0m     def evaluate(self, x, y, batch_size=32, verbose=1,\n",
      "\u001b[1;32mC:\\Anaconda\\lib\\site-packages\\keras\\engine\\training.py\u001b[0m in \u001b[0;36mfit\u001b[1;34m(self, x, y, batch_size, epochs, verbose, callbacks, validation_split, validation_data, shuffle, class_weight, sample_weight, initial_epoch, steps_per_epoch, validation_steps, **kwargs)\u001b[0m\n\u001b[0;32m   1520\u001b[0m             \u001b[0mclass_weight\u001b[0m\u001b[1;33m=\u001b[0m\u001b[0mclass_weight\u001b[0m\u001b[1;33m,\u001b[0m\u001b[1;33m\u001b[0m\u001b[0m\n\u001b[0;32m   1521\u001b[0m             \u001b[0mcheck_batch_axis\u001b[0m\u001b[1;33m=\u001b[0m\u001b[1;32mFalse\u001b[0m\u001b[1;33m,\u001b[0m\u001b[1;33m\u001b[0m\u001b[0m\n\u001b[1;32m-> 1522\u001b[1;33m             batch_size=batch_size)\n\u001b[0m\u001b[0;32m   1523\u001b[0m         \u001b[1;31m# Prepare validation data.\u001b[0m\u001b[1;33m\u001b[0m\u001b[1;33m\u001b[0m\u001b[0m\n\u001b[0;32m   1524\u001b[0m         \u001b[0mdo_validation\u001b[0m \u001b[1;33m=\u001b[0m \u001b[1;32mFalse\u001b[0m\u001b[1;33m\u001b[0m\u001b[0m\n",
      "\u001b[1;32mC:\\Anaconda\\lib\\site-packages\\keras\\engine\\training.py\u001b[0m in \u001b[0;36m_standardize_user_data\u001b[1;34m(self, x, y, sample_weight, class_weight, check_batch_axis, batch_size)\u001b[0m\n\u001b[0;32m   1380\u001b[0m                                     \u001b[0moutput_shapes\u001b[0m\u001b[1;33m,\u001b[0m\u001b[1;33m\u001b[0m\u001b[0m\n\u001b[0;32m   1381\u001b[0m                                     \u001b[0mcheck_batch_axis\u001b[0m\u001b[1;33m=\u001b[0m\u001b[1;32mFalse\u001b[0m\u001b[1;33m,\u001b[0m\u001b[1;33m\u001b[0m\u001b[0m\n\u001b[1;32m-> 1382\u001b[1;33m                                     exception_prefix='target')\n\u001b[0m\u001b[0;32m   1383\u001b[0m         sample_weights = _standardize_sample_weights(sample_weight,\n\u001b[0;32m   1384\u001b[0m                                                      self._feed_output_names)\n",
      "\u001b[1;32mC:\\Anaconda\\lib\\site-packages\\keras\\engine\\training.py\u001b[0m in \u001b[0;36m_standardize_input_data\u001b[1;34m(data, names, shapes, check_batch_axis, exception_prefix)\u001b[0m\n\u001b[0;32m    130\u001b[0m                                  \u001b[1;34m' to have '\u001b[0m \u001b[1;33m+\u001b[0m \u001b[0mstr\u001b[0m\u001b[1;33m(\u001b[0m\u001b[0mlen\u001b[0m\u001b[1;33m(\u001b[0m\u001b[0mshapes\u001b[0m\u001b[1;33m[\u001b[0m\u001b[0mi\u001b[0m\u001b[1;33m]\u001b[0m\u001b[1;33m)\u001b[0m\u001b[1;33m)\u001b[0m \u001b[1;33m+\u001b[0m\u001b[1;33m\u001b[0m\u001b[0m\n\u001b[0;32m    131\u001b[0m                                  \u001b[1;34m' dimensions, but got array with shape '\u001b[0m \u001b[1;33m+\u001b[0m\u001b[1;33m\u001b[0m\u001b[0m\n\u001b[1;32m--> 132\u001b[1;33m                                  str(array.shape))\n\u001b[0m\u001b[0;32m    133\u001b[0m             \u001b[1;32mfor\u001b[0m \u001b[0mj\u001b[0m\u001b[1;33m,\u001b[0m \u001b[1;33m(\u001b[0m\u001b[0mdim\u001b[0m\u001b[1;33m,\u001b[0m \u001b[0mref_dim\u001b[0m\u001b[1;33m)\u001b[0m \u001b[1;32min\u001b[0m \u001b[0menumerate\u001b[0m\u001b[1;33m(\u001b[0m\u001b[0mzip\u001b[0m\u001b[1;33m(\u001b[0m\u001b[0marray\u001b[0m\u001b[1;33m.\u001b[0m\u001b[0mshape\u001b[0m\u001b[1;33m,\u001b[0m \u001b[0mshapes\u001b[0m\u001b[1;33m[\u001b[0m\u001b[0mi\u001b[0m\u001b[1;33m]\u001b[0m\u001b[1;33m)\u001b[0m\u001b[1;33m)\u001b[0m\u001b[1;33m:\u001b[0m\u001b[1;33m\u001b[0m\u001b[0m\n\u001b[0;32m    134\u001b[0m                 \u001b[1;32mif\u001b[0m \u001b[1;32mnot\u001b[0m \u001b[0mj\u001b[0m \u001b[1;32mand\u001b[0m \u001b[1;32mnot\u001b[0m \u001b[0mcheck_batch_axis\u001b[0m\u001b[1;33m:\u001b[0m\u001b[1;33m\u001b[0m\u001b[0m\n",
      "\u001b[1;31mValueError\u001b[0m: Error when checking target: expected activation_20 to have 3 dimensions, but got array with shape (1000, 2)"
     ]
    }
   ],
   "source": [
    "start = time.time()\n",
    "history = model.fit(X_train, y_train, validation_data=(X_test, y_test), epochs=20, batch_size=500)\n",
    "stop = time.time()\n",
    "t = stop-start\n",
    "print(model.summary(), end=\" \")\n",
    "print(\"Training time : {:}s\".format(t))"
   ]
  },
  {
   "cell_type": "code",
   "execution_count": 185,
   "metadata": {},
   "outputs": [
    {
     "name": "stdout",
     "output_type": "stream",
     "text": [
      "[[ 0.505  0.497]\n",
      " [ 0.5    0.496]\n",
      " [ 0.506  0.496]\n",
      " [ 0.503  0.496]\n",
      " [ 0.505  0.497]\n",
      " [ 0.505  0.496]\n",
      " [ 0.504  0.497]\n",
      " [ 0.504  0.496]\n",
      " [ 0.504  0.496]\n",
      " [ 0.506  0.496]\n",
      " [ 0.506  0.497]\n",
      " [ 0.504  0.496]\n",
      " [ 0.502  0.496]\n",
      " [ 0.504  0.497]\n",
      " [ 0.504  0.496]\n",
      " [ 0.503  0.496]\n",
      " [ 0.502  0.496]\n",
      " [ 0.503  0.497]\n",
      " [ 0.503  0.496]\n",
      " [ 0.504  0.496]\n",
      " [ 0.506  0.497]\n",
      " [ 0.508  0.497]\n",
      " [ 0.508  0.496]\n",
      " [ 0.505  0.496]\n",
      " [ 0.503  0.496]\n",
      " [ 0.505  0.496]\n",
      " [ 0.503  0.496]\n",
      " [ 0.507  0.497]\n",
      " [ 0.505  0.497]\n",
      " [ 0.504  0.496]\n",
      " [ 0.504  0.496]\n",
      " [ 0.504  0.496]\n",
      " [ 0.503  0.496]\n",
      " [ 0.508  0.497]\n",
      " [ 0.503  0.496]\n",
      " [ 0.504  0.496]\n",
      " [ 0.5    0.496]\n",
      " [ 0.505  0.496]\n",
      " [ 0.504  0.496]\n",
      " [ 0.502  0.496]\n",
      " [ 0.503  0.496]\n",
      " [ 0.504  0.496]\n",
      " [ 0.503  0.496]\n",
      " [ 0.503  0.496]\n",
      " [ 0.505  0.496]\n",
      " [ 0.503  0.497]\n",
      " [ 0.505  0.497]\n",
      " [ 0.504  0.496]\n",
      " [ 0.503  0.496]\n",
      " [ 0.498  0.496]\n",
      " [ 0.503  0.497]\n",
      " [ 0.502  0.496]\n",
      " [ 0.505  0.496]\n",
      " [ 0.499  0.496]\n",
      " [ 0.505  0.496]\n",
      " [ 0.503  0.496]\n",
      " [ 0.502  0.496]\n",
      " [ 0.504  0.497]\n",
      " [ 0.505  0.496]\n",
      " [ 0.503  0.497]\n",
      " [ 0.5    0.496]\n",
      " [ 0.504  0.496]\n",
      " [ 0.504  0.496]\n",
      " [ 0.506  0.496]\n",
      " [ 0.503  0.496]\n",
      " [ 0.505  0.496]\n",
      " [ 0.498  0.496]\n",
      " [ 0.504  0.496]\n",
      " [ 0.503  0.496]\n",
      " [ 0.504  0.496]\n",
      " [ 0.505  0.496]\n",
      " [ 0.502  0.496]\n",
      " [ 0.503  0.496]\n",
      " [ 0.506  0.496]\n",
      " [ 0.506  0.496]\n",
      " [ 0.505  0.496]\n",
      " [ 0.505  0.496]\n",
      " [ 0.505  0.496]\n",
      " [ 0.503  0.497]\n",
      " [ 0.504  0.496]\n",
      " [ 0.504  0.496]\n",
      " [ 0.504  0.496]\n",
      " [ 0.502  0.496]\n",
      " [ 0.504  0.496]\n",
      " [ 0.502  0.496]\n",
      " [ 0.504  0.496]\n",
      " [ 0.505  0.496]\n",
      " [ 0.505  0.496]\n",
      " [ 0.505  0.496]\n",
      " [ 0.501  0.496]\n",
      " [ 0.504  0.496]\n",
      " [ 0.504  0.496]\n",
      " [ 0.505  0.496]\n",
      " [ 0.51   0.496]\n",
      " [ 0.501  0.496]\n",
      " [ 0.501  0.496]\n",
      " [ 0.511  0.497]\n",
      " [ 0.504  0.497]\n",
      " [ 0.505  0.497]\n",
      " [ 0.505  0.496]\n",
      " [ 0.507  0.496]\n",
      " [ 0.503  0.496]\n",
      " [ 0.504  0.496]\n",
      " [ 0.505  0.496]\n",
      " [ 0.505  0.496]\n",
      " [ 0.505  0.496]\n",
      " [ 0.505  0.496]\n",
      " [ 0.505  0.496]\n",
      " [ 0.505  0.496]\n",
      " [ 0.5    0.496]\n",
      " [ 0.504  0.496]\n",
      " [ 0.506  0.496]\n",
      " [ 0.504  0.496]\n",
      " [ 0.505  0.496]\n",
      " [ 0.506  0.496]\n",
      " [ 0.501  0.496]\n",
      " [ 0.504  0.497]\n",
      " [ 0.503  0.496]\n",
      " [ 0.505  0.496]\n",
      " [ 0.502  0.496]\n",
      " [ 0.505  0.496]\n",
      " [ 0.503  0.496]\n",
      " [ 0.501  0.497]\n",
      " [ 0.505  0.496]\n",
      " [ 0.505  0.496]\n",
      " [ 0.506  0.496]\n",
      " [ 0.505  0.496]\n",
      " [ 0.503  0.496]\n",
      " [ 0.503  0.497]\n",
      " [ 0.503  0.496]\n",
      " [ 0.505  0.496]\n",
      " [ 0.502  0.496]\n",
      " [ 0.505  0.496]\n",
      " [ 0.504  0.497]\n",
      " [ 0.504  0.496]\n",
      " [ 0.498  0.496]\n",
      " [ 0.499  0.496]\n",
      " [ 0.504  0.496]\n",
      " [ 0.504  0.496]\n",
      " [ 0.505  0.496]\n",
      " [ 0.505  0.496]\n",
      " [ 0.494  0.503]\n",
      " [ 0.503  0.496]\n",
      " [ 0.502  0.496]\n",
      " [ 0.5    0.496]\n",
      " [ 0.496  0.491]\n",
      " [ 0.497  0.496]\n",
      " [ 0.505  0.497]\n",
      " [ 0.501  0.496]\n",
      " [ 0.476  0.505]\n",
      " [ 0.504  0.496]\n",
      " [ 0.504  0.496]\n",
      " [ 0.503  0.496]\n",
      " [ 0.503  0.496]\n",
      " [ 0.504  0.496]\n",
      " [ 0.507  0.496]\n",
      " [ 0.505  0.496]\n",
      " [ 0.502  0.496]\n",
      " [ 0.505  0.496]\n",
      " [ 0.469  0.485]\n",
      " [ 0.504  0.496]\n",
      " [ 0.504  0.497]\n",
      " [ 0.502  0.496]\n",
      " [ 0.502  0.496]\n",
      " [ 0.504  0.497]\n",
      " [ 0.504  0.497]\n",
      " [ 0.504  0.497]\n",
      " [ 0.503  0.496]\n",
      " [ 0.505  0.496]\n",
      " [ 0.504  0.497]\n",
      " [ 0.505  0.496]\n",
      " [ 0.503  0.497]\n",
      " [ 0.506  0.496]\n",
      " [ 0.505  0.496]\n",
      " [ 0.502  0.496]\n",
      " [ 0.504  0.496]\n",
      " [ 0.505  0.493]\n",
      " [ 0.503  0.496]\n",
      " [ 0.508  0.496]\n",
      " [ 0.504  0.496]\n",
      " [ 0.505  0.496]\n",
      " [ 0.503  0.496]\n",
      " [ 0.507  0.496]\n",
      " [ 0.505  0.496]\n",
      " [ 0.5    0.496]\n",
      " [ 0.505  0.496]\n",
      " [ 0.504  0.496]\n",
      " [ 0.504  0.496]\n",
      " [ 0.504  0.496]\n",
      " [ 0.5    0.496]\n",
      " [ 0.503  0.499]\n",
      " [ 0.504  0.496]\n",
      " [ 0.504  0.496]\n",
      " [ 0.507  0.496]\n",
      " [ 0.51   0.496]\n",
      " [ 0.503  0.497]\n",
      " [ 0.505  0.496]\n",
      " [ 0.504  0.497]\n",
      " [ 0.505  0.496]\n",
      " [ 0.504  0.496]]\n"
     ]
    }
   ],
   "source": [
    "y_pred = model.predict(X_test)\n",
    "print(y_pred)"
   ]
  },
  {
   "cell_type": "code",
   "execution_count": 186,
   "metadata": {},
   "outputs": [
    {
     "name": "stdout",
     "output_type": "stream",
     "text": [
      "195/200 [============================>.] - ETA: 0sTest score: 0.692328575253\n",
      "Test accuracy: 0.555\n"
     ]
    }
   ],
   "source": [
    "score, acc = model.evaluate(X_test, y_test, batch_size=1)\n",
    "print('Test score:', score)\n",
    "print('Test accuracy:', acc)"
   ]
  },
  {
   "cell_type": "markdown",
   "metadata": {},
   "source": [
    "## Evaluation\n",
    "\n",
    "Every models will be evaluated on the fonction designed previously which count on 20 x 100 word generated by the NN, how much are following the rule. But first, let's check if the training is \"over\" by checking the loss"
   ]
  },
  {
   "cell_type": "code",
   "execution_count": 116,
   "metadata": {},
   "outputs": [
    {
     "data": {
      "image/png": "[encoded data removed]",
      "text/plain": [
       "<matplotlib.figure.Figure at 0x12de2782320>"
      ]
     },
     "metadata": {},
     "output_type": "display_data"
    }
   ],
   "source": [
    "plt.plot(history.history[\"loss\"], label=\"GRU\")\n",
    "plt.show()"
   ]
  },
  {
   "cell_type": "markdown",
   "metadata": {},
   "source": [
    "The loss is \"stable\" even if it didn't reached yet the best point. We can also take a look to the output based on the X_val we generated"
   ]
  },
  {
   "cell_type": "code",
   "execution_count": 13,
   "metadata": {},
   "outputs": [
    {
     "name": "stdout",
     "output_type": "stream",
     "text": [
      "Input :\n",
      "[[[0 0 0 0 0 0 0]\n",
      "  [0 0 0 0 0 0 0]\n",
      "  [0 0 0 0 0 0 0]\n",
      "  [0 0 0 0 0 0 0]\n",
      "  [0 0 0 0 0 0 0]\n",
      "  [0 0 0 0 0 0 0]\n",
      "  [0 0 0 0 0 0 0]\n",
      "  [0 0 0 0 0 0 0]\n",
      "  [0 0 0 0 0 0 0]\n",
      "  [0 0 0 0 0 0 0]\n",
      "  [0 0 0 0 0 0 0]\n",
      "  [0 0 0 0 0 0 0]\n",
      "  [0 0 0 0 0 0 0]\n",
      "  [0 0 0 0 0 0 0]\n",
      "  [1 0 0 0 0 0 0]\n",
      "  [0 1 0 0 0 0 0]\n",
      "  [1 0 0 0 0 0 0]\n",
      "  [0 0 0 0 1 0 0]\n",
      "  [0 0 0 0 0 1 0]\n",
      "  [0 0 0 0 1 0 0]\n",
      "  [0 0 0 1 0 0 0]\n",
      "  [0 1 0 0 0 0 0]\n",
      "  [0 1 0 0 0 0 0]\n",
      "  [0 0 0 0 0 1 0]\n",
      "  [0 0 0 0 1 0 0]\n",
      "  [0 0 0 1 0 0 0]\n",
      "  [0 0 0 0 0 1 0]\n",
      "  [0 0 0 0 0 1 0]\n",
      "  [0 0 0 0 0 0 1]\n",
      "  [0 1 0 0 0 0 0]]]\n",
      "\n",
      "\n",
      " Output :\n",
      "[[[ 0.001  0.001 -0.    -0.001  0.002  0.001  0.001]\n",
      "  [ 0.     0.001  0.    -0.001  0.001  0.001  0.003]\n",
      "  [-0.002  0.001  0.001 -0.001  0.001  0.002  0.003]\n",
      "  [-0.003  0.001  0.001 -0.002  0.001  0.003  0.002]\n",
      "  [-0.003  0.001  0.    -0.002  0.001  0.003  0.002]\n",
      "  [-0.003  0.001  0.    -0.003  0.     0.004  0.003]\n",
      "  [-0.003  0.001  0.    -0.003  0.     0.004  0.003]\n",
      "  [-0.003  0.001  0.    -0.004  0.     0.005  0.004]\n",
      "  [-0.004  0.001 -0.    -0.004 -0.     0.005  0.004]\n",
      "  [-0.004  0.001 -0.    -0.005 -0.     0.005  0.004]\n",
      "  [-0.004  0.001 -0.    -0.005 -0.     0.006  0.004]\n",
      "  [-0.004  0.    -0.    -0.006 -0.001  0.006  0.005]\n",
      "  [-0.004  0.    -0.    -0.006 -0.001  0.006  0.005]\n",
      "  [-0.004  0.    -0.    -0.006 -0.001  0.006  0.005]\n",
      "  [ 0.026  0.419 -0.073 -0.11   0.373  0.018 -0.215]\n",
      "  [ 0.827 -0.081  0.142  0.047  0.012 -0.033  0.097]\n",
      "  [-0.028  0.681  0.119 -0.053  0.465 -0.094  0.043]\n",
      "  [-0.04   0.522  0.036  0.134  0.031  0.27  -0.05 ]\n",
      "  [ 0.005 -0.061  0.096  0.076  0.76   0.194 -0.   ]\n",
      "  [ 0.015 -0.019  0.1    0.764 -0.028  0.089 -0.024]\n",
      "  [ 0.013  0.567  0.023  0.045 -0.009  0.356 -0.022]\n",
      "  [ 0.03   0.586  0.024  0.016 -0.005  0.39  -0.009]\n",
      "  [ 0.018  0.58   0.029 -0.011 -0.019  0.418  0.026]\n",
      "  [-0.01   0.019  0.083 -0.011  0.734  0.328  0.068]\n",
      "  [-0.015 -0.01   0.112  0.666 -0.036  0.135  0.1  ]\n",
      "  [-0.015  0.534  0.03   0.016 -0.038  0.404  0.059]\n",
      "  [-0.047  0.011  0.071  0.006  0.726  0.352  0.044]\n",
      "  [-0.047  0.031  0.071 -0.002 -0.018 -0.003  0.816]\n",
      "  [-0.072  0.498 -0.239 -0.015  0.542  0.075  0.065]\n",
      "  [-0.051 -0.005  0.038  0.017  0.002 -0.03   0.894]]]\n"
     ]
    }
   ],
   "source": [
    "print(\"Input :\")\n",
    "print(X_val)\n",
    "print(\"\\n\\n Output :\")\n",
    "y_pred = model.predict(X_val)\n",
    "print(y_pred)"
   ]
  },
  {
   "cell_type": "markdown",
   "metadata": {},
   "source": [
    "We can also perform the cleaning and compare it to the expected output"
   ]
  },
  {
   "cell_type": "code",
   "execution_count": 14,
   "metadata": {
    "collapsed": true
   },
   "outputs": [],
   "source": [
    "y_pred = np.where(y_pred < 0.1, 0, y_pred)"
   ]
  },
  {
   "cell_type": "code",
   "execution_count": 15,
   "metadata": {},
   "outputs": [
    {
     "name": "stdout",
     "output_type": "stream",
     "text": [
      "[ 0.  0.  0.  0.  0.  0.  0.] \t [0 0 0 0 0 0 0]\n",
      "[ 0.  0.  0.  0.  0.  0.  0.] \t [0 0 0 0 0 0 0]\n",
      "[ 0.  0.  0.  0.  0.  0.  0.] \t [0 0 0 0 0 0 0]\n",
      "[ 0.  0.  0.  0.  0.  0.  0.] \t [0 0 0 0 0 0 0]\n",
      "[ 0.  0.  0.  0.  0.  0.  0.] \t [0 0 0 0 0 0 0]\n",
      "[ 0.  0.  0.  0.  0.  0.  0.] \t [0 0 0 0 0 0 0]\n",
      "[ 0.  0.  0.  0.  0.  0.  0.] \t [0 0 0 0 0 0 0]\n",
      "[ 0.  0.  0.  0.  0.  0.  0.] \t [0 0 0 0 0 0 0]\n",
      "[ 0.  0.  0.  0.  0.  0.  0.] \t [0 0 0 0 0 0 0]\n",
      "[ 0.  0.  0.  0.  0.  0.  0.] \t [0 0 0 0 0 0 0]\n",
      "[ 0.  0.  0.  0.  0.  0.  0.] \t [0 0 0 0 0 0 0]\n",
      "[ 0.  0.  0.  0.  0.  0.  0.] \t [0 0 0 0 0 0 0]\n",
      "[ 0.  0.  0.  0.  0.  0.  0.] \t [0 0 0 0 0 0 0]\n",
      "[ 0.  0.  0.  0.  0.  0.  0.] \t [0 0 0 0 0 0 0]\n",
      "[ 0.     0.419  0.     0.     0.373  0.     0.   ] \t [0 1 0 0 1 0 0]\n",
      "[ 0.827  0.     0.142  0.     0.     0.     0.   ] \t [1 0 0 0 0 0 0]\n",
      "[ 0.     0.681  0.119  0.     0.465  0.     0.   ] \t [0 1 0 0 1 0 0]\n",
      "[ 0.     0.522  0.     0.134  0.     0.27   0.   ] \t [0 1 0 0 0 1 0]\n",
      "[ 0.     0.     0.     0.     0.76   0.194  0.   ] \t [0 0 0 0 1 1 0]\n",
      "[ 0.     0.     0.     0.764  0.     0.     0.   ] \t [0 0 1 1 0 0 0]\n",
      "[ 0.     0.567  0.     0.     0.     0.356  0.   ] \t [0 1 0 0 0 1 0]\n",
      "[ 0.     0.586  0.     0.     0.     0.39   0.   ] \t [0 1 0 0 0 1 0]\n",
      "[ 0.     0.58   0.     0.     0.     0.418  0.   ] \t [0 1 0 0 0 1 0]\n",
      "[ 0.     0.     0.     0.     0.734  0.328  0.   ] \t [0 0 0 0 1 1 0]\n",
      "[ 0.     0.     0.112  0.666  0.     0.135  0.   ] \t [0 0 1 1 0 0 0]\n",
      "[ 0.     0.534  0.     0.     0.     0.404  0.   ] \t [0 1 0 0 0 1 0]\n",
      "[ 0.     0.     0.     0.     0.726  0.352  0.   ] \t [0 0 0 0 1 1 0]\n",
      "[ 0.     0.     0.     0.     0.     0.     0.816] \t [0 0 0 0 0 0 1]\n",
      "[ 0.     0.498  0.     0.     0.542  0.     0.   ] \t [0 1 0 0 0 0 0]\n",
      "[ 0.     0.     0.     0.     0.     0.     0.894] \t [0 0 0 0 0 0 1]\n"
     ]
    }
   ],
   "source": [
    "for pred, real in zip(y_pred[0], y_possible[0]):\n",
    "    print(pred, \"\\t\", real)"
   ]
  },
  {
   "cell_type": "markdown",
   "metadata": {},
   "source": [
    "We can see that the output is clearly more \"shuffled\". This model starts to show it's own limit. We can check the output on the generation of words"
   ]
  },
  {
   "cell_type": "code",
   "execution_count": 16,
   "metadata": {
    "collapsed": true
   },
   "outputs": [],
   "source": [
    "def is_embedded_word(w):\n",
    "    if w[:2] not in [\"BT\", \"BP\"]:\n",
    "        return False\n",
    "    if reber.in_grammar(w[2:-1]):\n",
    "        return False\n",
    "    if w[-1] not in [\"T\", \"P\"]:\n",
    "        return False\n",
    "    return True\n",
    "\n",
    "def Pick_From_Output(x):\n",
    "    y = np.zeros_like(x)\n",
    "    x = np.where(x < 0.1, 0, x)\n",
    "    x = x[0]/x[0].sum(axis=1)\n",
    "    i = np.random.choice(list(range(7)), size=1, p=x[0])\n",
    "    y[0,0,i] = 1\n",
    "    return y\n",
    "\n",
    "def evaluate(model, nb_word = 1, max_iter = 50):\n",
    "    good_pred = 0\n",
    "    for _ in range(nb_word):\n",
    "        model.reset_states()\n",
    "        first_input = np.array([[[1,0,0,0,0,0,0]]])\n",
    "        word = \"B\"\n",
    "        loop = 0\n",
    "        nextLetter = \"B\"\n",
    "        next_seq = first_input\n",
    "        while nextLetter != \"E\" and loop < max_iter:\n",
    "            y_pred = model.predict(next_seq)\n",
    "            next_seq = Pick_From_Output(y_pred)\n",
    "            nextLetter = reber.sequenceToWord(next_seq[0])\n",
    "            loop += 1\n",
    "            word += nextLetter\n",
    "        if is_embedded_word(word):\n",
    "            good_pred += 1\n",
    "    acc = 100*good_pred/nb_word\n",
    "    print(\"Good prediction : {:.2f}%\".format(acc))\n",
    "    return acc"
   ]
  },
  {
   "cell_type": "code",
   "execution_count": 17,
   "metadata": {
    "collapsed": true
   },
   "outputs": [],
   "source": [
    "newModel = Sequential()\n",
    "newModel.add(GRU(units=7, stateful=True, batch_input_shape=(1,1,7), return_sequences=True, verbose=0))\n",
    "newModel.set_weights(model.get_weights())"
   ]
  },
  {
   "cell_type": "code",
   "execution_count": 18,
   "metadata": {},
   "outputs": [
    {
     "name": "stdout",
     "output_type": "stream",
     "text": [
      "Good prediction : 0.00%\n",
      "Good prediction : 1.00%\n",
      "Good prediction : 0.00%\n",
      "Good prediction : 0.00%\n",
      "Good prediction : 0.00%\n",
      "Good prediction : 0.00%\n",
      "Good prediction : 0.00%\n",
      "Good prediction : 0.00%\n",
      "Good prediction : 0.00%\n",
      "Good prediction : 0.00%\n",
      "Good prediction : 0.00%\n",
      "Good prediction : 0.00%\n",
      "Good prediction : 0.00%\n",
      "Good prediction : 0.00%\n",
      "Good prediction : 1.00%\n"
     ]
    },
    {
     "name": "stderr",
     "output_type": "stream",
     "text": [
      "C:\\Anaconda\\lib\\site-packages\\ipykernel_launcher.py:13: RuntimeWarning: invalid value encountered in true_divide\n",
      "  del sys.path[0]\n",
      "C:\\Anaconda\\lib\\site-packages\\ipykernel_launcher.py:14: RuntimeWarning: invalid value encountered in less\n",
      "  \n"
     ]
    },
    {
     "name": "stdout",
     "output_type": "stream",
     "text": [
      "Good prediction : 0.00%\n",
      "Good prediction : 0.00%\n",
      "Good prediction : 1.00%\n",
      "Good prediction : 0.00%\n",
      "Good prediction : 0.00%\n"
     ]
    }
   ],
   "source": [
    "result_GRU = []\n",
    "for _ in range(20):\n",
    "    result_GRU.append(evaluate(newModel, 100, 50))"
   ]
  },
  {
   "cell_type": "markdown",
   "metadata": {},
   "source": [
    "The output is really worse than it was previously. This is due to the more complexe rule behind the embedded words"
   ]
  },
  {
   "cell_type": "code",
   "execution_count": 19,
   "metadata": {},
   "outputs": [
    {
     "data": {
      "image/png": "[encoded data removed]",
      "text/plain": [
       "<matplotlib.figure.Figure at 0x20340fb2dd8>"
      ]
     },
     "metadata": {},
     "output_type": "display_data"
    }
   ],
   "source": [
    "x = list(range(20))\n",
    "y = [result_GRU]\n",
    "labels = [\"GRU\"]\n",
    "\n",
    "plt.figure(figsize=(12, 12))\n",
    "for y_arr, label in zip(y, labels):\n",
    "    plt.plot(x, y_arr, label=label)\n",
    "\n",
    "plt.legend(bbox_to_anchor=(1.05, 1), loc=2, borderaxespad=0.)\n",
    "plt.show()"
   ]
  },
  {
   "cell_type": "markdown",
   "metadata": {},
   "source": [
    "## Improvements\n",
    "\n",
    "Now let's do the same but with differents topology and features"
   ]
  },
  {
   "cell_type": "code",
   "execution_count": 26,
   "metadata": {
    "collapsed": true
   },
   "outputs": [],
   "source": [
    "nb_unit = 7\n",
    "inp_shape = (maxlen, 7)\n",
    "loss_ = \"mean_squared_error\"\n",
    "metrics_ = \"mean_squared_error\"\n",
    "optimizer_ = \"Nadam\"\n",
    "nb_epoch = 1000\n",
    "batch_size = 1024"
   ]
  },
  {
   "cell_type": "code",
   "execution_count": 27,
   "metadata": {
    "collapsed": true
   },
   "outputs": [],
   "source": [
    "model = Sequential()\n",
    "model.add(GRU(units=nb_unit, input_shape=inp_shape, return_sequences=True))\n",
    "model.add(Dropout(0.2))\n",
    "model.add(GRU(units=nb_unit, return_sequences=True))\n",
    "model.compile(loss=loss_,\n",
    "              optimizer=optimizer_,\n",
    "              metrics=[metrics_])"
   ]
  },
  {
   "cell_type": "code",
   "execution_count": 28,
   "metadata": {},
   "outputs": [
    {
     "name": "stdout",
     "output_type": "stream",
     "text": [
      "_________________________________________________________________\n",
      "Layer (type)                 Output Shape              Param #   \n",
      "=================================================================\n",
      "gru_3 (GRU)                  (None, 30, 7)             315       \n",
      "_________________________________________________________________\n",
      "dropout_2 (Dropout)          (None, 30, 7)             0         \n",
      "_________________________________________________________________\n",
      "gru_4 (GRU)                  (None, 30, 7)             315       \n",
      "=================================================================\n",
      "Total params: 630\n",
      "Trainable params: 630\n",
      "Non-trainable params: 0\n",
      "_________________________________________________________________\n",
      "None Training time : 135.05912137031555s\n"
     ]
    },
    {
     "data": {
      "text/plain": [
       "[<matplotlib.lines.Line2D at 0x203607180b8>]"
      ]
     },
     "execution_count": 28,
     "metadata": {},
     "output_type": "execute_result"
    },
    {
     "data": {
      "image/png": "[encoded data removed]",
      "text/plain": [
       "<matplotlib.figure.Figure at 0x203606ebb70>"
      ]
     },
     "metadata": {},
     "output_type": "display_data"
    }
   ],
   "source": [
    "start = time.time()\n",
    "history = model.fit(X_train, y_train, validation_data=(X_test, y_test), epochs=nb_epoch, batch_size=batch_size, verbose=0)\n",
    "stop = time.time()\n",
    "t = stop-start\n",
    "print(model.summary(), end=\" \")\n",
    "print(\"Training time : {:}s\".format(t))\n",
    "plt.plot(history.history[\"loss\"], label=\"GRU\")"
   ]
  },
  {
   "cell_type": "code",
   "execution_count": 30,
   "metadata": {},
   "outputs": [
    {
     "name": "stderr",
     "output_type": "stream",
     "text": [
      "C:\\Anaconda\\lib\\site-packages\\ipykernel_launcher.py:13: RuntimeWarning: invalid value encountered in true_divide\n",
      "  del sys.path[0]\n",
      "C:\\Anaconda\\lib\\site-packages\\ipykernel_launcher.py:14: RuntimeWarning: invalid value encountered in less\n",
      "  \n"
     ]
    },
    {
     "name": "stdout",
     "output_type": "stream",
     "text": [
      "Good prediction : 1.00%\n",
      "Good prediction : 1.00%\n",
      "Good prediction : 1.00%\n",
      "Good prediction : 0.00%\n",
      "Good prediction : 2.00%\n",
      "Good prediction : 2.00%\n",
      "Good prediction : 3.00%\n",
      "Good prediction : 0.00%\n",
      "Good prediction : 1.00%\n",
      "Good prediction : 2.00%\n"
     ]
    },
    {
     "ename": "KeyboardInterrupt",
     "evalue": "",
     "output_type": "error",
     "traceback": [
      "\u001b[1;31m---------------------------------------------------------------------------\u001b[0m",
      "\u001b[1;31mKeyboardInterrupt\u001b[0m                         Traceback (most recent call last)",
      "\u001b[1;32m<ipython-input-30-49cc991a0c2b>\u001b[0m in \u001b[0;36m<module>\u001b[1;34m()\u001b[0m\n\u001b[0;32m      6\u001b[0m \u001b[0mresult_GRU\u001b[0m \u001b[1;33m=\u001b[0m \u001b[1;33m[\u001b[0m\u001b[1;33m]\u001b[0m\u001b[1;33m\u001b[0m\u001b[0m\n\u001b[0;32m      7\u001b[0m \u001b[1;32mfor\u001b[0m \u001b[0m_\u001b[0m \u001b[1;32min\u001b[0m \u001b[0mrange\u001b[0m\u001b[1;33m(\u001b[0m\u001b[1;36m20\u001b[0m\u001b[1;33m)\u001b[0m\u001b[1;33m:\u001b[0m\u001b[1;33m\u001b[0m\u001b[0m\n\u001b[1;32m----> 8\u001b[1;33m     \u001b[0mresult_GRU\u001b[0m\u001b[1;33m.\u001b[0m\u001b[0mappend\u001b[0m\u001b[1;33m(\u001b[0m\u001b[0mevaluate\u001b[0m\u001b[1;33m(\u001b[0m\u001b[0mnewModel\u001b[0m\u001b[1;33m,\u001b[0m \u001b[1;36m100\u001b[0m\u001b[1;33m,\u001b[0m \u001b[1;36m50\u001b[0m\u001b[1;33m)\u001b[0m\u001b[1;33m)\u001b[0m\u001b[1;33m\u001b[0m\u001b[0m\n\u001b[0m\u001b[0;32m      9\u001b[0m \u001b[1;33m\u001b[0m\u001b[0m\n\u001b[0;32m     10\u001b[0m \u001b[0mplt\u001b[0m\u001b[1;33m.\u001b[0m\u001b[0mplot\u001b[0m\u001b[1;33m(\u001b[0m\u001b[0mlist\u001b[0m\u001b[1;33m(\u001b[0m\u001b[0mrange\u001b[0m\u001b[1;33m(\u001b[0m\u001b[1;36m20\u001b[0m\u001b[1;33m)\u001b[0m\u001b[1;33m)\u001b[0m\u001b[1;33m,\u001b[0m \u001b[0mresult_GRU\u001b[0m\u001b[1;33m)\u001b[0m\u001b[1;33m\u001b[0m\u001b[0m\n",
      "\u001b[1;32m<ipython-input-16-3986d4f6405a>\u001b[0m in \u001b[0;36mevaluate\u001b[1;34m(model, nb_word, max_iter)\u001b[0m\n\u001b[0;32m     26\u001b[0m         \u001b[0mnext_seq\u001b[0m \u001b[1;33m=\u001b[0m \u001b[0mfirst_input\u001b[0m\u001b[1;33m\u001b[0m\u001b[0m\n\u001b[0;32m     27\u001b[0m         \u001b[1;32mwhile\u001b[0m \u001b[0mnextLetter\u001b[0m \u001b[1;33m!=\u001b[0m \u001b[1;34m\"E\"\u001b[0m \u001b[1;32mand\u001b[0m \u001b[0mloop\u001b[0m \u001b[1;33m<\u001b[0m \u001b[0mmax_iter\u001b[0m\u001b[1;33m:\u001b[0m\u001b[1;33m\u001b[0m\u001b[0m\n\u001b[1;32m---> 28\u001b[1;33m             \u001b[0my_pred\u001b[0m \u001b[1;33m=\u001b[0m \u001b[0mmodel\u001b[0m\u001b[1;33m.\u001b[0m\u001b[0mpredict\u001b[0m\u001b[1;33m(\u001b[0m\u001b[0mnext_seq\u001b[0m\u001b[1;33m)\u001b[0m\u001b[1;33m\u001b[0m\u001b[0m\n\u001b[0m\u001b[0;32m     29\u001b[0m             \u001b[0mnext_seq\u001b[0m \u001b[1;33m=\u001b[0m \u001b[0mPick_From_Output\u001b[0m\u001b[1;33m(\u001b[0m\u001b[0my_pred\u001b[0m\u001b[1;33m)\u001b[0m\u001b[1;33m\u001b[0m\u001b[0m\n\u001b[0;32m     30\u001b[0m             \u001b[0mnextLetter\u001b[0m \u001b[1;33m=\u001b[0m \u001b[0mreber\u001b[0m\u001b[1;33m.\u001b[0m\u001b[0msequenceToWord\u001b[0m\u001b[1;33m(\u001b[0m\u001b[0mnext_seq\u001b[0m\u001b[1;33m[\u001b[0m\u001b[1;36m0\u001b[0m\u001b[1;33m]\u001b[0m\u001b[1;33m)\u001b[0m\u001b[1;33m\u001b[0m\u001b[0m\n",
      "\u001b[1;32mC:\\Anaconda\\lib\\site-packages\\keras\\models.py\u001b[0m in \u001b[0;36mpredict\u001b[1;34m(self, x, batch_size, verbose)\u001b[0m\n\u001b[0;32m    911\u001b[0m         \u001b[1;32mif\u001b[0m \u001b[1;32mnot\u001b[0m \u001b[0mself\u001b[0m\u001b[1;33m.\u001b[0m\u001b[0mbuilt\u001b[0m\u001b[1;33m:\u001b[0m\u001b[1;33m\u001b[0m\u001b[0m\n\u001b[0;32m    912\u001b[0m             \u001b[0mself\u001b[0m\u001b[1;33m.\u001b[0m\u001b[0mbuild\u001b[0m\u001b[1;33m(\u001b[0m\u001b[1;33m)\u001b[0m\u001b[1;33m\u001b[0m\u001b[0m\n\u001b[1;32m--> 913\u001b[1;33m         \u001b[1;32mreturn\u001b[0m \u001b[0mself\u001b[0m\u001b[1;33m.\u001b[0m\u001b[0mmodel\u001b[0m\u001b[1;33m.\u001b[0m\u001b[0mpredict\u001b[0m\u001b[1;33m(\u001b[0m\u001b[0mx\u001b[0m\u001b[1;33m,\u001b[0m \u001b[0mbatch_size\u001b[0m\u001b[1;33m=\u001b[0m\u001b[0mbatch_size\u001b[0m\u001b[1;33m,\u001b[0m \u001b[0mverbose\u001b[0m\u001b[1;33m=\u001b[0m\u001b[0mverbose\u001b[0m\u001b[1;33m)\u001b[0m\u001b[1;33m\u001b[0m\u001b[0m\n\u001b[0m\u001b[0;32m    914\u001b[0m \u001b[1;33m\u001b[0m\u001b[0m\n\u001b[0;32m    915\u001b[0m     \u001b[1;32mdef\u001b[0m \u001b[0mpredict_on_batch\u001b[0m\u001b[1;33m(\u001b[0m\u001b[0mself\u001b[0m\u001b[1;33m,\u001b[0m \u001b[0mx\u001b[0m\u001b[1;33m)\u001b[0m\u001b[1;33m:\u001b[0m\u001b[1;33m\u001b[0m\u001b[0m\n",
      "\u001b[1;32mC:\\Anaconda\\lib\\site-packages\\keras\\engine\\training.py\u001b[0m in \u001b[0;36mpredict\u001b[1;34m(self, x, batch_size, verbose, steps)\u001b[0m\n\u001b[0;32m   1711\u001b[0m         \u001b[0mf\u001b[0m \u001b[1;33m=\u001b[0m \u001b[0mself\u001b[0m\u001b[1;33m.\u001b[0m\u001b[0mpredict_function\u001b[0m\u001b[1;33m\u001b[0m\u001b[0m\n\u001b[0;32m   1712\u001b[0m         return self._predict_loop(f, ins, batch_size=batch_size,\n\u001b[1;32m-> 1713\u001b[1;33m                                   verbose=verbose, steps=steps)\n\u001b[0m\u001b[0;32m   1714\u001b[0m \u001b[1;33m\u001b[0m\u001b[0m\n\u001b[0;32m   1715\u001b[0m     def train_on_batch(self, x, y,\n",
      "\u001b[1;32mC:\\Anaconda\\lib\\site-packages\\keras\\engine\\training.py\u001b[0m in \u001b[0;36m_predict_loop\u001b[1;34m(self, f, ins, batch_size, verbose, steps)\u001b[0m\n\u001b[0;32m   1267\u001b[0m                 \u001b[1;32melse\u001b[0m\u001b[1;33m:\u001b[0m\u001b[1;33m\u001b[0m\u001b[0m\n\u001b[0;32m   1268\u001b[0m                     \u001b[0mins_batch\u001b[0m \u001b[1;33m=\u001b[0m \u001b[0m_slice_arrays\u001b[0m\u001b[1;33m(\u001b[0m\u001b[0mins\u001b[0m\u001b[1;33m,\u001b[0m \u001b[0mbatch_ids\u001b[0m\u001b[1;33m)\u001b[0m\u001b[1;33m\u001b[0m\u001b[0m\n\u001b[1;32m-> 1269\u001b[1;33m                 \u001b[0mbatch_outs\u001b[0m \u001b[1;33m=\u001b[0m \u001b[0mf\u001b[0m\u001b[1;33m(\u001b[0m\u001b[0mins_batch\u001b[0m\u001b[1;33m)\u001b[0m\u001b[1;33m\u001b[0m\u001b[0m\n\u001b[0m\u001b[0;32m   1270\u001b[0m                 \u001b[1;32mif\u001b[0m \u001b[1;32mnot\u001b[0m \u001b[0misinstance\u001b[0m\u001b[1;33m(\u001b[0m\u001b[0mbatch_outs\u001b[0m\u001b[1;33m,\u001b[0m \u001b[0mlist\u001b[0m\u001b[1;33m)\u001b[0m\u001b[1;33m:\u001b[0m\u001b[1;33m\u001b[0m\u001b[0m\n\u001b[0;32m   1271\u001b[0m                     \u001b[0mbatch_outs\u001b[0m \u001b[1;33m=\u001b[0m \u001b[1;33m[\u001b[0m\u001b[0mbatch_outs\u001b[0m\u001b[1;33m]\u001b[0m\u001b[1;33m\u001b[0m\u001b[0m\n",
      "\u001b[1;32mC:\\Anaconda\\lib\\site-packages\\keras\\backend\\tensorflow_backend.py\u001b[0m in \u001b[0;36m__call__\u001b[1;34m(self, inputs)\u001b[0m\n\u001b[0;32m   2271\u001b[0m         updated = session.run(self.outputs + [self.updates_op],\n\u001b[0;32m   2272\u001b[0m                               \u001b[0mfeed_dict\u001b[0m\u001b[1;33m=\u001b[0m\u001b[0mfeed_dict\u001b[0m\u001b[1;33m,\u001b[0m\u001b[1;33m\u001b[0m\u001b[0m\n\u001b[1;32m-> 2273\u001b[1;33m                               **self.session_kwargs)\n\u001b[0m\u001b[0;32m   2274\u001b[0m         \u001b[1;32mreturn\u001b[0m \u001b[0mupdated\u001b[0m\u001b[1;33m[\u001b[0m\u001b[1;33m:\u001b[0m\u001b[0mlen\u001b[0m\u001b[1;33m(\u001b[0m\u001b[0mself\u001b[0m\u001b[1;33m.\u001b[0m\u001b[0moutputs\u001b[0m\u001b[1;33m)\u001b[0m\u001b[1;33m]\u001b[0m\u001b[1;33m\u001b[0m\u001b[0m\n\u001b[0;32m   2275\u001b[0m \u001b[1;33m\u001b[0m\u001b[0m\n",
      "\u001b[1;32mC:\\Anaconda\\lib\\site-packages\\tensorflow\\python\\client\\session.py\u001b[0m in \u001b[0;36mrun\u001b[1;34m(self, fetches, feed_dict, options, run_metadata)\u001b[0m\n\u001b[0;32m    787\u001b[0m     \u001b[1;32mtry\u001b[0m\u001b[1;33m:\u001b[0m\u001b[1;33m\u001b[0m\u001b[0m\n\u001b[0;32m    788\u001b[0m       result = self._run(None, fetches, feed_dict, options_ptr,\n\u001b[1;32m--> 789\u001b[1;33m                          run_metadata_ptr)\n\u001b[0m\u001b[0;32m    790\u001b[0m       \u001b[1;32mif\u001b[0m \u001b[0mrun_metadata\u001b[0m\u001b[1;33m:\u001b[0m\u001b[1;33m\u001b[0m\u001b[0m\n\u001b[0;32m    791\u001b[0m         \u001b[0mproto_data\u001b[0m \u001b[1;33m=\u001b[0m \u001b[0mtf_session\u001b[0m\u001b[1;33m.\u001b[0m\u001b[0mTF_GetBuffer\u001b[0m\u001b[1;33m(\u001b[0m\u001b[0mrun_metadata_ptr\u001b[0m\u001b[1;33m)\u001b[0m\u001b[1;33m\u001b[0m\u001b[0m\n",
      "\u001b[1;32mC:\\Anaconda\\lib\\site-packages\\tensorflow\\python\\client\\session.py\u001b[0m in \u001b[0;36m_run\u001b[1;34m(self, handle, fetches, feed_dict, options, run_metadata)\u001b[0m\n\u001b[0;32m    995\u001b[0m     \u001b[1;32mif\u001b[0m \u001b[0mfinal_fetches\u001b[0m \u001b[1;32mor\u001b[0m \u001b[0mfinal_targets\u001b[0m\u001b[1;33m:\u001b[0m\u001b[1;33m\u001b[0m\u001b[0m\n\u001b[0;32m    996\u001b[0m       results = self._do_run(handle, final_targets, final_fetches,\n\u001b[1;32m--> 997\u001b[1;33m                              feed_dict_string, options, run_metadata)\n\u001b[0m\u001b[0;32m    998\u001b[0m     \u001b[1;32melse\u001b[0m\u001b[1;33m:\u001b[0m\u001b[1;33m\u001b[0m\u001b[0m\n\u001b[0;32m    999\u001b[0m       \u001b[0mresults\u001b[0m \u001b[1;33m=\u001b[0m \u001b[1;33m[\u001b[0m\u001b[1;33m]\u001b[0m\u001b[1;33m\u001b[0m\u001b[0m\n",
      "\u001b[1;32mC:\\Anaconda\\lib\\site-packages\\tensorflow\\python\\client\\session.py\u001b[0m in \u001b[0;36m_do_run\u001b[1;34m(self, handle, target_list, fetch_list, feed_dict, options, run_metadata)\u001b[0m\n\u001b[0;32m   1130\u001b[0m     \u001b[1;32mif\u001b[0m \u001b[0mhandle\u001b[0m \u001b[1;32mis\u001b[0m \u001b[1;32mNone\u001b[0m\u001b[1;33m:\u001b[0m\u001b[1;33m\u001b[0m\u001b[0m\n\u001b[0;32m   1131\u001b[0m       return self._do_call(_run_fn, self._session, feed_dict, fetch_list,\n\u001b[1;32m-> 1132\u001b[1;33m                            target_list, options, run_metadata)\n\u001b[0m\u001b[0;32m   1133\u001b[0m     \u001b[1;32melse\u001b[0m\u001b[1;33m:\u001b[0m\u001b[1;33m\u001b[0m\u001b[0m\n\u001b[0;32m   1134\u001b[0m       return self._do_call(_prun_fn, self._session, handle, feed_dict,\n",
      "\u001b[1;32mC:\\Anaconda\\lib\\site-packages\\tensorflow\\python\\client\\session.py\u001b[0m in \u001b[0;36m_do_call\u001b[1;34m(self, fn, *args)\u001b[0m\n\u001b[0;32m   1137\u001b[0m   \u001b[1;32mdef\u001b[0m \u001b[0m_do_call\u001b[0m\u001b[1;33m(\u001b[0m\u001b[0mself\u001b[0m\u001b[1;33m,\u001b[0m \u001b[0mfn\u001b[0m\u001b[1;33m,\u001b[0m \u001b[1;33m*\u001b[0m\u001b[0margs\u001b[0m\u001b[1;33m)\u001b[0m\u001b[1;33m:\u001b[0m\u001b[1;33m\u001b[0m\u001b[0m\n\u001b[0;32m   1138\u001b[0m     \u001b[1;32mtry\u001b[0m\u001b[1;33m:\u001b[0m\u001b[1;33m\u001b[0m\u001b[0m\n\u001b[1;32m-> 1139\u001b[1;33m       \u001b[1;32mreturn\u001b[0m \u001b[0mfn\u001b[0m\u001b[1;33m(\u001b[0m\u001b[1;33m*\u001b[0m\u001b[0margs\u001b[0m\u001b[1;33m)\u001b[0m\u001b[1;33m\u001b[0m\u001b[0m\n\u001b[0m\u001b[0;32m   1140\u001b[0m     \u001b[1;32mexcept\u001b[0m \u001b[0merrors\u001b[0m\u001b[1;33m.\u001b[0m\u001b[0mOpError\u001b[0m \u001b[1;32mas\u001b[0m \u001b[0me\u001b[0m\u001b[1;33m:\u001b[0m\u001b[1;33m\u001b[0m\u001b[0m\n\u001b[0;32m   1141\u001b[0m       \u001b[0mmessage\u001b[0m \u001b[1;33m=\u001b[0m \u001b[0mcompat\u001b[0m\u001b[1;33m.\u001b[0m\u001b[0mas_text\u001b[0m\u001b[1;33m(\u001b[0m\u001b[0me\u001b[0m\u001b[1;33m.\u001b[0m\u001b[0mmessage\u001b[0m\u001b[1;33m)\u001b[0m\u001b[1;33m\u001b[0m\u001b[0m\n",
      "\u001b[1;32mC:\\Anaconda\\lib\\site-packages\\tensorflow\\python\\client\\session.py\u001b[0m in \u001b[0;36m_run_fn\u001b[1;34m(session, feed_dict, fetch_list, target_list, options, run_metadata)\u001b[0m\n\u001b[0;32m   1119\u001b[0m         return tf_session.TF_Run(session, options,\n\u001b[0;32m   1120\u001b[0m                                  \u001b[0mfeed_dict\u001b[0m\u001b[1;33m,\u001b[0m \u001b[0mfetch_list\u001b[0m\u001b[1;33m,\u001b[0m \u001b[0mtarget_list\u001b[0m\u001b[1;33m,\u001b[0m\u001b[1;33m\u001b[0m\u001b[0m\n\u001b[1;32m-> 1121\u001b[1;33m                                  status, run_metadata)\n\u001b[0m\u001b[0;32m   1122\u001b[0m \u001b[1;33m\u001b[0m\u001b[0m\n\u001b[0;32m   1123\u001b[0m     \u001b[1;32mdef\u001b[0m \u001b[0m_prun_fn\u001b[0m\u001b[1;33m(\u001b[0m\u001b[0msession\u001b[0m\u001b[1;33m,\u001b[0m \u001b[0mhandle\u001b[0m\u001b[1;33m,\u001b[0m \u001b[0mfeed_dict\u001b[0m\u001b[1;33m,\u001b[0m \u001b[0mfetch_list\u001b[0m\u001b[1;33m)\u001b[0m\u001b[1;33m:\u001b[0m\u001b[1;33m\u001b[0m\u001b[0m\n",
      "\u001b[1;31mKeyboardInterrupt\u001b[0m: "
     ]
    }
   ],
   "source": [
    "newModel = Sequential()\n",
    "newModel.add(GRU(units=7, stateful=True, batch_input_shape=(1,1,7), return_sequences=True))\n",
    "newModel.add(GRU(units=nb_unit, return_sequences=True))\n",
    "newModel.set_weights(model.get_weights())\n",
    "\n",
    "result_GRU = []\n",
    "for _ in range(20):\n",
    "    result_GRU.append(evaluate(newModel, 100, 50))\n",
    "\n",
    "plt.plot(list(range(20)), result_GRU)\n",
    "plt.show()"
   ]
  },
  {
   "cell_type": "markdown",
   "metadata": {},
   "source": [
    "## Conclusion\n",
    "\n",
    "IUn this workbook, we started to go through RNN. We check simple model of both LSTM, GRU and SimpleRNN to check how fast and well they learn. On this example GRU outperform other models for 2 reasons:\n",
    "<li>LSTM are better for long sequence memory. On this short example, the generator jumped from a node to another one with the same letter (see red arrow below) <img src=\"reber_jump.png\"/>. In fact, it outputs a too high probability of those non-allowed rules and the \"PickOne\" function had risks to pick it</li>\n",
    "<li>Simple RNN are not strong enougth with 1 hidden layer to \"remember\" all those rules. We need a longer NN which is also longer to train. This simpleRNN is faster but nearly never used anymore as it perform very poorly on lot of cases</li>"
   ]
  },
  {
   "cell_type": "markdown",
   "metadata": {},
   "source": [
    "## Going further\n",
    "\n",
    "On a future notebook, we will explore Embedded Reber but using deeper RNNs"
   ]
  }
 ],
 "metadata": {
  "kernelspec": {
   "display_name": "Python 3",
   "language": "python",
   "name": "python3"
  },
  "language_info": {
   "codemirror_mode": {
    "name": "ipython",
    "version": 3
   },
   "file_extension": ".py",
   "mimetype": "text/x-python",
   "name": "python",
   "nbconvert_exporter": "python",
   "pygments_lexer": "ipython3",
   "version": "3.6.1"
  }
 },
 "nbformat": 4,
 "nbformat_minor": 2
}
