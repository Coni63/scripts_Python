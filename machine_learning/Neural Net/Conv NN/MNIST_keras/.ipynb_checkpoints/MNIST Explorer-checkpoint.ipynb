{
 "cells": [
  {
   "cell_type": "markdown",
   "metadata": {},
   "source": [
    "# MNIST : Exploration of CNN\n",
    "\n",
    "### Introduction\n",
    "\n",
    "On a previous Notebook, we went through standard DNN to classify MNIST dataset. We explored some parameter to improve it (topology, normalization, activation functions and optimizer). In this Notebook we won't do the same with a CNN network but instead we will try to visualize the impact of filters on the output. To simplify code, I used Keras instead of Tensorflow as it allows quickly to set up model and evaluate a specific layer/filter easily.\n",
    "\n",
    "To know more about Convolutionnal Neural Network, you refer to <a href=\"https://adeshpande3.github.io/A-Beginner%27s-Guide-To-Understanding-Convolutional-Neural-Networks-Part-2/\" target=\"_blank\">this introduction</a>.\n",
    "\n",
    "\n",
    "\n",
    "### Model\n",
    "\n",
    "For this part, we will setup a Standard CNN well known for MNIST which perform highly better than the previous DNN (accuracy was around 88% and now, our model will be above 99%). To do so, we will first have a first Convolutionnal Layer with 32 filters of 3x3. As output our image will be break into 32 filtered images of 26x26 pixels. After, the picture will pass through another CNN of 64 filters of 3x3 pixels. The output will be 64 images of 24x24 pixels. Then, all pictures will pass in the MaxPooling Layer of 2x2 to end up with a 64 pictures of 12x12 pixels. All those 64 images will be flattened in a big vector (1, 14*14*64) and then be classified with a standard DNN. A dropout is also used to increase performances on the model and avoid overfitting.\n",
    "\n",
    "The training will be done on 12 epochs (the model is trained after 10 epochs usually). "
   ]
  },
  {
   "cell_type": "code",
   "execution_count": 1,
   "metadata": {},
   "outputs": [
    {
     "name": "stderr",
     "output_type": "stream",
     "text": [
      "Using TensorFlow backend.\n"
     ]
    }
   ],
   "source": [
    "import numpy as np\n",
    "import matplotlib.pyplot as plt\n",
    "\n",
    "import keras\n",
    "from keras.datasets import mnist\n",
    "from keras.models import Model\n",
    "from keras.models import Sequential\n",
    "from keras.layers import Dense, Dropout, Flatten\n",
    "from keras.layers import Conv2D, MaxPooling2D\n",
    "from keras import backend as K\n",
    "\n",
    "%matplotlib inline"
   ]
  },
  {
   "cell_type": "code",
   "execution_count": 2,
   "metadata": {
    "collapsed": true
   },
   "outputs": [],
   "source": [
    "batch_size = 128\n",
    "num_classes = 10\n",
    "epochs = 12\n",
    "\n",
    "img_rows, img_cols = 28, 28"
   ]
  },
  {
   "cell_type": "markdown",
   "metadata": {},
   "source": [
    "We can now load the dataset for training and test"
   ]
  },
  {
   "cell_type": "code",
   "execution_count": 3,
   "metadata": {
    "collapsed": true
   },
   "outputs": [],
   "source": [
    "(x_train, y_train), (x_test, y_test) = mnist.load_data()"
   ]
  },
  {
   "cell_type": "markdown",
   "metadata": {},
   "source": [
    "then we need to reshape it in order to have a proper tensor"
   ]
  },
  {
   "cell_type": "code",
   "execution_count": 4,
   "metadata": {
    "collapsed": true
   },
   "outputs": [],
   "source": [
    "if K.image_data_format() == 'channels_first':\n",
    "    x_train = x_train.reshape(x_train.shape[0], 1, img_rows, img_cols)\n",
    "    x_test = x_test.reshape(x_test.shape[0], 1, img_rows, img_cols)\n",
    "    input_shape = (1, img_rows, img_cols)\n",
    "else:\n",
    "    x_train = x_train.reshape(x_train.shape[0], img_rows, img_cols, 1)\n",
    "    x_test = x_test.reshape(x_test.shape[0], img_rows, img_cols, 1)\n",
    "    input_shape = (img_rows, img_cols, 1)"
   ]
  },
  {
   "cell_type": "markdown",
   "metadata": {},
   "source": [
    "Quick MinMax Normalization"
   ]
  },
  {
   "cell_type": "code",
   "execution_count": 5,
   "metadata": {},
   "outputs": [
    {
     "name": "stdout",
     "output_type": "stream",
     "text": [
      "x_train shape: (60000, 28, 28, 1)\n",
      "60000 train samples\n",
      "10000 test samples\n"
     ]
    }
   ],
   "source": [
    "x_train = x_train.astype('float32')\n",
    "x_test = x_test.astype('float32')\n",
    "x_train /= 255\n",
    "x_test /= 255\n",
    "print('x_train shape:', x_train.shape)\n",
    "print(x_train.shape[0], 'train samples')\n",
    "print(x_test.shape[0], 'test samples')"
   ]
  },
  {
   "cell_type": "markdown",
   "metadata": {},
   "source": [
    "And we can do the model"
   ]
  },
  {
   "cell_type": "code",
   "execution_count": 6,
   "metadata": {
    "collapsed": true
   },
   "outputs": [],
   "source": [
    "y_train = keras.utils.to_categorical(y_train, num_classes)\n",
    "y_test = keras.utils.to_categorical(y_test, num_classes)"
   ]
  },
  {
   "cell_type": "code",
   "execution_count": 7,
   "metadata": {
    "collapsed": true
   },
   "outputs": [],
   "source": [
    "model = Sequential()\n",
    "model.add(Conv2D(filters=32, \n",
    "                 kernel_size=(3, 3),\n",
    "                 strides=1,\n",
    "                 padding=\"SAME\",\n",
    "                 activation='relu',\n",
    "                 input_shape=input_shape,\n",
    "                 name=\"conv1\"\n",
    "                ))\n",
    "model.add(Conv2D(filters=64, \n",
    "                 kernel_size=(3, 3), \n",
    "                 strides=1,\n",
    "                 padding=\"SAME\",\n",
    "                 activation='relu', \n",
    "                 name=\"conv2\"\n",
    "                ))\n",
    "model.add(MaxPooling2D(pool_size=(2, 2), name=\"MaxPool\"))\n",
    "model.add(Dropout(0.25))\n",
    "model.add(Flatten(name=\"flat\"))\n",
    "model.add(Dense(128, activation='relu'))\n",
    "model.add(Dropout(0.25))\n",
    "model.add(Dense(num_classes, activation='softmax'))"
   ]
  },
  {
   "cell_type": "markdown",
   "metadata": {},
   "source": [
    "then we can compile it usign crossentropy as Loss Function and AdaDelta as Optimizer (Optimisation of Adagrad). Of course, the metric remains the accuracy of the model"
   ]
  },
  {
   "cell_type": "code",
   "execution_count": 8,
   "metadata": {
    "collapsed": true
   },
   "outputs": [],
   "source": [
    "model.compile(loss=keras.losses.categorical_crossentropy,\n",
    "              optimizer=keras.optimizers.Adadelta(),\n",
    "              metrics=['accuracy'])"
   ]
  },
  {
   "cell_type": "markdown",
   "metadata": {},
   "source": [
    "we now can fit the model and check the accuracy"
   ]
  },
  {
   "cell_type": "code",
   "execution_count": 9,
   "metadata": {},
   "outputs": [
    {
     "name": "stdout",
     "output_type": "stream",
     "text": [
      "Train on 60000 samples, validate on 10000 samples\n",
      "Epoch 1/12\n",
      "60000/60000 [==============================] - 8s - loss: 0.2669 - acc: 0.9184 - val_loss: 0.0623 - val_acc: 0.9802\n",
      "Epoch 2/12\n",
      "60000/60000 [==============================] - 6s - loss: 0.0754 - acc: 0.9774 - val_loss: 0.0439 - val_acc: 0.9850\n",
      "Epoch 3/12\n",
      "60000/60000 [==============================] - 6s - loss: 0.0544 - acc: 0.9827 - val_loss: 0.0352 - val_acc: 0.9881\n",
      "Epoch 4/12\n",
      "60000/60000 [==============================] - 6s - loss: 0.0454 - acc: 0.9858 - val_loss: 0.0338 - val_acc: 0.9880\n",
      "Epoch 5/12\n",
      "60000/60000 [==============================] - 6s - loss: 0.0382 - acc: 0.9885 - val_loss: 0.0324 - val_acc: 0.9896\n",
      "Epoch 6/12\n",
      "60000/60000 [==============================] - 6s - loss: 0.0330 - acc: 0.9900 - val_loss: 0.0286 - val_acc: 0.9901\n",
      "Epoch 7/12\n",
      "60000/60000 [==============================] - 6s - loss: 0.0281 - acc: 0.9910 - val_loss: 0.0287 - val_acc: 0.9902\n",
      "Epoch 8/12\n",
      "60000/60000 [==============================] - 6s - loss: 0.0258 - acc: 0.9921 - val_loss: 0.0254 - val_acc: 0.9914\n",
      "Epoch 9/12\n",
      "60000/60000 [==============================] - 6s - loss: 0.0237 - acc: 0.9925 - val_loss: 0.0253 - val_acc: 0.9913\n",
      "Epoch 10/12\n",
      "60000/60000 [==============================] - 6s - loss: 0.0218 - acc: 0.9934 - val_loss: 0.0242 - val_acc: 0.9918\n",
      "Epoch 11/12\n",
      "60000/60000 [==============================] - 6s - loss: 0.0192 - acc: 0.9942 - val_loss: 0.0271 - val_acc: 0.9917\n",
      "Epoch 12/12\n",
      "60000/60000 [==============================] - 6s - loss: 0.0172 - acc: 0.9945 - val_loss: 0.0277 - val_acc: 0.9915\n",
      "Test loss: 0.0277139553652\n",
      "Test accuracy: 0.9915\n"
     ]
    }
   ],
   "source": [
    "model.fit(x_train, y_train,\n",
    "          batch_size=batch_size,\n",
    "          epochs=epochs,\n",
    "          verbose=1,\n",
    "          validation_data=(x_test, y_test))\n",
    "score = model.evaluate(x_test, y_test, verbose=2)\n",
    "print('Test loss:', score[0])\n",
    "print('Test accuracy:', score[1])"
   ]
  },
  {
   "cell_type": "markdown",
   "metadata": {},
   "source": [
    "Slightly above 99%, it's a very good score for such a simple model and the training time is pretty quick\n",
    "\n",
    "### Exploration\n",
    "\n",
    "Now, the model is trained, we can visualise filters based on the value of each cell. We first gonna visualise the first level of layer which is usually filtering simple features. The deeper we go, the more abstract features it detects. You can visualize filters from Deep Neural Network on <a href=\"https://blog.keras.io/how-convolutional-neural-networks-see-the-world.html\" target=\"_blank\">this page</a>. We can see on this page that first filters detect textures, then lines/dots then quares/circle/... to finish with strange shapes"
   ]
  },
  {
   "cell_type": "code",
   "execution_count": 10,
   "metadata": {
    "scrolled": true
   },
   "outputs": [
    {
     "name": "stdout",
     "output_type": "stream",
     "text": [
      "Conv2D\n",
      "(3, 3, 1, 32)\n"
     ]
    },
    {
     "data": {
      "image/png": "[encoded data removed]",
      "text/plain": [
       "<matplotlib.figure.Figure at 0x223c1c8cfd0>"
      ]
     },
     "metadata": {},
     "output_type": "display_data"
    }
   ],
   "source": [
    "print(model.layers[1].__class__.__name__)\n",
    "\n",
    "filter1 = np.array(model.layers[0].get_weights())\n",
    "print(filter1[0].shape)\n",
    "\n",
    "f, axarr = plt.subplots(4, 8, figsize=(15,15))\n",
    "for i in range(8):\n",
    "    for j in range(4):  # 32 layers at first level\n",
    "        axarr[j, i].imshow(filter1[0][:,:,0,i+j*8])\n",
    "        axarr[j, i].set_title(\"Filter {}\".format(i+j*8))\n",
    "        axarr[j, i].axis('off')\n",
    "plt.tight_layout()\n",
    "plt.show()"
   ]
  },
  {
   "cell_type": "code",
   "execution_count": 11,
   "metadata": {},
   "outputs": [
    {
     "name": "stdout",
     "output_type": "stream",
     "text": [
      "(3, 3, 32, 64)\n"
     ]
    },
    {
     "data": {
      "image/png": "[encoded data removed]",
      "text/plain": [
       "<matplotlib.figure.Figure at 0x223c4c6c6d8>"
      ]
     },
     "metadata": {},
     "output_type": "display_data"
    }
   ],
   "source": [
    "filter2 = np.array(model.layers[1].get_weights())\n",
    "print(filter2[0].shape)\n",
    "\n",
    "f, axarr = plt.subplots(4, 8, figsize=(15,15))\n",
    "for i in range(8):\n",
    "    for j in range(4):  # 32 layers at first level\n",
    "        axarr[j, i].imshow(filter2[0][:,:,i+j*8, 32])\n",
    "        axarr[j, i].set_title(\"Filter {}\".format(i+j*8))\n",
    "        axarr[j, i].axis('off')\n",
    "plt.tight_layout()\n",
    "plt.show()"
   ]
  },
  {
   "cell_type": "markdown",
   "metadata": {},
   "source": [
    "In our case, it's less visible because our filters are smaller (only 3x3) but we can see that the filter 3, 4 or 5 from the first layer should detect horizontal lines. Let's use it to explore the output thru this filter. With Keras we can extract the output at every level with the following snippet"
   ]
  },
  {
   "cell_type": "code",
   "execution_count": 12,
   "metadata": {
    "collapsed": true
   },
   "outputs": [],
   "source": [
    "conv1_layer_model = Model(inputs=model.input,\n",
    "                          outputs=model.get_layer(\"conv1\").output)\n",
    "conv2_layer_model = Model(inputs=model.input,\n",
    "                          outputs=model.get_layer(\"conv2\").output)\n",
    "mpool_layer_model = Model(inputs=model.input,\n",
    "                          outputs=model.get_layer(\"MaxPool\").output)\n",
    "flat_layer_model = Model(inputs=model.input,\n",
    "                          outputs=model.get_layer(\"flat\").output)"
   ]
  },
  {
   "cell_type": "code",
   "execution_count": 13,
   "metadata": {},
   "outputs": [
    {
     "name": "stdout",
     "output_type": "stream",
     "text": [
      "(1, 28, 28, 1)\n",
      "(1, 28, 28, 32)\n",
      "(1, 28, 28, 64)\n",
      "(1, 14, 14, 64)\n",
      "(1, 12544)\n"
     ]
    }
   ],
   "source": [
    "index_data = 32\n",
    "\n",
    "data_to_predict = x_test[index_data].reshape(1, 28, 28, 1)\n",
    "out_1 = conv1_layer_model.predict(data_to_predict)\n",
    "out_2 = conv2_layer_model.predict(data_to_predict)\n",
    "out_3 = mpool_layer_model.predict(data_to_predict)\n",
    "out_4 = flat_layer_model.predict(data_to_predict)\n",
    "\n",
    "print(data_to_predict.shape)\n",
    "print(out_1.shape)\n",
    "print(out_2.shape)\n",
    "print(out_3.shape)\n",
    "print(out_4.shape)"
   ]
  },
  {
   "cell_type": "code",
   "execution_count": 14,
   "metadata": {},
   "outputs": [
    {
     "data": {
      "image/png": "[encoded data removed]",
      "text/plain": [
       "<matplotlib.figure.Figure at 0x2257762c898>"
      ]
     },
     "metadata": {},
     "output_type": "display_data"
    }
   ],
   "source": [
    "filter_1 = 5 # [0 => 31]\n",
    "filter_2 = 0 # [0 => 63]\n",
    "\n",
    "fig = plt.figure(figsize=(12, 12))\n",
    "plt.subplot(221)\n",
    "plt.imshow(data_to_predict[0, :, :, 0], cmap='Greys')\n",
    "plt.title(\"Original\")\n",
    "plt.subplot(222)\n",
    "plt.imshow(out_1[0, :, :, filter_1], cmap='Greys',interpolation='nearest')\n",
    "plt.title(\"After 1st Conv. on filter {}\".format(filter_1))\n",
    "plt.subplot(223)\n",
    "plt.imshow(out_2[0, :, :, filter_2], cmap='Greys',interpolation='nearest')\n",
    "plt.title(\"After 2nd Conv. on filter {}\".format(filter_2))\n",
    "plt.subplot(224)\n",
    "plt.imshow(out_3[0, :, :, filter_2], cmap='Greys',interpolation='nearest')\n",
    "plt.title(\"After Max_Pool on filter {}\".format(filter_2))\n",
    "plt.show()"
   ]
  },
  {
   "cell_type": "markdown",
   "metadata": {
    "collapsed": true
   },
   "source": [
    "As expected, we can see that after the first layer, the more horizontal the line is, the darker the output is. After the second convolution, it's again more visibel and the MaxPooling Layer is reducing the size of the picture and just keep the most visible horizontal lines."
   ]
  },
  {
   "cell_type": "markdown",
   "metadata": {},
   "source": [
    "### Conclusion\n",
    "\n",
    "With multiple filters, a convolutionnal is able to provide as output the list of existing features. After the DNN is on ly used  to classify it based on the list of features. For example, a Zero must contrain a loop like a 8. But 8 must have 2 of them. If the NN get as input \"2\" loops, it will predict an 8, if there is 1, it will predict 0. Of course it can also be 6 or 9 but the \"extension\" of both number will activate other outputs in the NN."
   ]
  }
 ],
 "metadata": {
  "kernelspec": {
   "display_name": "Python 3",
   "language": "python",
   "name": "python3"
  },
  "language_info": {
   "codemirror_mode": {
    "name": "ipython",
    "version": 3
   },
   "file_extension": ".py",
   "mimetype": "text/x-python",
   "name": "python",
   "nbconvert_exporter": "python",
   "pygments_lexer": "ipython3",
   "version": "3.6.1"
  }
 },
 "nbformat": 4,
 "nbformat_minor": 2
}
