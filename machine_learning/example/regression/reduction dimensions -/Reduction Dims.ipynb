{
 "cells": [
  {
   "cell_type": "code",
   "execution_count": 4,
   "metadata": {
    "collapsed": true
   },
   "outputs": [],
   "source": [
    "url = \"https://d396qusza40orc.cloudfront.net/predmachlearn/pml-training.csv\""
   ]
  },
  {
   "cell_type": "code",
   "execution_count": 2,
   "metadata": {
    "collapsed": true
   },
   "outputs": [],
   "source": [
    "import io\n",
    "from scipy import misc\n",
    "import numpy as np\n",
    "import pandas as pd\n",
    "import matplotlib.pyplot as plt\n",
    "\n",
    "from sklearn.model_selection import train_test_split, StratifiedShuffleSplit\n",
    "from sklearn.preprocessing import OneHotEncoder, LabelEncoder, LabelBinarizer, StandardScaler, Imputer, MinMaxScaler\n",
    "from sklearn.pipeline import Pipeline, FeatureUnion\n",
    "from sklearn.base import BaseEstimator, TransformerMixin\n",
    "from sklearn.linear_model import LinearRegression\n",
    "from sklearn.model_selection import cross_val_score, GridSearchCV\n",
    "from sklearn.metrics import mean_squared_error, mean_absolute_error\n",
    "from sklearn.tree import DecisionTreeRegressor, export_graphviz\n",
    "from sklearn.ensemble import RandomForestRegressor\n",
    "from sklearn.svm import SVR\n",
    "\n",
    "\n",
    "%matplotlib inline"
   ]
  },
  {
   "cell_type": "code",
   "execution_count": 5,
   "metadata": {},
   "outputs": [
    {
     "name": "stdout",
     "output_type": "stream",
     "text": [
      "   Unnamed: 0 user_name  raw_timestamp_part_1  raw_timestamp_part_2  \\\n",
      "0           1  carlitos            1323084231                788290   \n",
      "1           2  carlitos            1323084231                808298   \n",
      "2           3  carlitos            1323084231                820366   \n",
      "3           4  carlitos            1323084232                120339   \n",
      "4           5  carlitos            1323084232                196328   \n",
      "\n",
      "     cvtd_timestamp new_window  num_window  roll_belt  pitch_belt  yaw_belt  \\\n",
      "0  05/12/2011 11:23         no          11       1.41        8.07     -94.4   \n",
      "1  05/12/2011 11:23         no          11       1.41        8.07     -94.4   \n",
      "2  05/12/2011 11:23         no          11       1.42        8.07     -94.4   \n",
      "3  05/12/2011 11:23         no          12       1.48        8.05     -94.4   \n",
      "4  05/12/2011 11:23         no          12       1.48        8.07     -94.4   \n",
      "\n",
      "   ...    gyros_forearm_x gyros_forearm_y gyros_forearm_z accel_forearm_x  \\\n",
      "0  ...               0.03            0.00           -0.02             192   \n",
      "1  ...               0.02            0.00           -0.02             192   \n",
      "2  ...               0.03           -0.02            0.00             196   \n",
      "3  ...               0.02           -0.02            0.00             189   \n",
      "4  ...               0.02            0.00           -0.02             189   \n",
      "\n",
      "  accel_forearm_y accel_forearm_z magnet_forearm_x  magnet_forearm_y  \\\n",
      "0             203            -215              -17             654.0   \n",
      "1             203            -216              -18             661.0   \n",
      "2             204            -213              -18             658.0   \n",
      "3             206            -214              -16             658.0   \n",
      "4             206            -214              -17             655.0   \n",
      "\n",
      "   magnet_forearm_z classe  \n",
      "0             476.0      A  \n",
      "1             473.0      A  \n",
      "2             469.0      A  \n",
      "3             469.0      A  \n",
      "4             473.0      A  \n",
      "\n",
      "[5 rows x 160 columns] \n",
      "\n",
      "<class 'pandas.core.frame.DataFrame'>\n",
      "RangeIndex: 19622 entries, 0 to 19621\n",
      "Columns: 160 entries, Unnamed: 0 to classe\n",
      "dtypes: float64(94), int64(29), object(37)\n",
      "memory usage: 24.0+ MB\n",
      "None \n",
      "\n",
      "         Unnamed: 0  raw_timestamp_part_1  raw_timestamp_part_2    num_window  \\\n",
      "count  19622.000000          1.962200e+04          19622.000000  19622.000000   \n",
      "mean    9811.500000          1.322827e+09         500656.144277    430.640047   \n",
      "std     5664.527827          2.049277e+05         288222.879958    247.909554   \n",
      "min        1.000000          1.322490e+09            294.000000      1.000000   \n",
      "25%     4906.250000          1.322673e+09         252912.250000    222.000000   \n",
      "50%     9811.500000          1.322833e+09         496380.000000    424.000000   \n",
      "75%    14716.750000          1.323084e+09         751890.750000    644.000000   \n",
      "max    19622.000000          1.323095e+09         998801.000000    864.000000   \n",
      "\n",
      "          roll_belt    pitch_belt      yaw_belt  total_accel_belt  \\\n",
      "count  19622.000000  19622.000000  19622.000000      19622.000000   \n",
      "mean      64.407197      0.305283    -11.205061         11.312608   \n",
      "std       62.750255     22.351242     95.193926          7.742309   \n",
      "min      -28.900000    -55.800000   -180.000000          0.000000   \n",
      "25%        1.100000      1.760000    -88.300000          3.000000   \n",
      "50%      113.000000      5.280000    -13.000000         17.000000   \n",
      "75%      123.000000     14.900000     12.900000         18.000000   \n",
      "max      162.000000     60.300000    179.000000         29.000000   \n",
      "\n",
      "       max_roll_belt  max_picth_belt        ...         var_yaw_forearm  \\\n",
      "count     406.000000      406.000000        ...              406.000000   \n",
      "mean       -6.667241       12.923645        ...             4639.849068   \n",
      "std        94.594252        8.005960        ...             7284.972361   \n",
      "min       -94.300000        3.000000        ...                0.000000   \n",
      "25%       -88.000000        5.000000        ...                0.274550   \n",
      "50%        -5.100000       18.000000        ...              612.214225   \n",
      "75%        18.500000       19.000000        ...             7368.414252   \n",
      "max       180.000000       30.000000        ...            39009.333330   \n",
      "\n",
      "       gyros_forearm_x  gyros_forearm_y  gyros_forearm_z  accel_forearm_x  \\\n",
      "count     19622.000000     19622.000000     19622.000000     19622.000000   \n",
      "mean          0.157951         0.075175         0.151245       -61.651819   \n",
      "std           0.648618         3.100725         1.754483       180.593687   \n",
      "min         -22.000000        -7.020000        -8.090000      -498.000000   \n",
      "25%          -0.220000        -1.460000        -0.180000      -178.000000   \n",
      "50%           0.050000         0.030000         0.080000       -57.000000   \n",
      "75%           0.560000         1.620000         0.490000        76.000000   \n",
      "max           3.970000       311.000000       231.000000       477.000000   \n",
      "\n",
      "       accel_forearm_y  accel_forearm_z  magnet_forearm_x  magnet_forearm_y  \\\n",
      "count     19622.000000     19622.000000      19622.000000      19622.000000   \n",
      "mean        163.655896       -55.291917       -312.575884        380.116445   \n",
      "std         200.130082       138.396947        346.958482        509.373742   \n",
      "min        -632.000000      -446.000000      -1280.000000       -896.000000   \n",
      "25%          57.000000      -182.000000       -616.000000          2.000000   \n",
      "50%         201.000000       -39.000000       -378.000000        591.000000   \n",
      "75%         312.000000        26.000000        -73.000000        737.000000   \n",
      "max         923.000000       291.000000        672.000000       1480.000000   \n",
      "\n",
      "       magnet_forearm_z  \n",
      "count      19622.000000  \n",
      "mean         393.613745  \n",
      "std          369.268747  \n",
      "min         -973.000000  \n",
      "25%          191.000000  \n",
      "50%          511.000000  \n",
      "75%          653.000000  \n",
      "max         1090.000000  \n",
      "\n",
      "[8 rows x 123 columns] \n",
      "\n"
     ]
    },
    {
     "name": "stderr",
     "output_type": "stream",
     "text": [
      "C:\\Anaconda\\lib\\site-packages\\IPython\\core\\interactiveshell.py:2717: DtypeWarning: Columns (11,14,19,22,25,70,73,86,87,89,90,94,97,100) have mixed types. Specify dtype option on import or set low_memory=False.\n",
      "  interactivity=interactivity, compiler=compiler, result=result)\n"
     ]
    }
   ],
   "source": [
    "dataset = pd.read_csv(url)\n",
    "print(dataset.head(), \"\\n\" )\n",
    "print(dataset.info(), \"\\n\")\n",
    "print(dataset.describe(), \"\\n\")"
   ]
  },
  {
   "cell_type": "code",
   "execution_count": null,
   "metadata": {
    "collapsed": true
   },
   "outputs": [],
   "source": []
  }
 ],
 "metadata": {
  "kernelspec": {
   "display_name": "Python 3",
   "language": "python",
   "name": "python3"
  },
  "language_info": {
   "codemirror_mode": {
    "name": "ipython",
    "version": 3
   },
   "file_extension": ".py",
   "mimetype": "text/x-python",
   "name": "python",
   "nbconvert_exporter": "python",
   "pygments_lexer": "ipython3",
   "version": "3.6.1"
  }
 },
 "nbformat": 4,
 "nbformat_minor": 2
}
