{
 "cells": [
  {
   "cell_type": "code",
   "execution_count": 101,
   "metadata": {
    "collapsed": true
   },
   "outputs": [],
   "source": [
    "import random\n",
    "import numpy as np\n",
    "\n",
    "import matplotlib.pyplot as plt\n",
    "\n",
    "%matplotlib inline"
   ]
  },
  {
   "cell_type": "code",
   "execution_count": 133,
   "metadata": {
    "collapsed": true
   },
   "outputs": [],
   "source": [
    "prob_weather_change = 0.3\n",
    "prob_umbrella_if_rain = 0.9\n",
    "sample_size = 100"
   ]
  },
  {
   "cell_type": "code",
   "execution_count": 134,
   "metadata": {},
   "outputs": [],
   "source": [
    "weather = [random.randrange(2)]\n",
    "\n",
    "for _ in range(sample_size-1):\n",
    "    if random.random() < prob_weather_change:\n",
    "        weather.append(1-weather[-1])\n",
    "    else:\n",
    "        weather.append(weather[-1])\n",
    "        \n",
    "umbrella = []\n",
    "for w in weather:\n",
    "    if w == 0:\n",
    "        if random.random() > prob_umbrella_if_rain:\n",
    "            umbrella.append(1)\n",
    "        else:\n",
    "            umbrella.append(0)\n",
    "    else:\n",
    "        if random.random() > prob_umbrella_if_rain:\n",
    "            umbrella.append(0)\n",
    "        else:\n",
    "            umbrella.append(1)"
   ]
  },
  {
   "cell_type": "code",
   "execution_count": 137,
   "metadata": {},
   "outputs": [
    {
     "data": {
      "image/png": "[encoded data removed]",
      "text/plain": [
       "<matplotlib.figure.Figure at 0x1e168ce3748>"
      ]
     },
     "metadata": {},
     "output_type": "display_data"
    }
   ],
   "source": [
    "x = list(range(sample_size)) \n",
    "y = weather\n",
    "y2 = [-x for x in umbrella]\n",
    "plt.figure(figsize=(20,6))\n",
    "plt.step(x, y, label=\"weather\")\n",
    "plt.step(x, y2, label=\"umbrella\")\n",
    "plt.fill_between(x, y, step=\"pre\", alpha=0.2)\n",
    "plt.fill_between(x, y2, step=\"pre\", alpha=0.2)\n",
    "plt.xlabel(\"Days\")\n",
    "plt.ylabel(\"Weather/Umbrella\")\n",
    "plt.legend()\n",
    "plt.xlim(0, sample_size-1)\n",
    "plt.show()"
   ]
  },
  {
   "cell_type": "markdown",
   "metadata": {},
   "source": [
    "# Filtering"
   ]
  },
  {
   "cell_type": "markdown",
   "metadata": {},
   "source": [
    "Filtering\n",
    "The task is to compute, given the model's parameters and a sequence of observations, the distribution over hidden states of the last latent variable at the end of the sequence, i.e. to compute \n",
    "\n",
    "\\begin{equation*}\n",
    "P(\\ x(t)\\ |\\ y(1),\\ ... ,\\ y(t)\\ )\n",
    "\\end{equation*}\n",
    "\n",
    "This task is normally used when the sequence of latent variables is thought of as the underlying states that a process moves through at a sequence of points of time, with corresponding observations at each point in time. Then, it is natural to ask about the state of the process at the end.\n",
    "\n",
    "This problem can be handled efficiently using the forward algorithm.\n",
    "\n",
    "<a href=\"https://en.wikipedia.org/wiki/Hidden_Markov_model\">Source Wikipedia</a>\n",
    "\n",
    "### Goal\n",
    "\n",
    "Now our objective is to predict the last weather of the list generate previously from the 0:n-1 observation of the umbrella"
   ]
  },
  {
   "cell_type": "markdown",
   "metadata": {},
   "source": [
    "$$\\begin{eqnarray}\n",
    "P(x_t\\ |\\ y_{1:t}) &=& P(x_t\\ |\\ y_{1:t-1},\\ y_t) \\\\\n",
    "&=& \\alpha*P(y_t\\ |\\ x_t,\\ y_{1:t-1})&*P(x_t\\ |\\ y_{1:t-1})\\\\\n",
    "&=& \\alpha*P(y_t\\ |\\ x_t)&*P(x_t\\ |\\ y_{1:t-1})\\\\\n",
    "\\end{eqnarray}$$"
   ]
  },
  {
   "cell_type": "markdown",
   "metadata": {},
   "source": [
    "# Prediction"
   ]
  },
  {
   "cell_type": "markdown",
   "metadata": {},
   "source": [
    "# Smoothing"
   ]
  },
  {
   "cell_type": "markdown",
   "metadata": {},
   "source": [
    "# Most likely explanation"
   ]
  },
  {
   "cell_type": "code",
   "execution_count": null,
   "metadata": {
    "collapsed": true
   },
   "outputs": [],
   "source": []
  }
 ],
 "metadata": {
  "kernelspec": {
   "display_name": "Python 3",
   "language": "python",
   "name": "python3"
  },
  "language_info": {
   "codemirror_mode": {
    "name": "ipython",
    "version": 3
   },
   "file_extension": ".py",
   "mimetype": "text/x-python",
   "name": "python",
   "nbconvert_exporter": "python",
   "pygments_lexer": "ipython3",
   "version": "3.6.3"
  }
 },
 "nbformat": 4,
 "nbformat_minor": 2
}
