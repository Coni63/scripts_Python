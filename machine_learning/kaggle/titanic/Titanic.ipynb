{
 "cells": [
  {
   "cell_type": "markdown",
   "metadata": {},
   "source": [
    "# Imports"
   ]
  },
  {
   "cell_type": "code",
   "execution_count": 1,
   "metadata": {
    "collapsed": true
   },
   "outputs": [],
   "source": [
    "import numpy as np\n",
    "import pandas as pd\n",
    "import matplotlib.pyplot as plt\n",
    "\n",
    "from sklearn.model_selection import train_test_split, cross_val_score\n",
    "from sklearn.preprocessing import MinMaxScaler, Imputer\n",
    "from sklearn.pipeline import Pipeline\n",
    "from sklearn.linear_model import SGDClassifier\n",
    "from sklearn.tree import DecisionTreeClassifier, export_graphviz\n",
    "from sklearn.neural_network import MLPClassifier\n",
    "from sklearn.metrics import confusion_matrix, precision_recall_curve\n",
    "%matplotlib inline"
   ]
  },
  {
   "cell_type": "markdown",
   "metadata": {},
   "source": [
    "# Expore Dataset"
   ]
  },
  {
   "cell_type": "code",
   "execution_count": 2,
   "metadata": {},
   "outputs": [
    {
     "name": "stdout",
     "output_type": "stream",
     "text": [
      "   PassengerId  Survived  Pclass  \\\n",
      "0            1         0       3   \n",
      "1            2         1       1   \n",
      "2            3         1       3   \n",
      "3            4         1       1   \n",
      "4            5         0       3   \n",
      "\n",
      "                                                Name     Sex   Age  SibSp  \\\n",
      "0                            Braund, Mr. Owen Harris    male  22.0      1   \n",
      "1  Cumings, Mrs. John Bradley (Florence Briggs Th...  female  38.0      1   \n",
      "2                             Heikkinen, Miss. Laina  female  26.0      0   \n",
      "3       Futrelle, Mrs. Jacques Heath (Lily May Peel)  female  35.0      1   \n",
      "4                           Allen, Mr. William Henry    male  35.0      0   \n",
      "\n",
      "   Parch            Ticket     Fare Cabin Embarked  \n",
      "0      0         A/5 21171   7.2500   NaN        S  \n",
      "1      0          PC 17599  71.2833   C85        C  \n",
      "2      0  STON/O2. 3101282   7.9250   NaN        S  \n",
      "3      0            113803  53.1000  C123        S  \n",
      "4      0            373450   8.0500   NaN        S   \n",
      "\n",
      "<class 'pandas.core.frame.DataFrame'>\n",
      "RangeIndex: 891 entries, 0 to 890\n",
      "Data columns (total 12 columns):\n",
      "PassengerId    891 non-null int64\n",
      "Survived       891 non-null int64\n",
      "Pclass         891 non-null int64\n",
      "Name           891 non-null object\n",
      "Sex            891 non-null object\n",
      "Age            714 non-null float64\n",
      "SibSp          891 non-null int64\n",
      "Parch          891 non-null int64\n",
      "Ticket         891 non-null object\n",
      "Fare           891 non-null float64\n",
      "Cabin          204 non-null object\n",
      "Embarked       889 non-null object\n",
      "dtypes: float64(2), int64(5), object(5)\n",
      "memory usage: 83.6+ KB\n",
      "None \n",
      "\n",
      "       PassengerId    Survived      Pclass         Age       SibSp  \\\n",
      "count   891.000000  891.000000  891.000000  714.000000  891.000000   \n",
      "mean    446.000000    0.383838    2.308642   29.699118    0.523008   \n",
      "std     257.353842    0.486592    0.836071   14.526497    1.102743   \n",
      "min       1.000000    0.000000    1.000000    0.420000    0.000000   \n",
      "25%     223.500000    0.000000    2.000000   20.125000    0.000000   \n",
      "50%     446.000000    0.000000    3.000000   28.000000    0.000000   \n",
      "75%     668.500000    1.000000    3.000000   38.000000    1.000000   \n",
      "max     891.000000    1.000000    3.000000   80.000000    8.000000   \n",
      "\n",
      "            Parch        Fare  \n",
      "count  891.000000  891.000000  \n",
      "mean     0.381594   32.204208  \n",
      "std      0.806057   49.693429  \n",
      "min      0.000000    0.000000  \n",
      "25%      0.000000    7.910400  \n",
      "50%      0.000000   14.454200  \n",
      "75%      0.000000   31.000000  \n",
      "max      6.000000  512.329200   \n",
      "\n"
     ]
    }
   ],
   "source": [
    "dataset = pd.read_csv(\"train.csv\")\n",
    "print(dataset.head(), \"\\n\" )\n",
    "print(dataset.info(), \"\\n\")\n",
    "print(dataset.describe(), \"\\n\")"
   ]
  },
  {
   "cell_type": "code",
   "execution_count": 3,
   "metadata": {},
   "outputs": [
    {
     "name": "stdout",
     "output_type": "stream",
     "text": [
      "count      891\n",
      "unique       2\n",
      "top       male\n",
      "freq       577\n",
      "Name: Sex, dtype: object \n",
      "\n"
     ]
    }
   ],
   "source": [
    "print(dataset[\"Sex\"].describe(include=['O']), \"\\n\")"
   ]
  },
  {
   "cell_type": "code",
   "execution_count": 4,
   "metadata": {},
   "outputs": [
    {
     "name": "stdout",
     "output_type": "stream",
     "text": [
      "PassengerId 0\n",
      "Survived 0\n",
      "Pclass 0\n",
      "Name 0\n",
      "Sex 0\n",
      "Age 177\n",
      "SibSp 0\n",
      "Parch 0\n",
      "Ticket 0\n",
      "Fare 0\n",
      "Cabin 687\n",
      "Embarked 2\n"
     ]
    }
   ],
   "source": [
    "for feature in dataset.columns.values:\n",
    "    print(feature, dataset[feature].isnull().sum())"
   ]
  },
  {
   "cell_type": "code",
   "execution_count": 5,
   "metadata": {},
   "outputs": [
    {
     "name": "stdout",
     "output_type": "stream",
     "text": [
      "PassengerId 891    1\n",
      "293    1\n",
      "304    1\n",
      "303    1\n",
      "302    1\n",
      "301    1\n",
      "300    1\n",
      "299    1\n",
      "298    1\n",
      "297    1\n",
      "296    1\n",
      "295    1\n",
      "294    1\n",
      "292    1\n",
      "306    1\n",
      "291    1\n",
      "290    1\n",
      "289    1\n",
      "288    1\n",
      "287    1\n",
      "286    1\n",
      "285    1\n",
      "284    1\n",
      "283    1\n",
      "282    1\n",
      "281    1\n",
      "305    1\n",
      "307    1\n",
      "279    1\n",
      "321    1\n",
      "      ..\n",
      "561    1\n",
      "560    1\n",
      "584    1\n",
      "585    1\n",
      "586    1\n",
      "587    1\n",
      "610    1\n",
      "609    1\n",
      "608    1\n",
      "607    1\n",
      "606    1\n",
      "605    1\n",
      "604    1\n",
      "603    1\n",
      "602    1\n",
      "601    1\n",
      "600    1\n",
      "599    1\n",
      "598    1\n",
      "597    1\n",
      "596    1\n",
      "595    1\n",
      "594    1\n",
      "593    1\n",
      "592    1\n",
      "591    1\n",
      "590    1\n",
      "589    1\n",
      "588    1\n",
      "1      1\n",
      "Name: PassengerId, Length: 891, dtype: int64 \n",
      "\n",
      "Survived 0    549\n",
      "1    342\n",
      "Name: Survived, dtype: int64 \n",
      "\n",
      "Pclass 3    491\n",
      "1    216\n",
      "2    184\n",
      "Name: Pclass, dtype: int64 \n",
      "\n",
      "Name Carter, Mr. William Ernest                         1\n",
      "Leonard, Mr. Lionel                                1\n",
      "Hedman, Mr. Oskar Arvid                            1\n",
      "Moss, Mr. Albert Johan                             1\n",
      "Perreault, Miss. Anne                              1\n",
      "Rice, Master. Eugene                               1\n",
      "Peuchen, Major. Arthur Godfrey                     1\n",
      "Sage, Master. Thomas Henry                         1\n",
      "Braund, Mr. Owen Harris                            1\n",
      "Attalah, Miss. Malake                              1\n",
      "Ward, Miss. Anna                                   1\n",
      "Windelov, Mr. Einar                                1\n",
      "Sedgwick, Mr. Charles Frederick Waddington         1\n",
      "Skoog, Mrs. William (Anna Bernhardina Karlsson)    1\n",
      "Minahan, Miss. Daisy E                             1\n",
      "Doharr, Mr. Tannous                                1\n",
      "Renouf, Mr. Peter Henry                            1\n",
      "Silven, Miss. Lyyli Karoliina                      1\n",
      "Collyer, Miss. Marjorie \"Lottie\"                   1\n",
      "Hippach, Miss. Jean Gertrude                       1\n",
      "Ibrahim Shawah, Mr. Yousseff                       1\n",
      "Ayoub, Miss. Banoura                               1\n",
      "Shellard, Mr. Frederick William                    1\n",
      "Sage, Miss. Constance Gladys                       1\n",
      "Madsen, Mr. Fridtjof Arne                          1\n",
      "Hart, Mr. Henry                                    1\n",
      "Zabour, Miss. Thamine                              1\n",
      "Jonkoff, Mr. Lalio                                 1\n",
      "Svensson, Mr. Olof                                 1\n",
      "Nankoff, Mr. Minko                                 1\n",
      "                                                  ..\n",
      "Pengelly, Mr. Frederick William                    1\n",
      "Patchett, Mr. George                               1\n",
      "Harris, Mr. Walter                                 1\n",
      "Jalsevac, Mr. Ivan                                 1\n",
      "Holm, Mr. John Fredrik Alexander                   1\n",
      "Newsom, Miss. Helen Monypeny                       1\n",
      "Persson, Mr. Ernst Ulrik                           1\n",
      "Kallio, Mr. Nikolai Erland                         1\n",
      "Jussila, Miss. Mari Aina                           1\n",
      "Soholt, Mr. Peter Andreas Lauritz Andersen         1\n",
      "Willey, Mr. Edward                                 1\n",
      "Barah, Mr. Hanna Assi                              1\n",
      "Allison, Master. Hudson Trevor                     1\n",
      "Lefebre, Master. Henry Forbes                      1\n",
      "Williams-Lambert, Mr. Fletcher Fellows             1\n",
      "Eustis, Miss. Elizabeth Mussey                     1\n",
      "Vander Cruyssen, Mr. Victor                        1\n",
      "Lang, Mr. Fang                                     1\n",
      "Sadlier, Mr. Matthew                               1\n",
      "Pasic, Mr. Jakob                                   1\n",
      "Burke, Mr. Jeremiah                                1\n",
      "Coutts, Master. Eden Leslie \"Neville\"              1\n",
      "Vanden Steen, Mr. Leo Peter                        1\n",
      "Webber, Mr. James                                  1\n",
      "Rintamaki, Mr. Matti                               1\n",
      "Hosono, Mr. Masabumi                               1\n",
      "Jansson, Mr. Carl Olof                             1\n",
      "Sutton, Mr. Frederick                              1\n",
      "Collyer, Mr. Harvey                                1\n",
      "Brewe, Dr. Arthur Jackson                          1\n",
      "Name: Name, Length: 891, dtype: int64 \n",
      "\n",
      "Sex male      577\n",
      "female    314\n",
      "Name: Sex, dtype: int64 \n",
      "\n",
      "Age 24.00    30\n",
      "22.00    27\n",
      "18.00    26\n",
      "19.00    25\n",
      "30.00    25\n",
      "28.00    25\n",
      "21.00    24\n",
      "25.00    23\n",
      "36.00    22\n",
      "29.00    20\n",
      "32.00    18\n",
      "27.00    18\n",
      "35.00    18\n",
      "26.00    18\n",
      "16.00    17\n",
      "31.00    17\n",
      "20.00    15\n",
      "33.00    15\n",
      "23.00    15\n",
      "34.00    15\n",
      "39.00    14\n",
      "17.00    13\n",
      "42.00    13\n",
      "40.00    13\n",
      "45.00    12\n",
      "38.00    11\n",
      "50.00    10\n",
      "2.00     10\n",
      "4.00     10\n",
      "47.00     9\n",
      "         ..\n",
      "71.00     2\n",
      "59.00     2\n",
      "63.00     2\n",
      "0.83      2\n",
      "30.50     2\n",
      "70.00     2\n",
      "57.00     2\n",
      "0.75      2\n",
      "13.00     2\n",
      "10.00     2\n",
      "64.00     2\n",
      "40.50     2\n",
      "32.50     2\n",
      "45.50     2\n",
      "20.50     1\n",
      "24.50     1\n",
      "0.67      1\n",
      "14.50     1\n",
      "0.92      1\n",
      "74.00     1\n",
      "34.50     1\n",
      "80.00     1\n",
      "12.00     1\n",
      "36.50     1\n",
      "53.00     1\n",
      "55.50     1\n",
      "70.50     1\n",
      "66.00     1\n",
      "23.50     1\n",
      "0.42      1\n",
      "Name: Age, Length: 88, dtype: int64 \n",
      "\n",
      "SibSp 0    608\n",
      "1    209\n",
      "2     28\n",
      "4     18\n",
      "3     16\n",
      "8      7\n",
      "5      5\n",
      "Name: SibSp, dtype: int64 \n",
      "\n",
      "Parch 0    678\n",
      "1    118\n",
      "2     80\n",
      "5      5\n",
      "3      5\n",
      "4      4\n",
      "6      1\n",
      "Name: Parch, dtype: int64 \n",
      "\n",
      "Ticket 1601                 7\n",
      "CA. 2343             7\n",
      "347082               7\n",
      "347088               6\n",
      "3101295              6\n",
      "CA 2144              6\n",
      "382652               5\n",
      "S.O.C. 14879         5\n",
      "347077               4\n",
      "113781               4\n",
      "2666                 4\n",
      "349909               4\n",
      "PC 17757             4\n",
      "19950                4\n",
      "113760               4\n",
      "17421                4\n",
      "W./C. 6608           4\n",
      "LINE                 4\n",
      "4133                 4\n",
      "PC 17760             3\n",
      "363291               3\n",
      "24160                3\n",
      "347742               3\n",
      "371110               3\n",
      "C.A. 34651           3\n",
      "PC 17582             3\n",
      "PC 17755             3\n",
      "230080               3\n",
      "13502                3\n",
      "345773               3\n",
      "                    ..\n",
      "STON/O 2. 3101269    1\n",
      "14313                1\n",
      "SC/PARIS 2146        1\n",
      "PC 17590             1\n",
      "STON/O2. 3101283     1\n",
      "350404               1\n",
      "A/5 21172            1\n",
      "111369               1\n",
      "345572               1\n",
      "345781               1\n",
      "29103                1\n",
      "350417               1\n",
      "7546                 1\n",
      "2664                 1\n",
      "9234                 1\n",
      "347085               1\n",
      "315037               1\n",
      "PC 17318             1\n",
      "383121               1\n",
      "345778               1\n",
      "374746               1\n",
      "5727                 1\n",
      "2690                 1\n",
      "347076               1\n",
      "28664                1\n",
      "323592               1\n",
      "PC 17603             1\n",
      "364851               1\n",
      "347060               1\n",
      "330959               1\n",
      "Name: Ticket, Length: 681, dtype: int64 \n",
      "\n",
      "Fare 8.0500      43\n",
      "13.0000     42\n",
      "7.8958      38\n",
      "7.7500      34\n",
      "26.0000     31\n",
      "10.5000     24\n",
      "7.9250      18\n",
      "7.7750      16\n",
      "26.5500     15\n",
      "0.0000      15\n",
      "7.2292      15\n",
      "7.8542      13\n",
      "8.6625      13\n",
      "7.2500      13\n",
      "7.2250      12\n",
      "16.1000      9\n",
      "9.5000       9\n",
      "24.1500      8\n",
      "15.5000      8\n",
      "56.4958      7\n",
      "52.0000      7\n",
      "14.5000      7\n",
      "14.4542      7\n",
      "69.5500      7\n",
      "7.0500       7\n",
      "31.2750      7\n",
      "46.9000      6\n",
      "30.0000      6\n",
      "7.7958       6\n",
      "39.6875      6\n",
      "            ..\n",
      "7.1417       1\n",
      "42.4000      1\n",
      "211.5000     1\n",
      "12.2750      1\n",
      "61.1750      1\n",
      "8.4333       1\n",
      "51.4792      1\n",
      "7.8875       1\n",
      "8.6833       1\n",
      "7.5208       1\n",
      "34.6542      1\n",
      "28.7125      1\n",
      "25.5875      1\n",
      "7.7292       1\n",
      "12.2875      1\n",
      "8.6542       1\n",
      "8.7125       1\n",
      "61.3792      1\n",
      "6.9500       1\n",
      "9.8417       1\n",
      "8.3000       1\n",
      "13.7917      1\n",
      "9.4750       1\n",
      "13.4167      1\n",
      "26.3875      1\n",
      "8.4583       1\n",
      "9.8375       1\n",
      "8.3625       1\n",
      "14.1083      1\n",
      "17.4000      1\n",
      "Name: Fare, Length: 248, dtype: int64 \n",
      "\n",
      "Cabin G6                 4\n",
      "B96 B98            4\n",
      "C23 C25 C27        4\n",
      "E101               3\n",
      "D                  3\n",
      "C22 C26            3\n",
      "F2                 3\n",
      "F33                3\n",
      "E25                2\n",
      "D20                2\n",
      "B57 B59 B63 B66    2\n",
      "C92                2\n",
      "D33                2\n",
      "E24                2\n",
      "C93                2\n",
      "B28                2\n",
      "F4                 2\n",
      "B5                 2\n",
      "C78                2\n",
      "C83                2\n",
      "B18                2\n",
      "E121               2\n",
      "C52                2\n",
      "D35                2\n",
      "C126               2\n",
      "D36                2\n",
      "B77                2\n",
      "C2                 2\n",
      "C123               2\n",
      "E44                2\n",
      "                  ..\n",
      "D48                1\n",
      "C104               1\n",
      "A5                 1\n",
      "A10                1\n",
      "B41                1\n",
      "C90                1\n",
      "C95                1\n",
      "E58                1\n",
      "B39                1\n",
      "D15                1\n",
      "C87                1\n",
      "B102               1\n",
      "A14                1\n",
      "C148               1\n",
      "B101               1\n",
      "B73                1\n",
      "C128               1\n",
      "B30                1\n",
      "B37                1\n",
      "D56                1\n",
      "A20                1\n",
      "D9                 1\n",
      "B50                1\n",
      "D30                1\n",
      "B4                 1\n",
      "A6                 1\n",
      "D46                1\n",
      "E34                1\n",
      "B86                1\n",
      "E46                1\n",
      "Name: Cabin, Length: 147, dtype: int64 \n",
      "\n",
      "Embarked S    644\n",
      "C    168\n",
      "Q     77\n",
      "Name: Embarked, dtype: int64 \n",
      "\n"
     ]
    }
   ],
   "source": [
    "for feature in dataset.columns.values:\n",
    "    print(feature, dataset[feature].value_counts(), \"\\n\")"
   ]
  },
  {
   "cell_type": "code",
   "execution_count": 6,
   "metadata": {},
   "outputs": [
    {
     "name": "stdout",
     "output_type": "stream",
     "text": [
      "Male Survived\t: 109\n",
      "Male Dead\t: 468\n",
      "Female Survived\t: 233\n",
      "Female Dead\t: 81\n"
     ]
    }
   ],
   "source": [
    "print(\"Male Survived\\t:\",   len(dataset.loc[ (dataset['Sex']==\"male\")   & (dataset['Survived']==1) ]))\n",
    "print(\"Male Dead\\t:\",       len(dataset.loc[ (dataset['Sex']==\"male\")   & (dataset['Survived']==0) ]))\n",
    "print(\"Female Survived\\t:\", len(dataset.loc[ (dataset['Sex']==\"female\") & (dataset['Survived']==1) ]))\n",
    "print(\"Female Dead\\t:\",     len(dataset.loc[ (dataset['Sex']==\"female\") & (dataset['Survived']==0) ]))"
   ]
  },
  {
   "cell_type": "markdown",
   "metadata": {},
   "source": [
    "# Cleaning Dataset"
   ]
  },
  {
   "cell_type": "code",
   "execution_count": 7,
   "metadata": {
    "collapsed": true
   },
   "outputs": [],
   "source": [
    "dataset.drop(labels = [\"Name\"], axis=1, inplace=True)\n",
    "dataset.dropna(subset = [\"Embarked\"], inplace=True)"
   ]
  },
  {
   "cell_type": "code",
   "execution_count": 8,
   "metadata": {
    "collapsed": true
   },
   "outputs": [],
   "source": [
    "dataset['Survived'] = dataset['Survived'].astype('bool')"
   ]
  },
  {
   "cell_type": "code",
   "execution_count": 9,
   "metadata": {
    "collapsed": true
   },
   "outputs": [],
   "source": [
    "d = {'S': 1, 'C': 2, 'Q': 3}\n",
    "dataset['Embarked'] = dataset['Embarked'].map(d).astype(int)"
   ]
  },
  {
   "cell_type": "code",
   "execution_count": 10,
   "metadata": {
    "collapsed": true
   },
   "outputs": [],
   "source": [
    "d = {'male': True, 'female': False}\n",
    "dataset['Sex'] = dataset['Sex'].map(d).astype('bool')"
   ]
  },
  {
   "cell_type": "code",
   "execution_count": 11,
   "metadata": {
    "collapsed": true
   },
   "outputs": [],
   "source": [
    "dataset[\"Cabin\"] = dataset[\"Cabin\"].notnull().astype('bool')"
   ]
  },
  {
   "cell_type": "code",
   "execution_count": 12,
   "metadata": {},
   "outputs": [
    {
     "name": "stdout",
     "output_type": "stream",
     "text": [
      "   PassengerId  Survived  Pclass    Sex   Age  SibSp  Parch            Ticket  \\\n",
      "0            1     False       3   True  22.0      1      0         A/5 21171   \n",
      "1            2      True       1  False  38.0      1      0          PC 17599   \n",
      "2            3      True       3  False  26.0      0      0  STON/O2. 3101282   \n",
      "3            4      True       1  False  35.0      1      0            113803   \n",
      "4            5     False       3   True  35.0      0      0            373450   \n",
      "\n",
      "      Fare  Cabin  Embarked  \n",
      "0   7.2500  False         1  \n",
      "1  71.2833   True         2  \n",
      "2   7.9250  False         1  \n",
      "3  53.1000   True         1  \n",
      "4   8.0500  False         1   \n",
      "\n",
      "<class 'pandas.core.frame.DataFrame'>\n",
      "Int64Index: 889 entries, 0 to 890\n",
      "Data columns (total 11 columns):\n",
      "PassengerId    889 non-null int64\n",
      "Survived       889 non-null bool\n",
      "Pclass         889 non-null int64\n",
      "Sex            889 non-null bool\n",
      "Age            712 non-null float64\n",
      "SibSp          889 non-null int64\n",
      "Parch          889 non-null int64\n",
      "Ticket         889 non-null object\n",
      "Fare           889 non-null float64\n",
      "Cabin          889 non-null bool\n",
      "Embarked       889 non-null int32\n",
      "dtypes: bool(3), float64(2), int32(1), int64(4), object(1)\n",
      "memory usage: 61.6+ KB\n",
      "None \n",
      "\n"
     ]
    }
   ],
   "source": [
    "print(dataset.head(), \"\\n\" )\n",
    "print(dataset.info(), \"\\n\")"
   ]
  },
  {
   "cell_type": "code",
   "execution_count": 13,
   "metadata": {},
   "outputs": [
    {
     "name": "stdout",
     "output_type": "stream",
     "text": [
      "             PassengerId  Survived    Pclass       Sex       Age     SibSp  \\\n",
      "PassengerId     1.000000 -0.005028 -0.035330  0.043136  0.033681 -0.057686   \n",
      "Survived       -0.005028  1.000000 -0.335549 -0.541585 -0.082446 -0.034040   \n",
      "Pclass         -0.035330 -0.335549  1.000000  0.127741 -0.365902  0.081656   \n",
      "Sex             0.043136 -0.541585  0.127741  1.000000  0.099037 -0.116348   \n",
      "Age             0.033681 -0.082446 -0.365902  0.099037  1.000000 -0.307351   \n",
      "SibSp          -0.057686 -0.034040  0.081656 -0.116348 -0.307351  1.000000   \n",
      "Parch          -0.001657  0.083151  0.016824 -0.247508 -0.187896  0.414542   \n",
      "Fare            0.012703  0.255290 -0.548193 -0.179958  0.093143  0.160887   \n",
      "Cabin           0.020045  0.313435 -0.723815 -0.135589  0.244981 -0.038657   \n",
      "Embarked       -0.030555  0.108669  0.043835 -0.118593  0.012186 -0.060606   \n",
      "\n",
      "                Parch      Fare     Cabin  Embarked  \n",
      "PassengerId -0.001657  0.012703  0.020045 -0.030555  \n",
      "Survived     0.083151  0.255290  0.313435  0.108669  \n",
      "Pclass       0.016824 -0.548193 -0.723815  0.043835  \n",
      "Sex         -0.247508 -0.179958 -0.135589 -0.118593  \n",
      "Age         -0.187896  0.093143  0.244981  0.012186  \n",
      "SibSp        0.414542  0.160887 -0.038657 -0.060606  \n",
      "Parch        1.000000  0.217532  0.039101 -0.079320  \n",
      "Fare         0.217532  1.000000  0.480425  0.063462  \n",
      "Cabin        0.039101  0.480425  1.000000  0.016190  \n",
      "Embarked    -0.079320  0.063462  0.016190  1.000000  \n"
     ]
    },
    {
     "data": {
      "text/plain": [
       "<matplotlib.image.AxesImage at 0x159666945f8>"
      ]
     },
     "execution_count": 13,
     "metadata": {},
     "output_type": "execute_result"
    },
    {
     "data": {
      "image/png": "[encoded data removed]",
      "text/plain": [
       "<matplotlib.figure.Figure at 0x159665f2be0>"
      ]
     },
     "metadata": {},
     "output_type": "display_data"
    }
   ],
   "source": [
    "a = dataset.corr()\n",
    "print(a)\n",
    "plt.matshow(a)"
   ]
  },
  {
   "cell_type": "code",
   "execution_count": 14,
   "metadata": {},
   "outputs": [
    {
     "data": {
      "image/png": "[encoded data removed]",
      "text/plain": [
       "<matplotlib.figure.Figure at 0x15966682cf8>"
      ]
     },
     "metadata": {},
     "output_type": "display_data"
    }
   ],
   "source": [
    "attributes = [\"SibSp\", \"Parch\", \"Fare\", \"Embarked\"]\n",
    "pd.plotting.scatter_matrix(dataset[attributes], figsize = (12,8))\n",
    "plt.show()"
   ]
  },
  {
   "cell_type": "code",
   "execution_count": 15,
   "metadata": {
    "collapsed": true
   },
   "outputs": [],
   "source": [
    "#dataset.drop(labels = [\"Ticket\"], axis=1, inplace=True)"
   ]
  },
  {
   "cell_type": "code",
   "execution_count": 16,
   "metadata": {},
   "outputs": [
    {
     "name": "stdout",
     "output_type": "stream",
     "text": [
      "   PassengerId  Survived  Pclass    Sex   Age  SibSp  Parch            Ticket  \\\n",
      "0            1     False       3   True  22.0      1      0         A/5 21171   \n",
      "1            2      True       1  False  38.0      1      0          PC 17599   \n",
      "2            3      True       3  False  26.0      0      0  STON/O2. 3101282   \n",
      "3            4      True       1  False  35.0      1      0            113803   \n",
      "4            5     False       3   True  35.0      0      0            373450   \n",
      "\n",
      "      Fare  Cabin  Embarked  \n",
      "0   7.2500  False         1  \n",
      "1  71.2833   True         2  \n",
      "2   7.9250  False         1  \n",
      "3  53.1000   True         1  \n",
      "4   8.0500  False         1   \n",
      "\n",
      "<class 'pandas.core.frame.DataFrame'>\n",
      "Int64Index: 889 entries, 0 to 890\n",
      "Data columns (total 11 columns):\n",
      "PassengerId    889 non-null int64\n",
      "Survived       889 non-null bool\n",
      "Pclass         889 non-null int64\n",
      "Sex            889 non-null bool\n",
      "Age            712 non-null float64\n",
      "SibSp          889 non-null int64\n",
      "Parch          889 non-null int64\n",
      "Ticket         889 non-null object\n",
      "Fare           889 non-null float64\n",
      "Cabin          889 non-null bool\n",
      "Embarked       889 non-null int32\n",
      "dtypes: bool(3), float64(2), int32(1), int64(4), object(1)\n",
      "memory usage: 61.6+ KB\n",
      "None \n",
      "\n"
     ]
    }
   ],
   "source": [
    "print(dataset.head(), \"\\n\" )\n",
    "print(dataset.info(), \"\\n\")"
   ]
  },
  {
   "cell_type": "code",
   "execution_count": 17,
   "metadata": {
    "collapsed": true
   },
   "outputs": [],
   "source": [
    "# for each in dataset[\"Ticket\"]:\n",
    "#     print(each)"
   ]
  },
  {
   "cell_type": "markdown",
   "metadata": {},
   "source": [
    "# Scaling Datas"
   ]
  },
  {
   "cell_type": "code",
   "execution_count": 18,
   "metadata": {
    "collapsed": true
   },
   "outputs": [],
   "source": [
    "pipeline = Pipeline([\n",
    "    ('imputer', Imputer(strategy=\"median\")),\n",
    "    ('std_scaler', MinMaxScaler()),\n",
    "])"
   ]
  },
  {
   "cell_type": "code",
   "execution_count": 19,
   "metadata": {
    "collapsed": true
   },
   "outputs": [],
   "source": [
    "attributes = [\"Pclass\",\"SibSp\",\"Parch\", \"Fare\", \"Age\"]\n",
    "for attr in attributes:\n",
    "    dataset[attr] = pipeline.fit_transform(dataset[attr].values.reshape(-1,1))"
   ]
  },
  {
   "cell_type": "code",
   "execution_count": 20,
   "metadata": {},
   "outputs": [
    {
     "name": "stdout",
     "output_type": "stream",
     "text": [
      "Y : (889,)\n",
      "X : (889, 9)\n"
     ]
    }
   ],
   "source": [
    "y = dataset[\"Survived\"].copy()\n",
    "X_transform = dataset.drop([\"Survived\", \"Ticket\"], axis=1)\n",
    "print(\"Y :\", y.shape)\n",
    "print(\"X :\", X_transform.shape)"
   ]
  },
  {
   "cell_type": "code",
   "execution_count": 21,
   "metadata": {
    "collapsed": true
   },
   "outputs": [],
   "source": [
    "x_train, x_test, y_train, y_test = train_test_split(X_transform, y, test_size=0.2, random_state=0)"
   ]
  },
  {
   "cell_type": "code",
   "execution_count": 22,
   "metadata": {},
   "outputs": [
    {
     "name": "stdout",
     "output_type": "stream",
     "text": [
      "     PassengerId  Pclass    Sex       Age  SibSp     Parch      Fare  Cabin  \\\n",
      "14            15     1.0  False  0.170646  0.000  0.000000  0.015330  False   \n",
      "159          160     1.0   True  0.346569  1.000  0.333333  0.135753  False   \n",
      "763          764     0.0  False  0.447097  0.125  0.333333  0.234224   True   \n",
      "741          742     0.0   True  0.447097  0.125  0.000000  0.153905   True   \n",
      "483          484     1.0  False  0.786378  0.000  0.000000  0.018714  False   \n",
      "262          263     0.0   True  0.648153  0.125  0.166667  0.155466   True   \n",
      "619          620     0.5   True  0.321438  0.000  0.000000  0.020495  False   \n",
      "707          708     0.0   True  0.522493  0.000  0.000000  0.051310   True   \n",
      "534          535     1.0  False  0.371701  0.000  0.000000  0.016908  False   \n",
      "549          550     0.5   True  0.095250  0.125  0.166667  0.071731  False   \n",
      "254          255     1.0  False  0.509927  0.000  0.333333  0.039452  False   \n",
      "31            32     0.0  False  0.346569  0.125  0.000000  0.285990   True   \n",
      "644          645     1.0  False  0.004147  0.250  0.166667  0.037590  False   \n",
      "145          146     0.5   True  0.233476  0.125  0.166667  0.071731  False   \n",
      "573          574     1.0  False  0.346569  0.000  0.000000  0.015127  False   \n",
      "353          354     1.0   True  0.308872  0.125  0.000000  0.034743  False   \n",
      "98            99     0.5  False  0.421965  0.000  0.166667  0.044893  False   \n",
      "567          568     1.0  False  0.359135  0.000  0.666667  0.041136  False   \n",
      "692          693     1.0   True  0.346569  0.000  0.000000  0.110272  False   \n",
      "585          586     0.0  False  0.220910  0.000  0.333333  0.155466   True   \n",
      "789          790     0.0   True  0.572757  0.000  0.000000  0.154588   True   \n",
      "627          628     0.0  False  0.258608  0.000  0.000000  0.152164   True   \n",
      "572          573     0.0   True  0.447097  0.000  0.000000  0.051505   True   \n",
      "658          659     0.5   True  0.283740  0.000  0.000000  0.025374  False   \n",
      "699          700     1.0   True  0.522493  0.000  0.000000  0.014932   True   \n",
      "60            61     1.0   True  0.271174  0.000  0.000000  0.014110  False   \n",
      "373          374     0.0   True  0.271174  0.000  0.000000  0.264739  False   \n",
      "55            56     0.0   True  0.346569  0.000  0.000000  0.069291   True   \n",
      "512          513     0.0   True  0.447097  0.000  0.000000  0.051310   True   \n",
      "492          493     0.0   True  0.685851  0.000  0.000000  0.059532   True   \n",
      "..           ...     ...    ...       ...    ...       ...       ...    ...   \n",
      "488          489     1.0   True  0.371701  0.000  0.000000  0.015713  False   \n",
      "63            64     1.0   True  0.044986  0.375  0.333333  0.054457  False   \n",
      "80            81     1.0   True  0.271174  0.000  0.000000  0.017567  False   \n",
      "597          598     1.0   True  0.610455  0.000  0.000000  0.000000  False   \n",
      "501          502     1.0  False  0.258608  0.000  0.000000  0.015127  False   \n",
      "317          318     0.5   True  0.673285  0.000  0.000000  0.027326  False   \n",
      "271          272     1.0   True  0.308872  0.000  0.000000  0.000000  False   \n",
      "231          232     1.0   True  0.359135  0.000  0.000000  0.015176  False   \n",
      "259          260     0.5  False  0.623021  0.000  0.166667  0.050749  False   \n",
      "307          308     0.0  False  0.208344  0.125  0.000000  0.212559   True   \n",
      "381          382     1.0  False  0.007288  0.000  0.333333  0.030726  False   \n",
      "845          846     1.0   True  0.522493  0.000  0.000000  0.014737  False   \n",
      "771          772     1.0   True  0.597889  0.000  0.000000  0.015330  False   \n",
      "86            87     1.0   True  0.195778  0.125  0.500000  0.067096  False   \n",
      "359          360     1.0  False  0.346569  0.000  0.000000  0.015379  False   \n",
      "76            77     1.0   True  0.346569  0.000  0.000000  0.015412  False   \n",
      "391          392     1.0   True  0.258608  0.000  0.000000  0.015216  False   \n",
      "216          217     1.0  False  0.334004  0.000  0.000000  0.015469  False   \n",
      "631          632     1.0   True  0.635587  0.000  0.000000  0.013769  False   \n",
      "520          521     0.0  False  0.371701  0.000  0.000000  0.182500   True   \n",
      "712          713     0.0   True  0.597889  0.125  0.000000  0.101497   True   \n",
      "1              2     0.0  False  0.472229  0.125  0.000000  0.139136   True   \n",
      "421          422     1.0   True  0.258608  0.000  0.000000  0.015094  False   \n",
      "655          656     0.5   True  0.296306  0.250  0.000000  0.143462  False   \n",
      "250          251     1.0   True  0.346569  0.000  0.000000  0.014151  False   \n",
      "886          887     0.5   True  0.334004  0.000  0.000000  0.025374  False   \n",
      "673          674     0.5   True  0.384267  0.000  0.000000  0.025374  False   \n",
      "182          183     1.0   True  0.107816  0.500  0.333333  0.061264  False   \n",
      "632          633     0.0   True  0.396833  0.000  0.000000  0.059532   True   \n",
      "141          142     1.0  False  0.271174  0.000  0.000000  0.015127  False   \n",
      "\n",
      "     Embarked  \n",
      "14          1  \n",
      "159         1  \n",
      "763         1  \n",
      "741         1  \n",
      "483         1  \n",
      "262         1  \n",
      "619         1  \n",
      "707         1  \n",
      "534         1  \n",
      "549         1  \n",
      "254         1  \n",
      "31          2  \n",
      "644         2  \n",
      "145         1  \n",
      "573         3  \n",
      "353         1  \n",
      "98          1  \n",
      "567         1  \n",
      "692         1  \n",
      "585         1  \n",
      "789         2  \n",
      "627         1  \n",
      "572         1  \n",
      "658         1  \n",
      "699         1  \n",
      "60          2  \n",
      "373         2  \n",
      "55          1  \n",
      "512         1  \n",
      "492         1  \n",
      "..        ...  \n",
      "488         1  \n",
      "63          1  \n",
      "80          1  \n",
      "597         1  \n",
      "501         3  \n",
      "317         1  \n",
      "271         1  \n",
      "231         1  \n",
      "259         1  \n",
      "307         2  \n",
      "381         2  \n",
      "845         1  \n",
      "771         1  \n",
      "86          1  \n",
      "359         3  \n",
      "76          1  \n",
      "391         1  \n",
      "216         1  \n",
      "631         1  \n",
      "520         1  \n",
      "712         1  \n",
      "1           2  \n",
      "421         3  \n",
      "655         1  \n",
      "250         1  \n",
      "886         1  \n",
      "673         1  \n",
      "182         1  \n",
      "632         2  \n",
      "141         1  \n",
      "\n",
      "[178 rows x 9 columns] 14     False\n",
      "159    False\n",
      "763     True\n",
      "741    False\n",
      "483     True\n",
      "262    False\n",
      "619    False\n",
      "707     True\n",
      "534    False\n",
      "549     True\n",
      "254    False\n",
      "31      True\n",
      "644     True\n",
      "145    False\n",
      "573     True\n",
      "353    False\n",
      "98      True\n",
      "567    False\n",
      "692     True\n",
      "585     True\n",
      "789    False\n",
      "627     True\n",
      "572     True\n",
      "658    False\n",
      "699    False\n",
      "60     False\n",
      "373    False\n",
      "55      True\n",
      "512     True\n",
      "492    False\n",
      "       ...  \n",
      "488    False\n",
      "63     False\n",
      "80     False\n",
      "597    False\n",
      "501    False\n",
      "317    False\n",
      "271     True\n",
      "231    False\n",
      "259     True\n",
      "307     True\n",
      "381     True\n",
      "845    False\n",
      "771    False\n",
      "86     False\n",
      "359     True\n",
      "76     False\n",
      "391     True\n",
      "216     True\n",
      "631    False\n",
      "520     True\n",
      "712     True\n",
      "1       True\n",
      "421    False\n",
      "655    False\n",
      "250    False\n",
      "886    False\n",
      "673     True\n",
      "182    False\n",
      "632     True\n",
      "141     True\n",
      "Name: Survived, Length: 178, dtype: bool\n"
     ]
    }
   ],
   "source": [
    "print(x_test, y_test)"
   ]
  },
  {
   "cell_type": "markdown",
   "metadata": {},
   "source": [
    "# Test Models"
   ]
  },
  {
   "cell_type": "code",
   "execution_count": 23,
   "metadata": {},
   "outputs": [
    {
     "name": "stdout",
     "output_type": "stream",
     "text": [
      "Index(['PassengerId', 'Pclass', 'Sex', 'Age', 'SibSp', 'Parch', 'Fare',\n",
      "       'Cabin', 'Embarked'],\n",
      "      dtype='object') \n",
      "\n",
      "364    False\n",
      "256     True\n",
      "477    False\n",
      "272     True\n",
      "554     True\n",
      "Name: Survived, dtype: bool\n"
     ]
    }
   ],
   "source": [
    "some_data = x_train[:5]\n",
    "some_label = y_train[:5]\n",
    "print(some_data.columns, \"\\n\")\n",
    "print(some_label)"
   ]
  },
  {
   "cell_type": "code",
   "execution_count": 41,
   "metadata": {},
   "outputs": [
    {
     "name": "stdout",
     "output_type": "stream",
     "text": [
      "[[70 54]\n",
      " [35 19]]\n"
     ]
    }
   ],
   "source": [
    "sgd_clf = SGDClassifier(random_state=42)\n",
    "sgd_clf.fit(x_train, y_train)"
   ]
  },
  {
   "cell_type": "code",
   "execution_count": 42,
   "metadata": {},
   "outputs": [
    {
     "name": "stdout",
     "output_type": "stream",
     "text": [
      "[ 0.58333333  0.40677966  0.59322034]\n",
      "-13130.8954438 [False]\n",
      "-139622.954958 [False]\n",
      "-660138.843131 [ True]\n",
      "-642175.282441 [False]\n",
      "-418939.437183 [ True]\n",
      "-227762.317364 [False]\n",
      "-537365.112031 [False]\n",
      "-612772.897164 [ True]\n",
      "-463034.829682 [False]\n",
      "-476775.444652 [ True]\n",
      "-220776.404626 [False]\n",
      "-26518.6793563 [ True]\n",
      "-557852.881815 [ True]\n",
      "-127254.904691 [False]\n",
      "-496138.230577 [ True]\n",
      "-307479.272728 [False]\n",
      "-85560.4620143 [ True]\n",
      "-491547.925978 [False]\n",
      "-600766.648516 [ True]\n",
      "-506128.334718 [ True]\n",
      "-683392.13595 [False]\n",
      "-542485.745859 [ True]\n",
      "-495969.253653 [ True]\n",
      "-571103.799666 [False]\n",
      "-606356.807776 [False]\n",
      "-53662.7682785 [False]\n",
      "-323935.908123 [False]\n",
      "-48665.8952891 [ True]\n",
      "-444058.864224 [ True]\n",
      "-426771.078436 [False]\n",
      "-69263.7088739 [ True]\n",
      "-560554.482914 [ True]\n",
      "-735478.696527 [False]\n",
      "-757727.842197 [ True]\n",
      "-420632.844108 [False]\n",
      "-429465.433776 [False]\n",
      "-394864.567946 [False]\n",
      "-384481.616965 [False]\n",
      "-359143.10692 [False]\n",
      "-533298.396891 [False]\n",
      "-430852.333591 [False]\n",
      "-220966.586341 [False]\n",
      "-550163.912756 [ True]\n",
      "-754775.0272 [False]\n",
      "-395418.968656 [ True]\n",
      "-722761.013805 [False]\n",
      "-317866.015976 [False]\n",
      "-243719.738496 [False]\n",
      "-172518.463605 [False]\n",
      "-360271.534174 [ True]\n",
      "-488988.415114 [False]\n",
      "-256478.089434 [False]\n",
      "-415623.626348 [False]\n",
      "-208354.272392 [False]\n",
      "-577159.687831 [False]\n",
      "-343641.91148 [False]\n",
      "-300139.189879 [ True]\n",
      "-452204.453879 [ True]\n",
      "-689646.447015 [False]\n",
      "-697674.620495 [ True]\n",
      "-7933.30913475 [ True]\n",
      "-668255.639787 [False]\n",
      "-242410.810523 [ True]\n",
      "-298575.890576 [False]\n",
      "-125151.253499 [False]\n",
      "-474755.316706 [ True]\n",
      "-566208.796099 [False]\n",
      "-762117.740183 [ True]\n",
      "-353919.893977 [ True]\n",
      "-167576.731512 [ True]\n",
      "-30659.1467719 [False]\n",
      "-471615.869284 [ True]\n",
      "-586059.282037 [False]\n",
      "-461829.716 [ True]\n",
      "-24377.8402773 [False]\n",
      "-27217.5299298 [False]\n",
      "-128390.318711 [ True]\n",
      "-702864.620345 [False]\n",
      "-663984.053481 [False]\n",
      "-649456.599704 [False]\n",
      "-219136.268456 [False]\n",
      "-661907.394146 [ True]\n",
      "-568807.880715 [False]\n",
      "-231897.620896 [ True]\n",
      "-565352.093436 [ True]\n",
      "-89306.4340114 [False]\n",
      "-350740.91975 [False]\n",
      "-294519.193996 [ True]\n",
      "-706329.187513 [False]\n",
      "-604250.430051 [False]\n",
      "-448730.634488 [False]\n",
      "-318230.995334 [ True]\n",
      "-270701.755829 [False]\n",
      "-461164.680007 [False]\n",
      "-727085.446058 [ True]\n",
      "-228799.627152 [False]\n",
      "-511049.617271 [ True]\n",
      "-588711.718644 [False]\n",
      "-440213.489788 [ True]\n",
      "-331889.662116 [ True]\n",
      "-413651.931869 [False]\n",
      "-130667.879532 [ True]\n",
      "-495002.845026 [ True]\n",
      "-767438.227458 [ True]\n",
      "-175960.240861 [False]\n",
      "-580443.535319 [ True]\n",
      "-233076.259038 [ True]\n",
      "-372751.217926 [ True]\n",
      "-246792.426101 [False]\n",
      "-185719.519054 [ True]\n",
      "-328946.776982 [ True]\n",
      "-335607.83195 [ True]\n",
      "-635991.810207 [False]\n",
      "-123881.937755 [ True]\n",
      "-154339.47564 [False]\n",
      "-508632.321195 [ True]\n",
      "-430017.061193 [False]\n",
      "-558373.148296 [ True]\n",
      "-5764.79777879 [False]\n",
      "-764298.008538 [False]\n",
      "-334895.606469 [False]\n",
      "-92065.0465784 [False]\n",
      "-195009.524785 [False]\n",
      "-215642.023937 [ True]\n",
      "-231102.378174 [False]\n",
      "-771446.927109 [False]\n",
      "-294389.910886 [False]\n",
      "-488051.389106 [False]\n",
      "-419108.512179 [False]\n",
      "-626484.445476 [False]\n",
      "-566162.769809 [False]\n",
      "-679488.194588 [False]\n",
      "-99331.1892085 [False]\n",
      "-729424.947337 [False]\n",
      "-34081.156218 [False]\n",
      "-694904.153838 [ True]\n",
      "-35649.3362977 [False]\n",
      "-298772.651445 [ True]\n",
      "-376342.856737 [ True]\n",
      "-592960.969578 [False]\n",
      "-306280.43024 [False]\n",
      "-455108.46569 [False]\n",
      "-466021.153311 [ True]\n",
      "-338474.372336 [ True]\n",
      "-177872.038194 [False]\n",
      "-712756.855277 [False]\n",
      "-556433.459283 [False]\n",
      "-628899.95745 [ True]\n",
      "-424282.201237 [False]\n",
      "-56544.9880498 [False]\n",
      "-71284.3026541 [False]\n",
      "-518604.123836 [False]\n",
      "-433839.667334 [False]\n",
      "-276106.350314 [False]\n",
      "-236536.749211 [ True]\n",
      "-201931.803122 [False]\n",
      "-224866.702642 [ True]\n",
      "-265304.163786 [ True]\n",
      "-330301.180422 [ True]\n",
      "-733159.637495 [False]\n",
      "-669141.948157 [False]\n",
      "-76441.1956422 [False]\n",
      "-310991.082617 [ True]\n",
      "-67829.0241267 [False]\n",
      "-340352.614274 [ True]\n",
      "-187907.202372 [ True]\n",
      "-548020.416608 [False]\n",
      "-449917.039052 [ True]\n",
      "-617100.765107 [ True]\n",
      "-586.448502003 [ True]\n",
      "-365671.027556 [False]\n",
      "-568501.012378 [False]\n",
      "-218369.331302 [False]\n",
      "-768366.822066 [False]\n",
      "-584088.342489 [ True]\n",
      "-159505.987867 [False]\n",
      "-547557.008819 [ True]\n",
      "-123014.887141 [ True]\n"
     ]
    }
   ],
   "source": [
    "print(cross_val_score(sgd_clf, x_test, y_test, cv=3, scoring=\"accuracy\"))\n",
    "y_val = sgd_clf.decision_function(x_test)\n",
    "v2 = y_test.values.reshape(-1,1)\n",
    "for i in range(len(x_test)):\n",
    "    print(y_val[i], v2[i])"
   ]
  },
  {
   "cell_type": "code",
   "execution_count": 43,
   "metadata": {},
   "outputs": [
    {
     "data": {
      "image/png": "[encoded data removed]",
      "text/plain": [
       "<matplotlib.figure.Figure at 0x15967383a20>"
      ]
     },
     "metadata": {},
     "output_type": "display_data"
    }
   ],
   "source": [
    "y_val = sgd_clf.decision_function(x_train)\n",
    "precision, recall, threshold = precision_recall_curve(y_train, y_val)\n",
    "plt.plot(threshold, precision[:-1], \"b--\", label=\"Precision\")\n",
    "plt.plot(threshold, recall[:-1], \"g-\", label=\"Recall\")\n",
    "plt.xlabel(\"Threshold\")\n",
    "plt.legend(loc=\"upper left\")\n",
    "plt.ylim([0,1])\n",
    "plt.show()"
   ]
  },
  {
   "cell_type": "code",
   "execution_count": 27,
   "metadata": {},
   "outputs": [
    {
     "data": {
      "image/png": "[encoded data removed]",
      "text/plain": [
       "<matplotlib.figure.Figure at 0x1596703d4e0>"
      ]
     },
     "metadata": {},
     "output_type": "display_data"
    }
   ],
   "source": [
    "plt.plot(recall[:-1], precision[:-1])\n",
    "plt.show()"
   ]
  },
  {
   "cell_type": "code",
   "execution_count": 44,
   "metadata": {},
   "outputs": [
    {
     "name": "stdout",
     "output_type": "stream",
     "text": [
      "[[70 54]\n",
      " [35 19]]\n"
     ]
    }
   ],
   "source": [
    "y_val = sgd_clf.decision_function(x_test)\n",
    "print(confusion_matrix(y_val>-250000, y_test))"
   ]
  },
  {
   "cell_type": "code",
   "execution_count": 28,
   "metadata": {},
   "outputs": [
    {
     "name": "stdout",
     "output_type": "stream",
     "text": [
      "1 0.719101123596\n",
      "2 0.724719101124\n",
      "3 0.741573033708\n",
      "4 0.741573033708\n",
      "5 0.73595505618\n",
      "6 0.76404494382\n",
      "7 0.775280898876\n",
      "8 0.713483146067\n",
      "9 0.719101123596\n"
     ]
    }
   ],
   "source": [
    "for i in range(1,10):\n",
    "    tree_clf = DecisionTreeClassifier(max_depth = i)\n",
    "    tree_clf.fit(x_train, y_train)\n",
    "\n",
    "    print(i , tree_clf.score(x_test, y_test))"
   ]
  },
  {
   "cell_type": "code",
   "execution_count": 29,
   "metadata": {},
   "outputs": [
    {
     "data": {
      "text/plain": [
       "DecisionTreeClassifier(class_weight=None, criterion='gini', max_depth=3,\n",
       "            max_features=None, max_leaf_nodes=None,\n",
       "            min_impurity_split=1e-07, min_samples_leaf=1,\n",
       "            min_samples_split=2, min_weight_fraction_leaf=0.0,\n",
       "            presort=False, random_state=None, splitter='best')"
      ]
     },
     "execution_count": 29,
     "metadata": {},
     "output_type": "execute_result"
    }
   ],
   "source": [
    "tree_clf = DecisionTreeClassifier(max_depth = 3)\n",
    "tree_clf.fit(X_transform, y)"
   ]
  },
  {
   "cell_type": "code",
   "execution_count": 30,
   "metadata": {},
   "outputs": [],
   "source": [
    "export_graphviz(tree_clf, \n",
    "                out_file = \"tree.dot\",\n",
    "                feature_names = X_transform.columns,\n",
    "                class_names=['Survived', 'Died']\n",
    "               )"
   ]
  },
  {
   "cell_type": "code",
   "execution_count": null,
   "metadata": {
    "collapsed": true
   },
   "outputs": [],
   "source": []
  }
 ],
 "metadata": {
  "kernelspec": {
   "display_name": "Python 3",
   "language": "python",
   "name": "python3"
  },
  "language_info": {
   "codemirror_mode": {
    "name": "ipython",
    "version": 3
   },
   "file_extension": ".py",
   "mimetype": "text/x-python",
   "name": "python",
   "nbconvert_exporter": "python",
   "pygments_lexer": "ipython3",
   "version": "3.6.1"
  }
 },
 "nbformat": 4,
 "nbformat_minor": 2
}
