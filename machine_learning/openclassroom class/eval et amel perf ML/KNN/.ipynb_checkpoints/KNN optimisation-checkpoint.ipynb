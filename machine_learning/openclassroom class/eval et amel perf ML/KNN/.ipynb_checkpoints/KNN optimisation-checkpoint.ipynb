{
 "cells": [
  {
   "cell_type": "markdown",
   "metadata": {},
   "source": [
    "# KNN optimisation\n",
    "\n",
    "Exercice présent <a href=\"http://exercices.openclassrooms.com/assessment/628\" target=\"_blank\">ici</a>"
   ]
  },
  {
   "cell_type": "code",
   "execution_count": 1,
   "metadata": {},
   "outputs": [],
   "source": [
    "import pandas as pd\n",
    "import numpy as np\n",
    "import matplotlib.pyplot as plt\n",
    "\n",
    "from sklearn.model_selection import train_test_split\n",
    "from sklearn.preprocessing import StandardScaler\n",
    "from sklearn.neighbors import KNeighborsRegressor\n",
    "from sklearn.metrics import mean_squared_error\n",
    "from sklearn.model_selection import GridSearchCV\n",
    "from sklearn.utils import shuffle\n",
    "\n",
    "%matplotlib inline"
   ]
  },
  {
   "cell_type": "markdown",
   "metadata": {},
   "source": [
    "Chargeons et visualisons rapidement le dataset"
   ]
  },
  {
   "cell_type": "code",
   "execution_count": 2,
   "metadata": {
    "collapsed": true
   },
   "outputs": [],
   "source": [
    "dataset = pd.read_csv(\"winequality-white.csv\", sep=\";\")"
   ]
  },
  {
   "cell_type": "code",
   "execution_count": 3,
   "metadata": {},
   "outputs": [
    {
     "name": "stdout",
     "output_type": "stream",
     "text": [
      "   fixed acidity  volatile acidity  citric acid  residual sugar  chlorides  \\\n",
      "0            7.0              0.27         0.36            20.7      0.045   \n",
      "1            6.3              0.30         0.34             1.6      0.049   \n",
      "2            8.1              0.28         0.40             6.9      0.050   \n",
      "3            7.2              0.23         0.32             8.5      0.058   \n",
      "4            7.2              0.23         0.32             8.5      0.058   \n",
      "\n",
      "   free sulfur dioxide  total sulfur dioxide  density    pH  sulphates  \\\n",
      "0                 45.0                 170.0   1.0010  3.00       0.45   \n",
      "1                 14.0                 132.0   0.9940  3.30       0.49   \n",
      "2                 30.0                  97.0   0.9951  3.26       0.44   \n",
      "3                 47.0                 186.0   0.9956  3.19       0.40   \n",
      "4                 47.0                 186.0   0.9956  3.19       0.40   \n",
      "\n",
      "   alcohol  quality  \n",
      "0      8.8        6  \n",
      "1      9.5        6  \n",
      "2     10.1        6  \n",
      "3      9.9        6  \n",
      "4      9.9        6   \n",
      "\n",
      "       fixed acidity  volatile acidity  citric acid  residual sugar  \\\n",
      "count    4898.000000       4898.000000  4898.000000     4898.000000   \n",
      "mean        6.854788          0.278241     0.334192        6.391415   \n",
      "std         0.843868          0.100795     0.121020        5.072058   \n",
      "min         3.800000          0.080000     0.000000        0.600000   \n",
      "25%         6.300000          0.210000     0.270000        1.700000   \n",
      "50%         6.800000          0.260000     0.320000        5.200000   \n",
      "75%         7.300000          0.320000     0.390000        9.900000   \n",
      "max        14.200000          1.100000     1.660000       65.800000   \n",
      "\n",
      "         chlorides  free sulfur dioxide  total sulfur dioxide      density  \\\n",
      "count  4898.000000          4898.000000           4898.000000  4898.000000   \n",
      "mean      0.045772            35.308085            138.360657     0.994027   \n",
      "std       0.021848            17.007137             42.498065     0.002991   \n",
      "min       0.009000             2.000000              9.000000     0.987110   \n",
      "25%       0.036000            23.000000            108.000000     0.991723   \n",
      "50%       0.043000            34.000000            134.000000     0.993740   \n",
      "75%       0.050000            46.000000            167.000000     0.996100   \n",
      "max       0.346000           289.000000            440.000000     1.038980   \n",
      "\n",
      "                pH    sulphates      alcohol      quality  \n",
      "count  4898.000000  4898.000000  4898.000000  4898.000000  \n",
      "mean      3.188267     0.489847    10.514267     5.877909  \n",
      "std       0.151001     0.114126     1.230621     0.885639  \n",
      "min       2.720000     0.220000     8.000000     3.000000  \n",
      "25%       3.090000     0.410000     9.500000     5.000000  \n",
      "50%       3.180000     0.470000    10.400000     6.000000  \n",
      "75%       3.280000     0.550000    11.400000     6.000000  \n",
      "max       3.820000     1.080000    14.200000     9.000000   \n",
      "\n",
      "<class 'pandas.core.frame.DataFrame'>\n",
      "RangeIndex: 4898 entries, 0 to 4897\n",
      "Data columns (total 12 columns):\n",
      "fixed acidity           4898 non-null float64\n",
      "volatile acidity        4898 non-null float64\n",
      "citric acid             4898 non-null float64\n",
      "residual sugar          4898 non-null float64\n",
      "chlorides               4898 non-null float64\n",
      "free sulfur dioxide     4898 non-null float64\n",
      "total sulfur dioxide    4898 non-null float64\n",
      "density                 4898 non-null float64\n",
      "pH                      4898 non-null float64\n",
      "sulphates               4898 non-null float64\n",
      "alcohol                 4898 non-null float64\n",
      "quality                 4898 non-null int64\n",
      "dtypes: float64(11), int64(1)\n",
      "memory usage: 459.3 KB\n",
      "None\n"
     ]
    }
   ],
   "source": [
    "print(dataset.head(), \"\\n\")\n",
    "print(dataset.describe(), \"\\n\")\n",
    "print(dataset.info())"
   ]
  },
  {
   "cell_type": "markdown",
   "metadata": {},
   "source": [
    "On a un dataset clean, tout est en type float, il ne manque rien donc c'est parfait. On peut donc recuperer les labels ainsi que les données d'entrées"
   ]
  },
  {
   "cell_type": "code",
   "execution_count": 4,
   "metadata": {},
   "outputs": [],
   "source": [
    "y = dataset[\"quality\"]\n",
    "X = dataset.drop(\"quality\", axis=1)"
   ]
  },
  {
   "cell_type": "markdown",
   "metadata": {},
   "source": [
    "Comme on va travailler sur le KNN, il faut scale les features. Pour cela on peut utiliser soit le MinMaxScaler soit le StandardScaler. Partons sur le standard Scaler"
   ]
  },
  {
   "cell_type": "code",
   "execution_count": 5,
   "metadata": {
    "collapsed": true
   },
   "outputs": [],
   "source": [
    "scaler = StandardScaler()\n",
    "X = scaler.fit_transform(X)"
   ]
  },
  {
   "cell_type": "markdown",
   "metadata": {},
   "source": [
    "Voila nos données sont étalonnées, on peut mainteant decouper notre dataset en un training set et test set. Mais avant ca il faut melanger le dataset car il est ordonné par qualité ascendante."
   ]
  },
  {
   "cell_type": "code",
   "execution_count": 6,
   "metadata": {},
   "outputs": [],
   "source": [
    "X, y = shuffle(X, y)"
   ]
  },
  {
   "cell_type": "code",
   "execution_count": 7,
   "metadata": {
    "collapsed": true
   },
   "outputs": [],
   "source": [
    "X_train, X_test, y_train, y_test = train_test_split(X, y, test_size=0.2)"
   ]
  },
  {
   "cell_type": "markdown",
   "metadata": {},
   "source": [
    "Maintenant on peut commencer par une approche naïve pour avoir une baseline"
   ]
  },
  {
   "cell_type": "markdown",
   "metadata": {},
   "source": [
    "# Evaluation sur des approche naïves\n",
    "\n",
    "### Retourner classe aléatoire\n",
    "\n",
    "Avant de retourner betement un random, regardons la répartition des qualités sur le dataset complet. On sait que la qualité sera un entier entre 3 et 9 donc on peut afficher un histogramme de 7 bins"
   ]
  },
  {
   "cell_type": "code",
   "execution_count": 8,
   "metadata": {},
   "outputs": [
    {
     "data": {
      "image/png": "[encoded data removed]",
      "text/plain": [
       "<matplotlib.figure.Figure at 0x1b08a5c2f98>"
      ]
     },
     "metadata": {},
     "output_type": "display_data"
    }
   ],
   "source": [
    "plt.hist(y, bins=7)\n",
    "plt.show()"
   ]
  },
  {
   "cell_type": "markdown",
   "metadata": {},
   "source": [
    "Hum la repartition semble suivre la lois normale avec une moyenne et un StDev données precedemment (cf l'exploration du dataset). Creons donc un classifieur random suivant cette repartition mais ce coup ci de la taille du test_set car on peut tester ca sur le set de test (NB: On pourrait le faire sur le full dataset car il n'y a aucun training, cependant on evaluera par la suite le resultat sur le test_set)"
   ]
  },
  {
   "cell_type": "code",
   "execution_count": 9,
   "metadata": {},
   "outputs": [
    {
     "data": {
      "image/png": "[encoded data removed]",
      "text/plain": [
       "<matplotlib.figure.Figure at 0x1b08b6765c0>"
      ]
     },
     "metadata": {},
     "output_type": "display_data"
    }
   ],
   "source": [
    "y_random = np.random.normal(y.mean(), y.std(), size=y_test.shape)\n",
    "plt.hist(y_random, bins=7)\n",
    "plt.show()"
   ]
  },
  {
   "cell_type": "code",
   "execution_count": 10,
   "metadata": {},
   "outputs": [
    {
     "name": "stdout",
     "output_type": "stream",
     "text": [
      "1.47023087281\n"
     ]
    }
   ],
   "source": [
    "MSE = mean_squared_error(y_test, y_random)\n",
    "print(MSE)"
   ]
  },
  {
   "cell_type": "markdown",
   "metadata": {},
   "source": [
    "Hum... un MSE de 1.54, c'est pas bon sachant qu'entre avg et min/max on a 3 (6=>9 et 6=>3). Bien qu'on ait essayé de modéliser la répartion au mieux, on est completement à coté. On peut aussi afficher sa prediction vs la realite."
   ]
  },
  {
   "cell_type": "code",
   "execution_count": 11,
   "metadata": {},
   "outputs": [
    {
     "data": {
      "image/png": "[encoded data removed]",
      "text/plain": [
       "<matplotlib.figure.Figure at 0x1b08b72f470>"
      ]
     },
     "metadata": {},
     "output_type": "display_data"
    }
   ],
   "source": [
    "sizes = {}\n",
    "for (yt, yp) in zip(list(y_test), list(y_random)):\n",
    "    if (yt, yp) in sizes.keys():\n",
    "        sizes[(yt, yp)] += 1\n",
    "    else:\n",
    "        sizes[(yt, yp)] = 1\n",
    "\n",
    "keys = sizes.keys()\n",
    "plt.scatter([k[0] for k in keys], [k[1] for k in keys], s=[sizes[k] for k in keys], color='coral')\n",
    "plt.xlabel(\"Classe Vraie\")\n",
    "plt.ylabel(\"Classe Prédite\")\n",
    "plt.show()"
   ]
  },
  {
   "cell_type": "markdown",
   "metadata": {},
   "source": [
    "On remarque que la repartition est très \"éclaté\" car on a souvent beaucoup faux et parfois de bcp (predire 4 quand c'est 8 par exemple)"
   ]
  },
  {
   "cell_type": "markdown",
   "metadata": {},
   "source": [
    "# Mise en place d'un modèle optimisé\n",
    "\n",
    "Sachant qu'on a qu'un seul paramètre, on peut faire entrainer le modèle en faisant une loop sur le nb de voisins et evaluer le MSE manuellement. On verra le gridsearch ensuite"
   ]
  },
  {
   "cell_type": "code",
   "execution_count": 12,
   "metadata": {},
   "outputs": [
    {
     "name": "stdout",
     "output_type": "stream",
     "text": [
      "1 voisins - MSE = 0.6051020408163266\n",
      "2 voisins - MSE = 0.5160714285714286\n",
      "3 voisins - MSE = 0.5082766439909296\n",
      "4 voisins - MSE = 0.4986607142857143\n",
      "5 voisins - MSE = 0.4795102040816327\n",
      "6 voisins - MSE = 0.4901927437641723\n",
      "7 voisins - MSE = 0.4946064139941691\n",
      "8 voisins - MSE = 0.4948660714285714\n",
      "9 voisins - MSE = 0.4997228521038045\n",
      "10 voisins - MSE = 0.4980102040816326\n",
      "11 voisins - MSE = 0.49848203744307634\n",
      "12 voisins - MSE = 0.4957482993197279\n",
      "13 voisins - MSE = 0.49586402608380636\n",
      "14 voisins - MSE = 0.5008954602249063\n",
      "15 voisins - MSE = 0.5041904761904762\n",
      "16 voisins - MSE = 0.5065768494897959\n",
      "17 voisins - MSE = 0.5105253866252383\n",
      "18 voisins - MSE = 0.5086514235323759\n",
      "19 voisins - MSE = 0.5120357284187914\n"
     ]
    }
   ],
   "source": [
    "for i in range(1, 20):\n",
    "    knn = KNeighborsRegressor(n_neighbors=i)\n",
    "    knn.fit(X_train, y_train)\n",
    "    y_pred = knn.predict(X_test)\n",
    "    MSE = mean_squared_error(y_test, y_pred)\n",
    "    print(\"{} voisins - MSE = {}\".format(i, MSE))"
   ]
  },
  {
   "cell_type": "markdown",
   "metadata": {},
   "source": [
    "Un MSE a 0.479 dans le meilleur des cas (5 voisins), c'est bien mieux. On remarque que le modèle a bien \"appris\". Cependant on test toujours sur le meme test_set qui est peut etre plus difficile qu'un autre. Cela sera corrigé par la suite avec un split en Kfold\n",
    "\n",
    "Affichons maintenant la prediction vs la realité"
   ]
  },
  {
   "cell_type": "code",
   "execution_count": 13,
   "metadata": {},
   "outputs": [
    {
     "data": {
      "image/png": "[encoded data removed]",
      "text/plain": [
       "<matplotlib.figure.Figure at 0x1b08b7a44a8>"
      ]
     },
     "metadata": {},
     "output_type": "display_data"
    }
   ],
   "source": [
    "best_param = 11       # meilleur parametre lors du test\n",
    "knn = KNeighborsRegressor(n_neighbors=best_param)\n",
    "knn.fit(X_train, y_train)\n",
    "y_pred = knn.predict(X_test)\n",
    "\n",
    "sizes = {}\n",
    "for (yt, yp) in zip(list(y_test), list(y_pred)):\n",
    "    if (yt, yp) in sizes.keys():\n",
    "        sizes[(yt, yp)] += 1\n",
    "    else:\n",
    "        sizes[(yt, yp)] = 1\n",
    "\n",
    "keys = sizes.keys()\n",
    "plt.scatter([k[0] for k in keys], [k[1] for k in keys], s=[sizes[k] for k in keys], color='coral')\n",
    "plt.xlabel(\"Classe Vraie\")\n",
    "plt.ylabel(\"Classe Prédite\")\n",
    "plt.show()"
   ]
  },
  {
   "cell_type": "markdown",
   "metadata": {},
   "source": [
    "On peut remarquer que l'éclatement de la prédiction est plus \"propre\". On est rarement très loin de la réalité (max +/- 1 environ)\n",
    "\n",
    "On peut aussi utiliser le GridSearch qui lui fonctionne avec le K-fold. En plus de tester le modèle sur tout le dataset (en decoupant le set en n-partie), cette outil permet aussi de recuperer le meilleur modèle deje entrainée. Attention l'evaluation est faite sur le MSE mais négatif (implémenté avec Skelarnn 0.18). Ca donne le meme resultat mais en négatif. On affichera donc son opposé"
   ]
  },
  {
   "cell_type": "code",
   "execution_count": 14,
   "metadata": {},
   "outputs": [
    {
     "data": {
      "text/plain": [
       "GridSearchCV(cv=5, error_score='raise',\n",
       "       estimator=KNeighborsRegressor(algorithm='auto', leaf_size=30, metric='minkowski',\n",
       "          metric_params=None, n_jobs=1, n_neighbors=5, p=2,\n",
       "          weights='uniform'),\n",
       "       fit_params={}, iid=True, n_jobs=1,\n",
       "       param_grid=[{'n_neighbors': [1, 2, 3, 4, 5, 6, 7, 8, 9, 10, 11, 12, 13, 14, 15, 16, 17, 18, 19]}],\n",
       "       pre_dispatch='2*n_jobs', refit=True, return_train_score=True,\n",
       "       scoring='neg_mean_squared_error', verbose=0)"
      ]
     },
     "execution_count": 14,
     "metadata": {},
     "output_type": "execute_result"
    }
   ],
   "source": [
    "knn = KNeighborsRegressor()\n",
    "\n",
    "voisins = list(range(1, 20))\n",
    "param_grid = [{\"n_neighbors\": voisins}]\n",
    "grid_search = GridSearchCV(knn, param_grid=param_grid ,cv=5, scoring=\"neg_mean_squared_error\")\n",
    "grid_search.fit(X, y)  # le dataset complet car on a le K-fold"
   ]
  },
  {
   "cell_type": "markdown",
   "metadata": {},
   "source": [
    "Comme fait précédemment on peut afficher le resultat en fonction des paramètres. Comme expliqué ci dessus on affichera -score au lieu du score car sklearn le calcul negativement"
   ]
  },
  {
   "cell_type": "code",
   "execution_count": 15,
   "metadata": {},
   "outputs": [
    {
     "name": "stdout",
     "output_type": "stream",
     "text": [
      "0.607594936709 {'n_neighbors': 1}\n",
      "0.544507962434 {'n_neighbors': 2}\n",
      "0.532552969466 {'n_neighbors': 3}\n",
      "0.525099530421 {'n_neighbors': 4}\n",
      "0.516153532054 {'n_neighbors': 5}\n",
      "0.50647089515 {'n_neighbors': 6}\n",
      "0.504887459271 {'n_neighbors': 7}\n",
      "0.502367037566 {'n_neighbors': 8}\n",
      "0.502545760678 {'n_neighbors': 9}\n",
      "0.50323397305 {'n_neighbors': 10}\n",
      "0.502063584732 {'n_neighbors': 11}\n",
      "0.503484982533 {'n_neighbors': 12}\n",
      "0.506762813466 {'n_neighbors': 13}\n",
      "0.507129107257 {'n_neighbors': 14}\n",
      "0.508183839209 {'n_neighbors': 15}\n",
      "0.508626767303 {'n_neighbors': 16}\n",
      "0.510185641763 {'n_neighbors': 17}\n",
      "0.510995291603 {'n_neighbors': 18}\n",
      "0.511867017913 {'n_neighbors': 19}\n"
     ]
    }
   ],
   "source": [
    "evaluation = grid_search.cv_results_\n",
    "for score, param in zip(evaluation[\"mean_test_score\"], evaluation[\"params\"]):\n",
    "    print(-score, param)"
   ]
  },
  {
   "cell_type": "markdown",
   "metadata": {},
   "source": [
    "Comme prévu, on a plus ou moins les mêmes résultats. L'avantage du grid_search est d'voir acces directement au meilleur modèle et deja fit.\n",
    "\n",
    "Regardons du coté d'une evaluation avec r^2. On refait comme precedemment en changeant juste le scoring"
   ]
  },
  {
   "cell_type": "code",
   "execution_count": 16,
   "metadata": {},
   "outputs": [
    {
     "data": {
      "text/plain": [
       "GridSearchCV(cv=5, error_score='raise',\n",
       "       estimator=KNeighborsRegressor(algorithm='auto', leaf_size=30, metric='minkowski',\n",
       "          metric_params=None, n_jobs=1, n_neighbors=5, p=2,\n",
       "          weights='uniform'),\n",
       "       fit_params={}, iid=True, n_jobs=1,\n",
       "       param_grid=[{'n_neighbors': [1, 2, 3, 4, 5, 6, 7, 8, 9, 10, 11, 12, 13, 14, 15, 16, 17, 18, 19]}],\n",
       "       pre_dispatch='2*n_jobs', refit=True, return_train_score=True,\n",
       "       scoring='r2', verbose=0)"
      ]
     },
     "execution_count": 16,
     "metadata": {},
     "output_type": "execute_result"
    }
   ],
   "source": [
    "grid_search2 = GridSearchCV(knn, param_grid=param_grid ,cv=5, scoring=\"r2\")\n",
    "grid_search2.fit(X, y)"
   ]
  },
  {
   "cell_type": "code",
   "execution_count": 17,
   "metadata": {},
   "outputs": [
    {
     "name": "stdout",
     "output_type": "stream",
     "text": [
      "0.223133682098 {'n_neighbors': 1}\n",
      "0.304318993296 {'n_neighbors': 2}\n",
      "0.319474875834 {'n_neighbors': 3}\n",
      "0.32895718941 {'n_neighbors': 4}\n",
      "0.340175116519 {'n_neighbors': 5}\n",
      "0.352704570138 {'n_neighbors': 6}\n",
      "0.354779271477 {'n_neighbors': 7}\n",
      "0.357996750168 {'n_neighbors': 8}\n",
      "0.35769031469 {'n_neighbors': 9}\n",
      "0.356877078161 {'n_neighbors': 10}\n",
      "0.358352001569 {'n_neighbors': 11}\n",
      "0.356619976019 {'n_neighbors': 12}\n",
      "0.352490770679 {'n_neighbors': 13}\n",
      "0.351993466478 {'n_neighbors': 14}\n",
      "0.350710726095 {'n_neighbors': 15}\n",
      "0.350196897638 {'n_neighbors': 16}\n",
      "0.348245236544 {'n_neighbors': 17}\n",
      "0.347174112581 {'n_neighbors': 18}\n",
      "0.346054656406 {'n_neighbors': 19}\n"
     ]
    }
   ],
   "source": [
    "evaluation = grid_search2.cv_results_\n",
    "for score, param in zip(evaluation[\"mean_test_score\"], evaluation[\"params\"]):\n",
    "    print(score, param)"
   ]
  },
  {
   "cell_type": "markdown",
   "metadata": {},
   "source": [
    "On remarque que le r^2 est très mauvais entre 0.25 et 0.35. Cette evaluation est vraiment pas bonne pour ce type d'exercice. Elle est plutot fait pour evaluer des regressions linéaires\n",
    "\n",
    "# Selection du modèle Final\n",
    "\n",
    "On peut donc recupérer le meilleur modèle du 1er grid_search. Pour le comparer à notre tout premier modèle fait avec le split, on peut tester aussi ce modèle sur le test_set (bien que l'on sache qu'on aura plus ou moin). "
   ]
  },
  {
   "cell_type": "code",
   "execution_count": 18,
   "metadata": {},
   "outputs": [
    {
     "name": "stdout",
     "output_type": "stream",
     "text": [
      "MSE = 0.3963568898633834\n"
     ]
    }
   ],
   "source": [
    "best_model = grid_search.best_estimator_\n",
    "y_pred = best_model.predict(X_test)\n",
    "MSE = mean_squared_error(y_test, y_pred)\n",
    "print(\"MSE = {}\".format(MSE))"
   ]
  },
  {
   "cell_type": "markdown",
   "metadata": {},
   "source": [
    "Bizarrement, sur ce test_set, on remarque que le MSE est tout de même plus bas que sur la moyenne fait par le grid search. C'est probablement de la chance (l'entrainement du grid search sur ce modèle a peut etre été fait sur un set assez similaire au test set du départ. "
   ]
  }
 ],
 "metadata": {
  "kernelspec": {
   "display_name": "Python 3",
   "language": "python",
   "name": "python3"
  },
  "language_info": {
   "codemirror_mode": {
    "name": "ipython",
    "version": 3
   },
   "file_extension": ".py",
   "mimetype": "text/x-python",
   "name": "python",
   "nbconvert_exporter": "python",
   "pygments_lexer": "ipython3",
   "version": "3.6.1"
  }
 },
 "nbformat": 4,
 "nbformat_minor": 2
}
