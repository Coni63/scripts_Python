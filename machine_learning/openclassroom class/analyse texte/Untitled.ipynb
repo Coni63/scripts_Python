{
 "cells": [
  {
   "cell_type": "code",
   "execution_count": 10,
   "metadata": {
    "collapsed": true
   },
   "outputs": [],
   "source": [
    "import nltk\n",
    "\n",
    "from nltk.corpus import stopwords\n",
    "\n",
    "from sklearn.feature_extraction.text import TfidfVectorizer"
   ]
  },
  {
   "cell_type": "code",
   "execution_count": 2,
   "metadata": {
    "collapsed": true
   },
   "outputs": [],
   "source": [
    "phrases = [\"Je suis à la maison\", \"La maison est dans la prairie\", \"Je suis à la plage\"]"
   ]
  },
  {
   "cell_type": "code",
   "execution_count": 3,
   "metadata": {},
   "outputs": [],
   "source": [
    "import tarfile\n",
    "tar = tarfile.open(\"cnn_stories.tar\")\n",
    "\n",
    "for member in tar.getmembers():\n",
    "    f = tar.extractfile(member)\n",
    "    if f is not None:\n",
    "        content = f.read()"
   ]
  },
  {
   "cell_type": "code",
   "execution_count": 7,
   "metadata": {},
   "outputs": [
    {
     "data": {
      "text/plain": [
       "b'(CNN)The onslaught on Houthis rebels in Yemen continued Tuesday, with the Saudi-led coalition asserting increasing control while locals fled the chaos and casualties piled up -- dozens of civilians among them.\\n\\nFive days after their first airstrikes, the coalition has destroyed air defense systems of the Houthis and supporters of Yemen\\'s longtime President Ali Abdullah Saleh, and rendered all but a fraction of air bases and stripes unusable, a Saudi source said.\\n\\nSaudi Arabia\\'s navy now controls all Yemeni ports, allowing only closely watched non-military medical goods to pass its blockade, according to the source.\\n\\nThis effort isn\\'t over, including widespread attempts to locate and destroy Scud missiles still in the country, the source said.\\n\\nThe Saudis appear intent on seeing it through, as evidenced by remarks from Saudi Foreign Minister Saud al-Faisal in Riyadh.\\n\\n\"The Houthi militia and agents of the former president -- supported by Iran -- insist to meddle in Yemen, reshuffle the cards, rob the Yemeni will, make a coup against the constitutional legitimacy and reject all peaceful solutions,\" al-Faisal said, according to the state-run Saudi Press Agency.\\n\\n\"We are not warmongers,\" he added. \"But if war\\'s drums are beaten, we are ready for them.\"\\n\\nThe airstrikes -- the latest focused around Aden, Taiz and coastal cities -- come at a cost, and not just to Houthi rebel fighters.\\n\\nThe International Red Cross said that intense fighting had brought \"disturbing reports of civilian casualties,\" with some of the worst violence around the port city of Aden.\\n\\nErich Ogoso, a spokesman with the United Nations\\' humanitarian agency, reported 182 dead and hundreds more wounded just between last Wednesday and Sunday. Some 75,000 people have been displaced in the past week,  many health facilities shut down and food prices have skyrocketed.\\n\\n\"Increasing hostilities have led to (the) targeting of schools, health facilities and other social infrastructure,\" Ogoso said. \"... There are reports of damage to residential areas in different cities, and in Aden, minors have reportedly taken part in the fighting on all sides.\"\\n\\nAirstrikes that hit the Al-Mazraq camp for displaced persons near Sanaa killed at least 29 people -- women and children among them, according to aid group Doctors Without Borders. About 1,100 families live in the camp, said U.N.\\'s humanitarian affairs coordinator for Yemen, Johannes Van Der Klaauw.\\n\\n\"They are,\" he said, \"among the most vulnerable people in Yemen.\"\\n\\nYemen has been in disarray for some time, beset by widespread poverty and insecurity. Those factors helped terror groups like al Qaeda in the Arabian Peninsula find homes in the Arab nation, but didn\\'t help its 26 million citizens in their quest for peace and prosperity.\\n\\nThe instability escalated as the Houthis, a minority group long marginalized in Yemen, increasingly challenged the government of President Abdu Rabu Mansour Hadi (who in 2012 took over for Saleh, who had been in power for 33 years).\\n\\nThe Houthis began moving into Sanaa in September, then headed into Aden earlier this month -- advancing despite intermittent (and, time and again, unsuccessful) talks aimed a peaceful political solution to the unrest.\\n\\nThings finally came to a head last week, with Hadi -- who claims to still be President, even though the Houthis control government institutions -- left Yemen. At roughly the same time, Saudi Arabia and its allies came in with force to support Hadi, who they say remains Yemen\\'s legitimate leader.\\n\\nThe burgeoning conflict threatened to open a wider rift, not just in the region but in the Muslim world. That\\'s because the Saudis have painted the Houthis as tools of Iran\\'s government, an accusation that also reflects the fact Saudi Arabia (and their allies in the coalition) are predominantly Sunni Muslims, while Iran and the Houthis are Shiites.\\n\\nThe state-run Saudi Press Agency quoted Saudi Minister of Foreign Affairs Prince Saud al-Faisal as saying Tuesday that he would not condemn Iran, but would instead test the country\\'s intentions \"by extending our hands to it as a Muslim neighbor to open a new page.\"\\n\\nIf those two countries could achieve real cooperation, it could ease the pressures that are tearing Yemen apart.\\n\\nOn the other side, Iranian Deputy Foreign Minister Hossein Amir-Abdollahian said that officials in his country and Saudi Arabia can help bring about a \"political solution\" in Yemen, according to Iran\\'s state-run Press TV, citing AFP.\\n\\nIf they don\\'t, war could inflame the entire region.\\n\\n\"We strongly object to the military solution in Yemen,\" Amir-Abdollahian said, reiterating a view made by other Iranian officials. \"We believe that the Saudi military attack against Yemen is a strategic mistake.\"\\n\\n@highlight\\n\\nSaudi minister: \"If war\\'s drums are beaten, we are ready for them\"\\n\\n@highlight\\n\\nU.N. official: At least 182 killed in the past week, including civilians'"
      ]
     },
     "execution_count": 7,
     "metadata": {},
     "output_type": "execute_result"
    }
   ],
   "source": [
    "content"
   ]
  },
  {
   "cell_type": "code",
   "execution_count": 8,
   "metadata": {
    "collapsed": true
   },
   "outputs": [],
   "source": [
    "def tokenize(text):\n",
    "    tokenizer = nltk.RegexpTokenizer(r'(\\w+|\\d+)')\n",
    "    tokens = tokenizer.tokenize(text)\n",
    "    stemmer = nltk.stem.PorterStemmer()\n",
    "    stems = [stemmer.stem(item) for item in tokens]\n",
    "    return stems"
   ]
  },
  {
   "cell_type": "code",
   "execution_count": 11,
   "metadata": {},
   "outputs": [
    {
     "ename": "AttributeError",
     "evalue": "'int' object has no attribute 'lower'",
     "output_type": "error",
     "traceback": [
      "\u001b[1;31m---------------------------------------------------------------------------\u001b[0m",
      "\u001b[1;31mAttributeError\u001b[0m                            Traceback (most recent call last)",
      "\u001b[1;32m<ipython-input-11-9b92a937ee17>\u001b[0m in \u001b[0;36m<module>\u001b[1;34m()\u001b[0m\n\u001b[0;32m      1\u001b[0m \u001b[0mtfidf\u001b[0m \u001b[1;33m=\u001b[0m \u001b[0mTfidfVectorizer\u001b[0m\u001b[1;33m(\u001b[0m\u001b[0mmin_df\u001b[0m \u001b[1;33m=\u001b[0m \u001b[1;36m0.001\u001b[0m\u001b[1;33m,\u001b[0m \u001b[0mtokenizer\u001b[0m\u001b[1;33m=\u001b[0m\u001b[0mtokenize\u001b[0m\u001b[1;33m,\u001b[0m \u001b[0mstop_words\u001b[0m\u001b[1;33m=\u001b[0m\u001b[1;34m\"english\"\u001b[0m\u001b[1;33m,\u001b[0m \u001b[0mlowercase\u001b[0m\u001b[1;33m=\u001b[0m\u001b[1;32mTrue\u001b[0m\u001b[1;33m)\u001b[0m\u001b[1;33m\u001b[0m\u001b[0m\n\u001b[1;32m----> 2\u001b[1;33m \u001b[0ma\u001b[0m \u001b[1;33m=\u001b[0m \u001b[0mtfidf\u001b[0m\u001b[1;33m.\u001b[0m\u001b[0mfit_transform\u001b[0m\u001b[1;33m(\u001b[0m\u001b[0mcontent\u001b[0m\u001b[1;33m)\u001b[0m\u001b[1;33m\u001b[0m\u001b[0m\n\u001b[0m",
      "\u001b[1;32mC:\\Anaconda501\\lib\\site-packages\\sklearn\\feature_extraction\\text.py\u001b[0m in \u001b[0;36mfit_transform\u001b[1;34m(self, raw_documents, y)\u001b[0m\n\u001b[0;32m   1379\u001b[0m             \u001b[0mTf\u001b[0m\u001b[1;33m-\u001b[0m\u001b[0midf\u001b[0m\u001b[1;33m-\u001b[0m\u001b[0mweighted\u001b[0m \u001b[0mdocument\u001b[0m\u001b[1;33m-\u001b[0m\u001b[0mterm\u001b[0m \u001b[0mmatrix\u001b[0m\u001b[1;33m.\u001b[0m\u001b[1;33m\u001b[0m\u001b[0m\n\u001b[0;32m   1380\u001b[0m         \"\"\"\n\u001b[1;32m-> 1381\u001b[1;33m         \u001b[0mX\u001b[0m \u001b[1;33m=\u001b[0m \u001b[0msuper\u001b[0m\u001b[1;33m(\u001b[0m\u001b[0mTfidfVectorizer\u001b[0m\u001b[1;33m,\u001b[0m \u001b[0mself\u001b[0m\u001b[1;33m)\u001b[0m\u001b[1;33m.\u001b[0m\u001b[0mfit_transform\u001b[0m\u001b[1;33m(\u001b[0m\u001b[0mraw_documents\u001b[0m\u001b[1;33m)\u001b[0m\u001b[1;33m\u001b[0m\u001b[0m\n\u001b[0m\u001b[0;32m   1382\u001b[0m         \u001b[0mself\u001b[0m\u001b[1;33m.\u001b[0m\u001b[0m_tfidf\u001b[0m\u001b[1;33m.\u001b[0m\u001b[0mfit\u001b[0m\u001b[1;33m(\u001b[0m\u001b[0mX\u001b[0m\u001b[1;33m)\u001b[0m\u001b[1;33m\u001b[0m\u001b[0m\n\u001b[0;32m   1383\u001b[0m         \u001b[1;31m# X is already a transformed view of raw_documents so\u001b[0m\u001b[1;33m\u001b[0m\u001b[1;33m\u001b[0m\u001b[0m\n",
      "\u001b[1;32mC:\\Anaconda501\\lib\\site-packages\\sklearn\\feature_extraction\\text.py\u001b[0m in \u001b[0;36mfit_transform\u001b[1;34m(self, raw_documents, y)\u001b[0m\n\u001b[0;32m    867\u001b[0m \u001b[1;33m\u001b[0m\u001b[0m\n\u001b[0;32m    868\u001b[0m         vocabulary, X = self._count_vocab(raw_documents,\n\u001b[1;32m--> 869\u001b[1;33m                                           self.fixed_vocabulary_)\n\u001b[0m\u001b[0;32m    870\u001b[0m \u001b[1;33m\u001b[0m\u001b[0m\n\u001b[0;32m    871\u001b[0m         \u001b[1;32mif\u001b[0m \u001b[0mself\u001b[0m\u001b[1;33m.\u001b[0m\u001b[0mbinary\u001b[0m\u001b[1;33m:\u001b[0m\u001b[1;33m\u001b[0m\u001b[0m\n",
      "\u001b[1;32mC:\\Anaconda501\\lib\\site-packages\\sklearn\\feature_extraction\\text.py\u001b[0m in \u001b[0;36m_count_vocab\u001b[1;34m(self, raw_documents, fixed_vocab)\u001b[0m\n\u001b[0;32m    790\u001b[0m         \u001b[1;32mfor\u001b[0m \u001b[0mdoc\u001b[0m \u001b[1;32min\u001b[0m \u001b[0mraw_documents\u001b[0m\u001b[1;33m:\u001b[0m\u001b[1;33m\u001b[0m\u001b[0m\n\u001b[0;32m    791\u001b[0m             \u001b[0mfeature_counter\u001b[0m \u001b[1;33m=\u001b[0m \u001b[1;33m{\u001b[0m\u001b[1;33m}\u001b[0m\u001b[1;33m\u001b[0m\u001b[0m\n\u001b[1;32m--> 792\u001b[1;33m             \u001b[1;32mfor\u001b[0m \u001b[0mfeature\u001b[0m \u001b[1;32min\u001b[0m \u001b[0manalyze\u001b[0m\u001b[1;33m(\u001b[0m\u001b[0mdoc\u001b[0m\u001b[1;33m)\u001b[0m\u001b[1;33m:\u001b[0m\u001b[1;33m\u001b[0m\u001b[0m\n\u001b[0m\u001b[0;32m    793\u001b[0m                 \u001b[1;32mtry\u001b[0m\u001b[1;33m:\u001b[0m\u001b[1;33m\u001b[0m\u001b[0m\n\u001b[0;32m    794\u001b[0m                     \u001b[0mfeature_idx\u001b[0m \u001b[1;33m=\u001b[0m \u001b[0mvocabulary\u001b[0m\u001b[1;33m[\u001b[0m\u001b[0mfeature\u001b[0m\u001b[1;33m]\u001b[0m\u001b[1;33m\u001b[0m\u001b[0m\n",
      "\u001b[1;32mC:\\Anaconda501\\lib\\site-packages\\sklearn\\feature_extraction\\text.py\u001b[0m in \u001b[0;36m<lambda>\u001b[1;34m(doc)\u001b[0m\n\u001b[0;32m    264\u001b[0m \u001b[1;33m\u001b[0m\u001b[0m\n\u001b[0;32m    265\u001b[0m             return lambda doc: self._word_ngrams(\n\u001b[1;32m--> 266\u001b[1;33m                 tokenize(preprocess(self.decode(doc))), stop_words)\n\u001b[0m\u001b[0;32m    267\u001b[0m \u001b[1;33m\u001b[0m\u001b[0m\n\u001b[0;32m    268\u001b[0m         \u001b[1;32melse\u001b[0m\u001b[1;33m:\u001b[0m\u001b[1;33m\u001b[0m\u001b[0m\n",
      "\u001b[1;32mC:\\Anaconda501\\lib\\site-packages\\sklearn\\feature_extraction\\text.py\u001b[0m in \u001b[0;36m<lambda>\u001b[1;34m(x)\u001b[0m\n\u001b[0;32m    230\u001b[0m \u001b[1;33m\u001b[0m\u001b[0m\n\u001b[0;32m    231\u001b[0m         \u001b[1;32mif\u001b[0m \u001b[0mself\u001b[0m\u001b[1;33m.\u001b[0m\u001b[0mlowercase\u001b[0m\u001b[1;33m:\u001b[0m\u001b[1;33m\u001b[0m\u001b[0m\n\u001b[1;32m--> 232\u001b[1;33m             \u001b[1;32mreturn\u001b[0m \u001b[1;32mlambda\u001b[0m \u001b[0mx\u001b[0m\u001b[1;33m:\u001b[0m \u001b[0mstrip_accents\u001b[0m\u001b[1;33m(\u001b[0m\u001b[0mx\u001b[0m\u001b[1;33m.\u001b[0m\u001b[0mlower\u001b[0m\u001b[1;33m(\u001b[0m\u001b[1;33m)\u001b[0m\u001b[1;33m)\u001b[0m\u001b[1;33m\u001b[0m\u001b[0m\n\u001b[0m\u001b[0;32m    233\u001b[0m         \u001b[1;32melse\u001b[0m\u001b[1;33m:\u001b[0m\u001b[1;33m\u001b[0m\u001b[0m\n\u001b[0;32m    234\u001b[0m             \u001b[1;32mreturn\u001b[0m \u001b[0mstrip_accents\u001b[0m\u001b[1;33m\u001b[0m\u001b[0m\n",
      "\u001b[1;31mAttributeError\u001b[0m: 'int' object has no attribute 'lower'"
     ]
    }
   ],
   "source": [
    "tfidf = TfidfVectorizer(min_df = 0.001, tokenizer=tokenize, stop_words=\"english\", lowercase=True)\n",
    "a = tfidf.fit_transform(content)"
   ]
  },
  {
   "cell_type": "code",
   "execution_count": 14,
   "metadata": {},
   "outputs": [
    {
     "data": {
      "text/plain": [
       "matrix([[ 0.        ,  0.        ,  0.52682017,  0.40912286,  0.52682017,\n",
       "          0.        ,  0.        ,  0.52682017],\n",
       "        [ 0.44839402,  0.44839402,  0.        ,  0.52965746,  0.34101521,\n",
       "          0.        ,  0.44839402,  0.        ],\n",
       "        [ 0.        ,  0.        ,  0.4804584 ,  0.37311881,  0.        ,\n",
       "          0.63174505,  0.        ,  0.4804584 ]])"
      ]
     },
     "execution_count": 14,
     "metadata": {},
     "output_type": "execute_result"
    }
   ],
   "source": [
    "a.todense()"
   ]
  },
  {
   "cell_type": "code",
   "execution_count": null,
   "metadata": {
    "collapsed": true
   },
   "outputs": [],
   "source": []
  }
 ],
 "metadata": {
  "kernelspec": {
   "display_name": "Python 3",
   "language": "python",
   "name": "python3"
  },
  "language_info": {
   "codemirror_mode": {
    "name": "ipython",
    "version": 3
   },
   "file_extension": ".py",
   "mimetype": "text/x-python",
   "name": "python",
   "nbconvert_exporter": "python",
   "pygments_lexer": "ipython3",
   "version": "3.6.3"
  }
 },
 "nbformat": 4,
 "nbformat_minor": 2
}
