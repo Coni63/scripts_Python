{
 "cells": [
  {
   "cell_type": "markdown",
   "metadata": {},
   "source": [
    "# Leaf Dataset\n",
    "\n",
    "Le dataset complet est disponible sur <a href=\"https://www.kaggle.com/c/leaf-classification/data\" target=\"_blank\">Kaggle</a>\n",
    "Pour cette exercice, nous avons deja un dataset nettoyer donc on va passer très rapidement au travers"
   ]
  },
  {
   "cell_type": "code",
   "execution_count": 1,
   "metadata": {
    "collapsed": true
   },
   "outputs": [],
   "source": [
    "import math\n",
    "import numpy as np\n",
    "import matplotlib\n",
    "import matplotlib.pyplot as plt\n",
    "import matplotlib.cm as cm\n",
    "import pandas as pd\n",
    "\n",
    "from sklearn.model_selection import train_test_split, GridSearchCV\n",
    "from sklearn.neighbors import NearestNeighbors\n",
    "from sklearn.preprocessing import MinMaxScaler\n",
    "from sklearn.neighbors import KNeighborsClassifier\n",
    "from sklearn.svm import LinearSVC\n",
    "from sklearn.metrics import accuracy_score\n",
    "from sklearn.decomposition import PCA\n",
    "from sklearn.preprocessing import LabelEncoder\n",
    "%matplotlib inline"
   ]
  },
  {
   "cell_type": "markdown",
   "metadata": {},
   "source": [
    "# Exploration"
   ]
  },
  {
   "cell_type": "code",
   "execution_count": 2,
   "metadata": {
    "collapsed": true
   },
   "outputs": [],
   "source": [
    "train_set = pd.read_csv(\"train.csv\")\n",
    "\n",
    "seed = 42 # pour avoir toujours le meme random seed"
   ]
  },
  {
   "cell_type": "code",
   "execution_count": 3,
   "metadata": {},
   "outputs": [
    {
     "name": "stdout",
     "output_type": "stream",
     "text": [
      "   id                species   margin1   margin2   margin3   margin4  \\\n",
      "0   1            Acer_Opalus  0.007812  0.023438  0.023438  0.003906   \n",
      "1   2  Pterocarya_Stenoptera  0.005859  0.000000  0.031250  0.015625   \n",
      "2   3   Quercus_Hartwissiana  0.005859  0.009766  0.019531  0.007812   \n",
      "3   5        Tilia_Tomentosa  0.000000  0.003906  0.023438  0.005859   \n",
      "4   6     Quercus_Variabilis  0.005859  0.003906  0.048828  0.009766   \n",
      "\n",
      "    margin5   margin6   margin7  margin8    ...      texture55  texture56  \\\n",
      "0  0.011719  0.009766  0.027344      0.0    ...       0.007812   0.000000   \n",
      "1  0.025391  0.001953  0.019531      0.0    ...       0.000977   0.000000   \n",
      "2  0.003906  0.005859  0.068359      0.0    ...       0.154300   0.000000   \n",
      "3  0.021484  0.019531  0.023438      0.0    ...       0.000000   0.000977   \n",
      "4  0.013672  0.015625  0.005859      0.0    ...       0.096680   0.000000   \n",
      "\n",
      "   texture57  texture58  texture59  texture60  texture61  texture62  \\\n",
      "0   0.002930   0.002930   0.035156        0.0        0.0   0.004883   \n",
      "1   0.000000   0.000977   0.023438        0.0        0.0   0.000977   \n",
      "2   0.005859   0.000977   0.007812        0.0        0.0   0.000000   \n",
      "3   0.000000   0.000000   0.020508        0.0        0.0   0.017578   \n",
      "4   0.021484   0.000000   0.000000        0.0        0.0   0.000000   \n",
      "\n",
      "   texture63  texture64  \n",
      "0   0.000000   0.025391  \n",
      "1   0.039062   0.022461  \n",
      "2   0.020508   0.002930  \n",
      "3   0.000000   0.047852  \n",
      "4   0.000000   0.031250  \n",
      "\n",
      "[5 rows x 194 columns] \n",
      "\n",
      "                id     margin1     margin2     margin3     margin4  \\\n",
      "count   990.000000  990.000000  990.000000  990.000000  990.000000   \n",
      "mean    799.595960    0.017412    0.028539    0.031988    0.023280   \n",
      "std     452.477568    0.019739    0.038855    0.025847    0.028411   \n",
      "min       1.000000    0.000000    0.000000    0.000000    0.000000   \n",
      "25%     415.250000    0.001953    0.001953    0.013672    0.005859   \n",
      "50%     802.500000    0.009766    0.011719    0.025391    0.013672   \n",
      "75%    1195.500000    0.025391    0.041016    0.044922    0.029297   \n",
      "max    1584.000000    0.087891    0.205080    0.156250    0.169920   \n",
      "\n",
      "          margin5     margin6     margin7     margin8     margin9     ...      \\\n",
      "count  990.000000  990.000000  990.000000  990.000000  990.000000     ...       \n",
      "mean     0.014264    0.038579    0.019202    0.001083    0.007167     ...       \n",
      "std      0.018390    0.052030    0.017511    0.002743    0.008933     ...       \n",
      "min      0.000000    0.000000    0.000000    0.000000    0.000000     ...       \n",
      "25%      0.001953    0.000000    0.005859    0.000000    0.001953     ...       \n",
      "50%      0.007812    0.015625    0.015625    0.000000    0.005859     ...       \n",
      "75%      0.017578    0.056153    0.029297    0.000000    0.007812     ...       \n",
      "max      0.111330    0.310550    0.091797    0.031250    0.076172     ...       \n",
      "\n",
      "        texture55   texture56   texture57   texture58   texture59   texture60  \\\n",
      "count  990.000000  990.000000  990.000000  990.000000  990.000000  990.000000   \n",
      "mean     0.036501    0.005024    0.015944    0.011586    0.016108    0.014017   \n",
      "std      0.063403    0.019321    0.023214    0.025040    0.015335    0.060151   \n",
      "min      0.000000    0.000000    0.000000    0.000000    0.000000    0.000000   \n",
      "25%      0.000000    0.000000    0.000977    0.000000    0.004883    0.000000   \n",
      "50%      0.004883    0.000000    0.005859    0.000977    0.012695    0.000000   \n",
      "75%      0.043701    0.000000    0.022217    0.009766    0.021484    0.000000   \n",
      "max      0.429690    0.202150    0.172850    0.200200    0.106450    0.578130   \n",
      "\n",
      "        texture61   texture62   texture63   texture64  \n",
      "count  990.000000  990.000000  990.000000  990.000000  \n",
      "mean     0.002688    0.020291    0.008989    0.019420  \n",
      "std      0.011415    0.039040    0.013791    0.022768  \n",
      "min      0.000000    0.000000    0.000000    0.000000  \n",
      "25%      0.000000    0.000000    0.000000    0.000977  \n",
      "50%      0.000000    0.003906    0.002930    0.011719  \n",
      "75%      0.000000    0.023438    0.012695    0.029297  \n",
      "max      0.151370    0.375980    0.086914    0.141600  \n",
      "\n",
      "[8 rows x 193 columns] \n",
      "\n",
      "<class 'pandas.core.frame.DataFrame'>\n",
      "RangeIndex: 990 entries, 0 to 989\n",
      "Columns: 194 entries, id to texture64\n",
      "dtypes: float64(192), int64(1), object(1)\n",
      "memory usage: 1.5+ MB\n",
      "None \n",
      "\n",
      "Salix_Intergra                  10\n",
      "Cornus_Chinensis                10\n",
      "Salix_Fragilis                  10\n",
      "Acer_Mono                       10\n",
      "Quercus_Semecarpifolia          10\n",
      "Liriodendron_Tulipifera         10\n",
      "Lithocarpus_Edulis              10\n",
      "Ilex_Aquifolium                 10\n",
      "Viburnum_Tinus                  10\n",
      "Quercus_Agrifolia               10\n",
      "Olea_Europaea                   10\n",
      "Arundinaria_Simonii             10\n",
      "Populus_Adenopoda               10\n",
      "Eucalyptus_Neglecta             10\n",
      "Acer_Platanoids                 10\n",
      "Alnus_Sieboldiana               10\n",
      "Alnus_Cordata                   10\n",
      "Quercus_Crassifolia             10\n",
      "Quercus_Kewensis                10\n",
      "Ilex_Cornuta                    10\n",
      "Morus_Nigra                     10\n",
      "Acer_Saccharinum                10\n",
      "Quercus_Ilex                    10\n",
      "Quercus_Variabilis              10\n",
      "Lithocarpus_Cleistocarpus       10\n",
      "Quercus_Pontica                 10\n",
      "Acer_Rubrum                     10\n",
      "Tilia_Tomentosa                 10\n",
      "Quercus_Greggii                 10\n",
      "Quercus_Infectoria_sub          10\n",
      "                                ..\n",
      "Viburnum_x_Rhytidophylloides    10\n",
      "Quercus_Alnifolia               10\n",
      "Phildelphus                     10\n",
      "Quercus_Pubescens               10\n",
      "Quercus_Imbricaria              10\n",
      "Ginkgo_Biloba                   10\n",
      "Celtis_Koraiensis               10\n",
      "Quercus_Rhysophylla             10\n",
      "Magnolia_Salicifolia            10\n",
      "Tilia_Platyphyllos              10\n",
      "Quercus_Palustris               10\n",
      "Populus_Grandidentata           10\n",
      "Quercus_Ellipsoidalis           10\n",
      "Quercus_Rubra                   10\n",
      "Magnolia_Heptapeta              10\n",
      "Alnus_Viridis                   10\n",
      "Ulmus_Bergmanniana              10\n",
      "Quercus_Canariensis             10\n",
      "Prunus_Avium                    10\n",
      "Alnus_Rubra                     10\n",
      "Pterocarya_Stenoptera           10\n",
      "Quercus_Cerris                  10\n",
      "Acer_Circinatum                 10\n",
      "Eucalyptus_Urnigera             10\n",
      "Sorbus_Aria                     10\n",
      "Acer_Capillipes                 10\n",
      "Acer_Palmatum                   10\n",
      "Rhododendron_x_Russellianum     10\n",
      "Quercus_Trojana                 10\n",
      "Quercus_Nigra                   10\n",
      "Name: species, Length: 99, dtype: int64\n"
     ]
    }
   ],
   "source": [
    "print(train_set.head(), \"\\n\")\n",
    "print(train_set.describe(), \"\\n\")\n",
    "print(train_set.info(), \"\\n\")\n",
    "print(train_set[\"species\"].value_counts())"
   ]
  },
  {
   "cell_type": "markdown",
   "metadata": {},
   "source": [
    "Bon points :\n",
    "<li>On a que des données numérique ce qui simplifie la mise en place du modèle. </li>\n",
    "<li>On n'a pas de points manquants et ils sont tous en float64 (sauf la classe qui est objet et l'incrémentation en int)</li>\n",
    "<li>Le dataset est très léger ce qui va permettre de ne pas avoir de soucis avec la mémoire. </li>\n",
    "\n",
    "1 bémol à prendre en considération\n",
    "<li>les echelles ne sont pas respectées (certains max sont à 0.08 et d'autres a 0.57). </li>\n",
    "\n",
    "On va donc normaliser le dataset. Dans ce cas on a 2 choix :\n",
    "<li>le Min-Max scalar</li>\n",
    "<li>le Standard Scaler</li>\n",
    "\n",
    "Dans ce cas la, le plus censé est le Min-Max Scalar car toutes nos features sont positives initialement.\n",
    "\n",
    "Premièrement, separons les labels des variables. On peut ensuite separer notre dataset de test et d'entrainement"
   ]
  },
  {
   "cell_type": "code",
   "execution_count": 4,
   "metadata": {
    "collapsed": true
   },
   "outputs": [],
   "source": [
    "X = train_set.drop([\"id\", \"species\"], axis=1)\n",
    "y = train_set[\"species\"]"
   ]
  },
  {
   "cell_type": "markdown",
   "metadata": {},
   "source": [
    "Voila maintenant on peut modifier nos données et les separer en test et training"
   ]
  },
  {
   "cell_type": "code",
   "execution_count": 5,
   "metadata": {},
   "outputs": [
    {
     "name": "stdout",
     "output_type": "stream",
     "text": [
      "(990, 192)\n"
     ]
    }
   ],
   "source": [
    "scaler = MinMaxScaler()\n",
    "X = scaler.fit_transform(X)\n",
    "print(X.shape)\n",
    "\n",
    "X_train, X_test, y_train, y_test = train_test_split(X, y, test_size=0.2, random_state=seed)"
   ]
  },
  {
   "cell_type": "markdown",
   "metadata": {},
   "source": [
    "# Baseline de performances\n",
    "\n",
    "On peut maintenant mettre en place le KNN en testant la precision sur le test set pour differentes valeurs de n_neighbors. Comme le modèle est léger, on peut tester \"par bruteforce\" 19 valeurs"
   ]
  },
  {
   "cell_type": "code",
   "execution_count": 6,
   "metadata": {},
   "outputs": [
    {
     "name": "stdout",
     "output_type": "stream",
     "text": [
      "Erreur: 0.020202\n",
      "Erreur: 0.040404\n",
      "Erreur: 0.020202\n",
      "Erreur: 0.030303\n",
      "Erreur: 0.020202\n",
      "Erreur: 0.040404\n",
      "Erreur: 0.045455\n",
      "Erreur: 0.055556\n",
      "Erreur: 0.075758\n",
      "Erreur: 0.090909\n",
      "Erreur: 0.126263\n",
      "Erreur: 0.111111\n",
      "Erreur: 0.131313\n",
      "Erreur: 0.156566\n",
      "Erreur: 0.181818\n",
      "Erreur: 0.217172\n",
      "Erreur: 0.232323\n",
      "Erreur: 0.237374\n",
      "Erreur: 0.242424\n"
     ]
    },
    {
     "data": {
      "image/png": "[encoded data removed]",
      "text/plain": [
       "<matplotlib.figure.Figure at 0x2996ba98320>"
      ]
     },
     "metadata": {},
     "output_type": "display_data"
    }
   ],
   "source": [
    "range_x = list(range(1, 20))\n",
    "range_y = []\n",
    "for i in range_x:\n",
    "    knn = KNeighborsClassifier(n_neighbors=i)\n",
    "    knn.fit(X_train, y_train)\n",
    "    error = 1 - knn.score(X_test, y_test)\n",
    "    print('Erreur: %f' % error)\n",
    "    range_y.append(error)\n",
    "plt.plot(range_x, range_y)\n",
    "plt.show()"
   ]
  },
  {
   "cell_type": "markdown",
   "metadata": {},
   "source": [
    "Donc il faut plutot rester en dessus de 5 voisins. Les meilleurs resultats étant 3 ou 5, on peut prendre ces valeurs comme baseline. On a donc une baseline de <b>2% d'erreurs</b>."
   ]
  },
  {
   "cell_type": "markdown",
   "metadata": {},
   "source": [
    "# Mise en place d'un SVM multiclasse"
   ]
  },
  {
   "cell_type": "markdown",
   "metadata": {},
   "source": [
    "Comme on a 5 classes (voir colonnes species) on peut tester le OVR et le OVO. Le OVR aura 5 classifieurs (1 classifieur par classe) alors que le OVO aura (5*4)/2 = 10 classifieurs\n",
    "\n",
    "On va utiliser GridSearchCV pour tester différents paramètres pour les modèles. Or GridSearchCV utilise majoritairement la validation par folds. Du coup on ne va plus utiliser le dataset de train mais plutot avoir 5 folds. Le modèle devant prédire la bonne classe, on va evaluer le modèle sur son score (le nb de classe bien evalué/nb de classe evalués)."
   ]
  },
  {
   "cell_type": "code",
   "execution_count": 7,
   "metadata": {},
   "outputs": [
    {
     "data": {
      "text/plain": [
       "GridSearchCV(cv=5, error_score='raise',\n",
       "       estimator=LinearSVC(C=1.0, class_weight=None, dual=False, fit_intercept=True,\n",
       "     intercept_scaling=1, loss='squared_hinge', max_iter=1000,\n",
       "     multi_class='ovr', penalty='l2', random_state=42, tol=0.0001,\n",
       "     verbose=0),\n",
       "       fit_params={}, iid=True, n_jobs=1,\n",
       "       param_grid=[{'penalty': ['l1', 'l2'], 'multi_class': ['ovr', 'crammer_singer'], 'C': [0.01, 0.1, 1, 10]}],\n",
       "       pre_dispatch='2*n_jobs', refit=True, return_train_score=True,\n",
       "       scoring='accuracy', verbose=0)"
      ]
     },
     "execution_count": 7,
     "metadata": {},
     "output_type": "execute_result"
    }
   ],
   "source": [
    "grid = [{\n",
    "            \"penalty\" : [\"l1\", \"l2\"], \n",
    "            \"multi_class\" : [\"ovr\", \"crammer_singer\"], \n",
    "            \"C\" : [0.01, 0.1, 1, 10],\n",
    "            # \"tol\" : [0.1, 0.01, 0.001, 0.0001]    # Commenté car il ne change pas les resultats et rend le training 4x plus lent\n",
    "        }]\n",
    "clf = LinearSVC(dual=False, random_state=seed)      # dual=False car on a plus de samples que de features (cf la doc) \n",
    "grid_search = GridSearchCV(clf, grid, cv=5, scoring=\"accuracy\")\n",
    "grid_search.fit(X, y)  # X et y est le full dataset transformé"
   ]
  },
  {
   "cell_type": "markdown",
   "metadata": {},
   "source": [
    "On a donc maintenant notre grid search. On peut donc afficher les score par rapport au paramètres. On peut aussi afficher cela avec un graph."
   ]
  },
  {
   "cell_type": "code",
   "execution_count": 8,
   "metadata": {},
   "outputs": [
    {
     "name": "stdout",
     "output_type": "stream",
     "text": [
      "0.010101010101 {'C': 0.01, 'multi_class': 'ovr', 'penalty': 'l1'}\n",
      "0.961616161616 {'C': 0.01, 'multi_class': 'ovr', 'penalty': 'l2'}\n",
      "0.980808080808 {'C': 0.01, 'multi_class': 'crammer_singer', 'penalty': 'l1'}\n",
      "0.980808080808 {'C': 0.01, 'multi_class': 'crammer_singer', 'penalty': 'l2'}\n",
      "0.313131313131 {'C': 0.1, 'multi_class': 'ovr', 'penalty': 'l1'}\n",
      "0.988888888889 {'C': 0.1, 'multi_class': 'ovr', 'penalty': 'l2'}\n",
      "0.984848484848 {'C': 0.1, 'multi_class': 'crammer_singer', 'penalty': 'l1'}\n",
      "0.984848484848 {'C': 0.1, 'multi_class': 'crammer_singer', 'penalty': 'l2'}\n",
      "0.966666666667 {'C': 1, 'multi_class': 'ovr', 'penalty': 'l1'}\n",
      "0.991919191919 {'C': 1, 'multi_class': 'ovr', 'penalty': 'l2'}\n",
      "0.992929292929 {'C': 1, 'multi_class': 'crammer_singer', 'penalty': 'l1'}\n",
      "0.992929292929 {'C': 1, 'multi_class': 'crammer_singer', 'penalty': 'l2'}\n",
      "0.969696969697 {'C': 10, 'multi_class': 'ovr', 'penalty': 'l1'}\n",
      "0.990909090909 {'C': 10, 'multi_class': 'ovr', 'penalty': 'l2'}\n",
      "0.991919191919 {'C': 10, 'multi_class': 'crammer_singer', 'penalty': 'l1'}\n",
      "0.991919191919 {'C': 10, 'multi_class': 'crammer_singer', 'penalty': 'l2'}\n"
     ]
    },
    {
     "data": {
      "image/png": "[encoded data removed]",
      "text/plain": [
       "<matplotlib.figure.Figure at 0x2996bacf208>"
      ]
     },
     "metadata": {},
     "output_type": "display_data"
    }
   ],
   "source": [
    "evaluation = grid_search.cv_results_\n",
    "for score, param in zip(evaluation[\"mean_test_score\"], evaluation[\"params\"]):\n",
    "    print(score, param)\n",
    "    if param[\"multi_class\"] == \"ovr\":\n",
    "        c=\"r\"\n",
    "    else:\n",
    "        c=\"b\"\n",
    "    if param[\"penalty\"] == \"l1\":\n",
    "        m=\"^\"\n",
    "    else:\n",
    "        m=\"x\"\n",
    "    plt.scatter(math.log(param[\"C\"]), score, c=c, marker=m)  # on passe au log pour \"ecraser\" le x-axis\n",
    "\n",
    "plt.ylabel(\"precision\")\n",
    "plt.xlabel(\"log(C)\")\n",
    "plt.show()"
   ]
  },
  {
   "cell_type": "markdown",
   "metadata": {},
   "source": [
    "On peut remarque que dans ce cas, le One vs One fonctionne mieux que le One vs All pour presque tous les paramètres.\n",
    "\n",
    "On peut donc maintenant récupérer le meilleur modèle avec ses paramètres"
   ]
  },
  {
   "cell_type": "code",
   "execution_count": 9,
   "metadata": {
    "collapsed": true
   },
   "outputs": [],
   "source": [
    "best_model = grid_search.best_estimator_"
   ]
  },
  {
   "cell_type": "markdown",
   "metadata": {},
   "source": [
    "On a donc des moyenne sur un K-fold de taille 5. Ce que l'on peut faire pour vraiment comparer le modèle est de le tester sur le meme test_set que celui du KNN. On aura donc une vraie comparaison "
   ]
  },
  {
   "cell_type": "code",
   "execution_count": 10,
   "metadata": {},
   "outputs": [
    {
     "data": {
      "text/plain": [
       "1.0"
      ]
     },
     "execution_count": 10,
     "metadata": {},
     "output_type": "execute_result"
    }
   ],
   "source": [
    "best_model.score(X_test, y_test)"
   ]
  },
  {
   "cell_type": "markdown",
   "metadata": {},
   "source": [
    "Wow! <b>par chance</b> on a 100% de reussite car on sait que sur le dataset complet on a 99.29%. On a donc un modèle beacoup plus précis que le KNN.\n",
    "\n",
    "## Bonus visualisation\n",
    "\n",
    "Maintenant pour visualiser le resultat on va devoir convertir les classes en couleur pour matplotlib. Cela va se faire avec la fonction label Encoder de Scikit Learn et map de matplotlib"
   ]
  },
  {
   "cell_type": "code",
   "execution_count": 11,
   "metadata": {},
   "outputs": [
    {
     "name": "stdout",
     "output_type": "stream",
     "text": [
      "Acer_Capillipes \t\t 0\n",
      "Acer_Circinatum \t\t 1\n",
      "Acer_Mono \t\t 2\n",
      "Acer_Opalus \t\t 3\n",
      "Acer_Palmatum \t\t 4\n",
      "Acer_Pictum \t\t 5\n",
      "Acer_Platanoids \t\t 6\n",
      "Acer_Rubrum \t\t 7\n",
      "Acer_Rufinerve \t\t 8\n",
      "Acer_Saccharinum \t\t 9\n",
      "Alnus_Cordata \t\t 10\n",
      "Alnus_Maximowiczii \t\t 11\n",
      "Alnus_Rubra \t\t 12\n",
      "Alnus_Sieboldiana \t\t 13\n",
      "Alnus_Viridis \t\t 14\n",
      "Arundinaria_Simonii \t\t 15\n",
      "Betula_Austrosinensis \t\t 16\n",
      "Betula_Pendula \t\t 17\n",
      "Callicarpa_Bodinieri \t\t 18\n",
      "Castanea_Sativa \t\t 19\n",
      "Celtis_Koraiensis \t\t 20\n",
      "Cercis_Siliquastrum \t\t 21\n",
      "Cornus_Chinensis \t\t 22\n",
      "Cornus_Controversa \t\t 23\n",
      "Cornus_Macrophylla \t\t 24\n",
      "Cotinus_Coggygria \t\t 25\n",
      "Crataegus_Monogyna \t\t 26\n",
      "Cytisus_Battandieri \t\t 27\n",
      "Eucalyptus_Glaucescens \t\t 28\n",
      "Eucalyptus_Neglecta \t\t 29\n",
      "Eucalyptus_Urnigera \t\t 30\n",
      "Fagus_Sylvatica \t\t 31\n",
      "Ginkgo_Biloba \t\t 32\n",
      "Ilex_Aquifolium \t\t 33\n",
      "Ilex_Cornuta \t\t 34\n",
      "Liquidambar_Styraciflua \t\t 35\n",
      "Liriodendron_Tulipifera \t\t 36\n",
      "Lithocarpus_Cleistocarpus \t\t 37\n",
      "Lithocarpus_Edulis \t\t 38\n",
      "Magnolia_Heptapeta \t\t 39\n",
      "Magnolia_Salicifolia \t\t 40\n",
      "Morus_Nigra \t\t 41\n",
      "Olea_Europaea \t\t 42\n",
      "Phildelphus \t\t 43\n",
      "Populus_Adenopoda \t\t 44\n",
      "Populus_Grandidentata \t\t 45\n",
      "Populus_Nigra \t\t 46\n",
      "Prunus_Avium \t\t 47\n",
      "Prunus_X_Shmittii \t\t 48\n",
      "Pterocarya_Stenoptera \t\t 49\n",
      "Quercus_Afares \t\t 50\n",
      "Quercus_Agrifolia \t\t 51\n",
      "Quercus_Alnifolia \t\t 52\n",
      "Quercus_Brantii \t\t 53\n",
      "Quercus_Canariensis \t\t 54\n",
      "Quercus_Castaneifolia \t\t 55\n",
      "Quercus_Cerris \t\t 56\n",
      "Quercus_Chrysolepis \t\t 57\n",
      "Quercus_Coccifera \t\t 58\n",
      "Quercus_Coccinea \t\t 59\n",
      "Quercus_Crassifolia \t\t 60\n",
      "Quercus_Crassipes \t\t 61\n",
      "Quercus_Dolicholepis \t\t 62\n",
      "Quercus_Ellipsoidalis \t\t 63\n",
      "Quercus_Greggii \t\t 64\n",
      "Quercus_Hartwissiana \t\t 65\n",
      "Quercus_Ilex \t\t 66\n",
      "Quercus_Imbricaria \t\t 67\n",
      "Quercus_Infectoria_sub \t\t 68\n",
      "Quercus_Kewensis \t\t 69\n",
      "Quercus_Nigra \t\t 70\n",
      "Quercus_Palustris \t\t 71\n",
      "Quercus_Phellos \t\t 72\n",
      "Quercus_Phillyraeoides \t\t 73\n",
      "Quercus_Pontica \t\t 74\n",
      "Quercus_Pubescens \t\t 75\n",
      "Quercus_Pyrenaica \t\t 76\n",
      "Quercus_Rhysophylla \t\t 77\n",
      "Quercus_Rubra \t\t 78\n",
      "Quercus_Semecarpifolia \t\t 79\n",
      "Quercus_Shumardii \t\t 80\n",
      "Quercus_Suber \t\t 81\n",
      "Quercus_Texana \t\t 82\n",
      "Quercus_Trojana \t\t 83\n",
      "Quercus_Variabilis \t\t 84\n",
      "Quercus_Vulcanica \t\t 85\n",
      "Quercus_x_Hispanica \t\t 86\n",
      "Quercus_x_Turneri \t\t 87\n",
      "Rhododendron_x_Russellianum \t\t 88\n",
      "Salix_Fragilis \t\t 89\n",
      "Salix_Intergra \t\t 90\n",
      "Sorbus_Aria \t\t 91\n",
      "Tilia_Oliveri \t\t 92\n",
      "Tilia_Platyphyllos \t\t 93\n",
      "Tilia_Tomentosa \t\t 94\n",
      "Ulmus_Bergmanniana \t\t 95\n",
      "Viburnum_Tinus \t\t 96\n",
      "Viburnum_x_Rhytidophylloides \t\t 97\n",
      "Zelkova_Serrata \t\t 98\n"
     ]
    }
   ],
   "source": [
    "le = LabelEncoder()\n",
    "encoded_label = le.fit_transform(y)\n",
    "int_val = le.transform(le.classes_)\n",
    "for classe, numero in list(zip(le.classes_, int_val)):\n",
    "    print(classe, \"\\t\\t\", numero)"
   ]
  },
  {
   "cell_type": "markdown",
   "metadata": {},
   "source": [
    "Voila on a donc 1 numéro par classe. Le Label encoder permet aussi de retourner du numéro au nom de la classe avec inverse_transform. On va donc maintenant projeter le dataset dans ses 2 principales dimensions avec le PCA. Les 2 premieres dimensions seront utilisées pour placer les points du dataset. Ensuite on va générer une grille pour parcourir tous les x, y et determiner leurs labels. Ensuite on pourra colorer les zone de la couleur evalué par notre modèle"
   ]
  },
  {
   "cell_type": "code",
   "execution_count": 12,
   "metadata": {},
   "outputs": [
    {
     "data": {
      "image/png": "[encoded data removed]",
      "text/plain": [
       "<matplotlib.figure.Figure at 0x2996bec6da0>"
      ]
     },
     "metadata": {},
     "output_type": "display_data"
    }
   ],
   "source": [
    "# projection du dataset\n",
    "pca = PCA(n_components=2)\n",
    "X_proj = pca.fit_transform(X)\n",
    "\n",
    "#on garde que 100 pts par lisibilité\n",
    "X_proj = X_proj[:100, :]\n",
    "y_2 = y[:100]\n",
    "\n",
    "# Creation d'une grille projeté sur les 2 principaux axes\n",
    "multiples = np.arange(-5, 5, 0.1)\n",
    "first_axis = multiples[:, np.newaxis] * pca.components_[0, :]\n",
    "second_axis = multiples[:, np.newaxis] * pca.components_[1, :]\n",
    "grid = first_axis[np.newaxis, :, :] + second_axis[:, np.newaxis, :]\n",
    "\n",
    "# on l'applati pour determiner les classes et la transformer en entier pour la couleur\n",
    "flat_grid = grid.reshape(-1, 64*3)  # car on avait 192 features a la base\n",
    "Z = best_model.predict(flat_grid)\n",
    "Z = le.transform(Z)\n",
    "Z = Z.reshape(grid.shape[:-1]) # on repasse le vecteur en matrice\n",
    "\n",
    "# on affiche les zones\n",
    "plt.contourf(multiples, multiples, Z, cmap=plt.cm.Paired)\n",
    "\n",
    "# on transforme les classe des points en entier pour le scatter avec les 100 pts choisis\n",
    "y_color = le.transform(y_2)    \n",
    "plt.scatter(X_proj[:, 0], X_proj[:, 1], c=y_color, cmap=plt.cm.Paired, edgecolors=(0, 0, 0))\n",
    "\n",
    "plt.show()"
   ]
  },
  {
   "cell_type": "markdown",
   "metadata": {
    "collapsed": true
   },
   "source": [
    "Je pense qu'il y a une erreur sur cette représentation (surement lors de la projection sur les axes principaux du PCA). L'objectif de base était de représenter les zones de classification du modèle et voir que les points ont la meme couleur que la couleur de la zone. Cependant ca ne marche pas... Désolé :("
   ]
  }
 ],
 "metadata": {
  "kernelspec": {
   "display_name": "Python 3",
   "language": "python",
   "name": "python3"
  },
  "language_info": {
   "codemirror_mode": {
    "name": "ipython",
    "version": 3
   },
   "file_extension": ".py",
   "mimetype": "text/x-python",
   "name": "python",
   "nbconvert_exporter": "python",
   "pygments_lexer": "ipython3",
   "version": "3.6.1"
  }
 },
 "nbformat": 4,
 "nbformat_minor": 2
}
