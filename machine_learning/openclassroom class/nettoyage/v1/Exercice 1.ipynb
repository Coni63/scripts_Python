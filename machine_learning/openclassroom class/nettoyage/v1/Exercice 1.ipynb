{
 "cells": [
  {
   "cell_type": "code",
   "execution_count": 48,
   "metadata": {
    "collapsed": true
   },
   "outputs": [],
   "source": [
    "import pandas as pd\n",
    "import seaborn as sns\n",
    "import numpy as np \n",
    "\n",
    "import matplotlib.pyplot as plt\n",
    "\n",
    "import statsmodels.api as sm\n",
    "\n",
    "%matplotlib inline"
   ]
  },
  {
   "cell_type": "code",
   "execution_count": 2,
   "metadata": {
    "collapsed": true
   },
   "outputs": [],
   "source": [
    "df = pd.read_csv(\"iris_dataset.csv\")"
   ]
  },
  {
   "cell_type": "code",
   "execution_count": 3,
   "metadata": {},
   "outputs": [
    {
     "data": {
      "text/html": [
       "<div>\n",
       "<style>\n",
       "    .dataframe thead tr:only-child th {\n",
       "        text-align: right;\n",
       "    }\n",
       "\n",
       "    .dataframe thead th {\n",
       "        text-align: left;\n",
       "    }\n",
       "\n",
       "    .dataframe tbody tr th {\n",
       "        vertical-align: top;\n",
       "    }\n",
       "</style>\n",
       "<table border=\"1\" class=\"dataframe\">\n",
       "  <thead>\n",
       "    <tr style=\"text-align: right;\">\n",
       "      <th></th>\n",
       "      <th>id</th>\n",
       "      <th>sepal_length</th>\n",
       "      <th>sepal_width</th>\n",
       "      <th>petal_length</th>\n",
       "      <th>petal_width</th>\n",
       "      <th>species</th>\n",
       "    </tr>\n",
       "  </thead>\n",
       "  <tbody>\n",
       "    <tr>\n",
       "      <th>0</th>\n",
       "      <td>1</td>\n",
       "      <td>5.138728</td>\n",
       "      <td>3.470118</td>\n",
       "      <td>1.441015</td>\n",
       "      <td>1.094873</td>\n",
       "      <td>setosa</td>\n",
       "    </tr>\n",
       "    <tr>\n",
       "      <th>1</th>\n",
       "      <td>2</td>\n",
       "      <td>4.849873</td>\n",
       "      <td>3.034931</td>\n",
       "      <td>1.414931</td>\n",
       "      <td>0.968687</td>\n",
       "      <td>setosa</td>\n",
       "    </tr>\n",
       "    <tr>\n",
       "      <th>2</th>\n",
       "      <td>3</td>\n",
       "      <td>4.715843</td>\n",
       "      <td>3.239083</td>\n",
       "      <td>1.295309</td>\n",
       "      <td>1.006643</td>\n",
       "      <td>setosa</td>\n",
       "    </tr>\n",
       "    <tr>\n",
       "      <th>3</th>\n",
       "      <td>4</td>\n",
       "      <td>4.603747</td>\n",
       "      <td>NaN</td>\n",
       "      <td>1.480616</td>\n",
       "      <td>1.002344</td>\n",
       "      <td>setosa</td>\n",
       "    </tr>\n",
       "    <tr>\n",
       "      <th>4</th>\n",
       "      <td>5</td>\n",
       "      <td>4.988744</td>\n",
       "      <td>3.645049</td>\n",
       "      <td>1.417527</td>\n",
       "      <td>1.122947</td>\n",
       "      <td>setosa</td>\n",
       "    </tr>\n",
       "  </tbody>\n",
       "</table>\n",
       "</div>"
      ],
      "text/plain": [
       "   id  sepal_length  sepal_width  petal_length  petal_width species\n",
       "0   1      5.138728     3.470118      1.441015     1.094873  setosa\n",
       "1   2      4.849873     3.034931      1.414931     0.968687  setosa\n",
       "2   3      4.715843     3.239083      1.295309     1.006643  setosa\n",
       "3   4      4.603747          NaN      1.480616     1.002344  setosa\n",
       "4   5      4.988744     3.645049      1.417527     1.122947  setosa"
      ]
     },
     "execution_count": 3,
     "metadata": {},
     "output_type": "execute_result"
    }
   ],
   "source": [
    "df.head()"
   ]
  },
  {
   "cell_type": "markdown",
   "metadata": {},
   "source": [
    "# Q1"
   ]
  },
  {
   "cell_type": "code",
   "execution_count": 12,
   "metadata": {},
   "outputs": [
    {
     "data": {
      "text/html": [
       "<div>\n",
       "<style>\n",
       "    .dataframe thead tr:only-child th {\n",
       "        text-align: right;\n",
       "    }\n",
       "\n",
       "    .dataframe thead th {\n",
       "        text-align: left;\n",
       "    }\n",
       "\n",
       "    .dataframe tbody tr th {\n",
       "        vertical-align: top;\n",
       "    }\n",
       "</style>\n",
       "<table border=\"1\" class=\"dataframe\">\n",
       "  <thead>\n",
       "    <tr style=\"text-align: right;\">\n",
       "      <th></th>\n",
       "      <th>id</th>\n",
       "      <th>sepal_length</th>\n",
       "      <th>sepal_width</th>\n",
       "      <th>petal_length</th>\n",
       "      <th>petal_width</th>\n",
       "    </tr>\n",
       "  </thead>\n",
       "  <tbody>\n",
       "    <tr>\n",
       "      <th>id</th>\n",
       "      <td>1.000000</td>\n",
       "      <td>0.714119</td>\n",
       "      <td>-0.412590</td>\n",
       "      <td>0.882761</td>\n",
       "      <td>0.880322</td>\n",
       "    </tr>\n",
       "    <tr>\n",
       "      <th>sepal_length</th>\n",
       "      <td>0.714119</td>\n",
       "      <td>1.000000</td>\n",
       "      <td>-0.118515</td>\n",
       "      <td>0.870048</td>\n",
       "      <td>0.836449</td>\n",
       "    </tr>\n",
       "    <tr>\n",
       "      <th>sepal_width</th>\n",
       "      <td>-0.412590</td>\n",
       "      <td>-0.118515</td>\n",
       "      <td>1.000000</td>\n",
       "      <td>-0.438271</td>\n",
       "      <td>-0.247971</td>\n",
       "    </tr>\n",
       "    <tr>\n",
       "      <th>petal_length</th>\n",
       "      <td>0.882761</td>\n",
       "      <td>0.870048</td>\n",
       "      <td>-0.438271</td>\n",
       "      <td>1.000000</td>\n",
       "      <td>0.942274</td>\n",
       "    </tr>\n",
       "    <tr>\n",
       "      <th>petal_width</th>\n",
       "      <td>0.880322</td>\n",
       "      <td>0.836449</td>\n",
       "      <td>-0.247971</td>\n",
       "      <td>0.942274</td>\n",
       "      <td>1.000000</td>\n",
       "    </tr>\n",
       "  </tbody>\n",
       "</table>\n",
       "</div>"
      ],
      "text/plain": [
       "                    id  sepal_length  sepal_width  petal_length  petal_width\n",
       "id            1.000000      0.714119    -0.412590      0.882761     0.880322\n",
       "sepal_length  0.714119      1.000000    -0.118515      0.870048     0.836449\n",
       "sepal_width  -0.412590     -0.118515     1.000000     -0.438271    -0.247971\n",
       "petal_length  0.882761      0.870048    -0.438271      1.000000     0.942274\n",
       "petal_width   0.880322      0.836449    -0.247971      0.942274     1.000000"
      ]
     },
     "execution_count": 12,
     "metadata": {},
     "output_type": "execute_result"
    }
   ],
   "source": [
    "df.corr()"
   ]
  },
  {
   "cell_type": "code",
   "execution_count": 9,
   "metadata": {},
   "outputs": [
    {
     "data": {
      "image/png": "[encoded data removed]",
      "text/plain": [
       "<matplotlib.figure.Figure at 0x287b5a71a20>"
      ]
     },
     "metadata": {},
     "output_type": "display_data"
    }
   ],
   "source": [
    "sns.regplot(df[\"petal_width\"], df[\"petal_length\"])\n",
    "plt.show()"
   ]
  },
  {
   "cell_type": "code",
   "execution_count": 10,
   "metadata": {},
   "outputs": [
    {
     "data": {
      "image/png": "[encoded data removed]",
      "text/plain": [
       "<matplotlib.figure.Figure at 0x287b5b264a8>"
      ]
     },
     "metadata": {},
     "output_type": "display_data"
    }
   ],
   "source": [
    "sns.regplot(df[\"sepal_width\"], df[\"petal_width\"])\n",
    "plt.show()"
   ]
  },
  {
   "cell_type": "markdown",
   "metadata": {},
   "source": [
    "# Q3"
   ]
  },
  {
   "cell_type": "code",
   "execution_count": 56,
   "metadata": {},
   "outputs": [
    {
     "name": "stdout",
     "output_type": "stream",
     "text": [
      "petal_length    0.385994\n",
      "intercept       0.509268\n",
      "dtype: float64\n"
     ]
    }
   ],
   "source": [
    "sub_df = df.dropna(axis=0).copy() #df[df[\"species\"]==\"dna\"]\n",
    "\n",
    "Y = sub_df[\"petal_width\"]\n",
    "X = sub_df[[\"petal_length\"]]\n",
    "X = X.copy()\n",
    "X['intercept'] = 1.\n",
    "\n",
    "model = sm.OLS(Y, X)\n",
    "result = model.fit()\n",
    "a,b = result.params['petal_length'], result.params['intercept']\n",
    "print(result.params)"
   ]
  },
  {
   "cell_type": "code",
   "execution_count": null,
   "metadata": {
    "collapsed": true
   },
   "outputs": [],
   "source": []
  },
  {
   "cell_type": "code",
   "execution_count": 38,
   "metadata": {},
   "outputs": [
    {
     "name": "stdout",
     "output_type": "stream",
     "text": [
      "sepal_width    0.317321\n",
      "intercept      0.015082\n",
      "dtype: float64\n"
     ]
    }
   ],
   "source": [
    "sub_df = df[df[\"species\"]==\"setosa\"].dropna(axis=0).copy() #df[df[\"species\"]==\"dna\"]\n",
    "\n",
    "Y = sub_df[\"petal_width\"]\n",
    "X = sub_df[[\"sepal_width\"]]\n",
    "X = X.copy()\n",
    "X['intercept'] = 1.\n",
    "\n",
    "model = sm.OLS(Y, X)\n",
    "result = model.fit()\n",
    "a1,b1 = result.params['sepal_width'], result.params['intercept']\n",
    "print(result.params)"
   ]
  },
  {
   "cell_type": "code",
   "execution_count": 39,
   "metadata": {},
   "outputs": [
    {
     "name": "stdout",
     "output_type": "stream",
     "text": [
      "sepal_width    0.671191\n",
      "intercept      0.764758\n",
      "dtype: float64\n"
     ]
    }
   ],
   "source": [
    "sub_df = df[df[\"species\"]==\"virginica\"].dropna(axis=0).copy() #df[df[\"species\"]==\"dna\"]\n",
    "\n",
    "Y = sub_df[\"petal_width\"]\n",
    "X = sub_df[[\"sepal_width\"]]\n",
    "X = X.copy()\n",
    "X['intercept'] = 1.\n",
    "\n",
    "model = sm.OLS(Y, X)\n",
    "result = model.fit()\n",
    "a2,b2 = result.params['sepal_width'], result.params['intercept']\n",
    "print(result.params)"
   ]
  },
  {
   "cell_type": "code",
   "execution_count": 40,
   "metadata": {},
   "outputs": [
    {
     "name": "stdout",
     "output_type": "stream",
     "text": [
      "sepal_width    0.699191\n",
      "intercept      0.076837\n",
      "dtype: float64\n"
     ]
    }
   ],
   "source": [
    "sub_df = df[df[\"species\"]==\"versicolor\"].dropna(axis=0).copy() #df[df[\"species\"]==\"dna\"]\n",
    "\n",
    "Y = sub_df[\"petal_width\"]\n",
    "X = sub_df[[\"sepal_width\"]]\n",
    "X = X.copy()\n",
    "X['intercept'] = 1.\n",
    "\n",
    "model = sm.OLS(Y, X)\n",
    "result = model.fit()\n",
    "a3,b3 = result.params['sepal_width'], result.params['intercept']\n",
    "print(result.params)"
   ]
  },
  {
   "cell_type": "code",
   "execution_count": 45,
   "metadata": {},
   "outputs": [
    {
     "data": {
      "text/plain": [
       "[1.0948729954150245,\n",
       " 0.9686870070586728,\n",
       " 1.0066430360745642,\n",
       " 1.0023435676326218,\n",
       " 1.1229468645998857,\n",
       " 1.3707076193470564,\n",
       " 1.1587096208456753,\n",
       " 1.056730721850014,\n",
       " 0.9202991801977132,\n",
       " 0.8908311520769261,\n",
       " 1.103205651040462,\n",
       " 1.0997975949541066,\n",
       " 0.8512151625143876,\n",
       " 0.8148501169290558,\n",
       " 1.180657125485668,\n",
       " 1.4926706686280289,\n",
       " 1.3732747450325646,\n",
       " 1.1671607842398315,\n",
       " 1.2383417021378258,\n",
       " 1.2842586506085787,\n",
       " 1.0335943421784837,\n",
       " 1.31488180155177,\n",
       " 1.1091616053059787,\n",
       " 1.2903946552980512,\n",
       " 1.0445514812598415,\n",
       " 0.93945310240896,\n",
       " 1.2770092131971194,\n",
       " 1.0861277897754742,\n",
       " 1.024196816163762,\n",
       " 0.9673331514756508,\n",
       " 0.9602580708244686,\n",
       " 1.2599532762063888,\n",
       " 1.145051532095728,\n",
       " 1.2870014662460638,\n",
       " 0.9225945656079846,\n",
       " 1.0248604322271542,\n",
       " 1.0922211746856856,\n",
       " 1.0278552083780286,\n",
       " 0.947576087476428,\n",
       " 1.0310541646410123,\n",
       " 1.1631226594707833,\n",
       " 0.881947441490365,\n",
       " 0.9975843213310982,\n",
       " 1.4785151754206023,\n",
       " 1.3563511604938507,\n",
       " 1.041676575876687,\n",
       " 1.1579111173712628,\n",
       " 0.9242742810232946,\n",
       " 1.1050055712497378,\n",
       " 1.0494278283137843,\n",
       " 2.213811539368169,\n",
       " 2.2712415541026965,\n",
       " 2.240962389909788,\n",
       " nan,\n",
       " 2.210786589456719,\n",
       " 2.007340466910412,\n",
       " 2.405373217570891,\n",
       " 1.5466532553117958,\n",
       " 2.005661422986432,\n",
       " 2.087536113001004,\n",
       " 1.4848888292270264,\n",
       " 2.259954321281721,\n",
       " 1.5446406771374208,\n",
       " 2.0873882853139927,\n",
       " 2.0158647196073307,\n",
       " 2.1845327747460472,\n",
       " 2.294274290190626,\n",
       " 1.6752177538216624,\n",
       " 2.051452152584285,\n",
       " 1.7065387966481882,\n",
       " 2.59205679250912,\n",
       " 1.9875740307439944,\n",
       " 2.1119283111540543,\n",
       " 1.907847105021414,\n",
       " 2.038432108427894,\n",
       " 2.1989462450812614,\n",
       " 2.126902017124064,\n",
       " 2.4596075506750625,\n",
       " 2.2068283421798234,\n",
       " 1.6351402094959169,\n",
       " 1.696333107237558,\n",
       " 1.61647311000891,\n",
       " 1.8479955661584957,\n",
       " 2.2734450434161992,\n",
       " 2.253509781441529,\n",
       " 2.444814770341839,\n",
       " 2.2545046220296143,\n",
       " 1.879917808253201,\n",
       " 2.050169632256696,\n",
       " 1.9477569006887319,\n",
       " 1.812086995712313,\n",
       " 2.1473479115705585,\n",
       " 1.8761406431369576,\n",
       " 1.5543826259280726,\n",
       " 1.945739890334796,\n",
       " 1.9341740806144128,\n",
       " 2.049613437942778,\n",
       " 2.0386190309406347,\n",
       " 1.7539624767799342,\n",
       " 1.9622785983658215,\n",
       " 3.3218723995908728,\n",
       " 2.568745031166648,\n",
       " 2.8244932113129315,\n",
       " 2.5093095474656044,\n",
       " 2.9284429189167764,\n",
       " 2.8547912346949316,\n",
       " 2.3122149600339124,\n",
       " 2.518737630103772,\n",
       " 2.404509368692988,\n",
       " 3.3911715436036323,\n",
       " 2.7954969566636874,\n",
       " 2.5604139726541644,\n",
       " 2.8109197320696078,\n",
       " 2.6225936279994966,\n",
       " 3.0694961542917745,\n",
       " 3.0972003184843806,\n",
       " 2.563980304174257,\n",
       " 3.1504502113294333,\n",
       " 2.9451894900258746,\n",
       " 2.0851256773346427,\n",
       " 3.1002609434462003,\n",
       " 2.6719427057606624,\n",
       " 2.698359573856428,\n",
       " 2.498709508645082,\n",
       " 2.9089810780097984,\n",
       " 2.583688754568643,\n",
       " 2.4811042931014846,\n",
       " 2.5630166517456345,\n",
       " 2.8010512924713398,\n",
       " 2.334999851276717,\n",
       " 2.611811666200187,\n",
       " 2.974912990222696,\n",
       " 2.8916335702532363,\n",
       " 2.1839627307212464,\n",
       " 2.025108044906137,\n",
       " 3.0814505214839216,\n",
       " 3.2393302583102797,\n",
       " 2.5923508714270627,\n",
       " 2.568669771564707,\n",
       " 2.847399941838668,\n",
       " 3.142825995139291,\n",
       " 3.0429188720733125,\n",
       " 2.5995359788029315,\n",
       " 3.1217631196442635,\n",
       " 3.3135586863909023,\n",
       " 3.0618571218286554,\n",
       " 2.5366811098919158,\n",
       " 2.74946123147839,\n",
       " 3.1537421270165606,\n",
       " 2.535001267430673]"
      ]
     },
     "execution_count": 45,
     "metadata": {},
     "output_type": "execute_result"
    }
   ],
   "source": [
    "df[\"petal_width\"].tolist()"
   ]
  },
  {
   "cell_type": "code",
   "execution_count": 55,
   "metadata": {},
   "outputs": [
    {
     "data": {
      "image/png": "[encoded data removed]",
      "text/plain": [
       "<matplotlib.figure.Figure at 0x287b6a90b70>"
      ]
     },
     "metadata": {},
     "output_type": "display_data"
    }
   ],
   "source": [
    "c_list = {\"setosa\" : \"r\", \"virginica\" : \"g\", \"versicolor\" : \"b\"}\n",
    "color = [c_list[x] for x in df[\"species\"].tolist()]\n",
    "plt.scatter(df[\"sepal_width\"].tolist(), df[\"petal_width\"].tolist(), c=color)\n",
    "plt.plot(np.arange(2, 5),[a1*x+b1 for x in np.arange(2, 5)], c=\"r\", label=\"setosa\")\n",
    "plt.plot(np.arange(2, 5),[a2*x+b2 for x in np.arange(2, 5)], c=\"g\", label=\"virginica\")\n",
    "plt.plot(np.arange(2, 5),[a3*x+b3 for x in np.arange(2, 5)], c=\"b\", label=\"versicolor\")\n",
    "plt.xlabel(\"sepal_width\")\n",
    "plt.ylabel(\"petal_width\")\n",
    "plt.legend()\n",
    "plt.savefig(\"Q3.png\")\n",
    "plt.show()"
   ]
  },
  {
   "cell_type": "markdown",
   "metadata": {},
   "source": [
    "# Q4 "
   ]
  },
  {
   "cell_type": "code",
   "execution_count": 59,
   "metadata": {},
   "outputs": [
    {
     "name": "stdout",
     "output_type": "stream",
     "text": [
      "On a complété sepal_width par 0.3331473509555348 a partir de l'espece:setosa et de petal_width=1.0023435676326218\n",
      "On a complété petal_width par 1.293201118502893 a partir de petal_length=4.027837977207209\n",
      "On a complété sepal_width par 1.6569771393101191 a partir de l'espece:versicolor et de petal_width=2.259954321281721\n",
      "On a complété sepal_width par 2.99437043589523 a partir de l'espece:virginica et de petal_width=3.3218723995908728\n"
     ]
    }
   ],
   "source": [
    "coeffs = {\n",
    "    \"cas 1\" : {'a': a  , 'b':b },\n",
    "    \"cas 2\" : {'a': a1 , 'b':b1},\n",
    "    \"cas 3\" : {'a': a2 , 'b':b2},\n",
    "    \"cas 4\" : {'a': a3 , 'b':b3},\n",
    "}\n",
    "lignes_modifiees = []\n",
    "\n",
    "for (i, individu) in df.iterrows(): # pour chaque individu de iris,...\n",
    "    if pd.isnull(individu[\"petal_width\"]): #... on test si individu[\"petal_width\"] est nul.\n",
    "        a = coeffs[\"cas 1\"]['a']\n",
    "        b = coeffs[\"cas 1\"]['b']\n",
    "        X = individu[\"petal_length\"]\n",
    "        Y = a*X + b\n",
    "        df.loc[i,\"petal_width\"] = Y # on remplace la valeur manquante par Y\n",
    "        lignes_modifiees.append(i)\n",
    "        print(\"On a complété petal_width par {} a partir de petal_length={}\".format(Y,X))\n",
    "        \n",
    "    if pd.isnull(individu[\"sepal_width\"]):\n",
    "        espece = individu[\"species\"]\n",
    "        X = individu[\"petal_width\"]\n",
    "        if espece == \"setosa\":\n",
    "            cas = \"cas 2\"\n",
    "        elif espece == \"virginica\":\n",
    "            cas = \"cas 3\"\n",
    "        elif espece == \"versicolor\":\n",
    "            cas = \"cas 4\"\n",
    "        a = coeffs[cas]['a']\n",
    "        b = coeffs[cas]['b']\n",
    "        Y = a*X + b\n",
    "        df.loc[i,\"petal_width\"] = Y # on remplace la valeur manquante par Y\n",
    "        lignes_modifiees.append(i)\n",
    "        lignes_modifiees.append(i)\n",
    "        print(\"On a complété sepal_width par {} a partir de l'espece:{} et de petal_width={}\".format(Y,espece,X))"
   ]
  },
  {
   "cell_type": "code",
   "execution_count": null,
   "metadata": {
    "collapsed": true
   },
   "outputs": [],
   "source": []
  }
 ],
 "metadata": {
  "kernelspec": {
   "display_name": "Python 3",
   "language": "python",
   "name": "python3"
  },
  "language_info": {
   "codemirror_mode": {
    "name": "ipython",
    "version": 3
   },
   "file_extension": ".py",
   "mimetype": "text/x-python",
   "name": "python",
   "nbconvert_exporter": "python",
   "pygments_lexer": "ipython3",
   "version": "3.6.3"
  }
 },
 "nbformat": 4,
 "nbformat_minor": 2
}
