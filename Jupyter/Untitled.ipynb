{
 "cells": [
  {
   "cell_type": "code",
   "execution_count": 1,
   "metadata": {
    "collapsed": true
   },
   "outputs": [],
   "source": [
    "import os\n",
    "import numpy as np\n",
    "import pandas as pd\n",
    "import matplotlib.pyplot as plt\n",
    "from mpl_toolkits.mplot3d import Axes3D\n",
    "\n",
    "from sklearn import linear_model\n",
    "from sklearn.model_selection import train_test_split"
   ]
  },
  {
   "cell_type": "code",
   "execution_count": 2,
   "metadata": {
    "collapsed": true
   },
   "outputs": [],
   "source": [
    "url = r'F:\\Nicolas\\PycharmProjects\\machine learning\\openclassroom\\exercice 3\\house_data.csv'\n",
    "# directory = os.path.dirname(__file__)\n",
    "# csv_path = os.path.join(directory, 'house_data.csv')"
   ]
  },
  {
   "cell_type": "code",
   "execution_count": 3,
   "metadata": {
    "collapsed": true
   },
   "outputs": [],
   "source": [
    "# Reading info from file\n",
    "house_data = pd.read_csv(url)"
   ]
  },
  {
   "cell_type": "code",
   "execution_count": 4,
   "metadata": {},
   "outputs": [
    {
     "name": "stdout",
     "output_type": "stream",
     "text": [
      "     price  surface  arrondissement\n",
      "0     1820    46.10             1.0\n",
      "1     1750    41.00             1.0\n",
      "2     1900    55.00             1.0\n",
      "3     1950    46.00             1.0\n",
      "4     1950    49.00             1.0\n",
      "5     1960    67.00             1.0\n",
      "6     2000    35.00             1.0\n",
      "7     1900    90.60             1.0\n",
      "8     2050    60.00             1.0\n",
      "9     2100    47.00             1.0\n",
      "10    2100    55.00             1.0\n",
      "11    2145    68.95             1.0\n",
      "12    2200    40.00             1.0\n",
      "13    2216    68.95             1.0\n",
      "14    2249    35.00             1.0\n",
      "15    2300    70.90             1.0\n",
      "16    2367    76.00             1.0\n",
      "17    2390    71.00             1.0\n",
      "18    2342    80.00             1.0\n",
      "19    2315    71.00             1.0\n",
      "20    2500    84.35             1.0\n",
      "21    2470    55.00             1.0\n",
      "22    2650    56.00             1.0\n",
      "23    2650    98.30             1.0\n",
      "24    2800    49.00             1.0\n",
      "25    2800    57.00             1.0\n",
      "26    2700    80.00             1.0\n",
      "27    2941    96.00             1.0\n",
      "28    2941    96.10             1.0\n",
      "29    2941    96.00             1.0\n",
      "..     ...      ...             ...\n",
      "797   1840    82.75            10.0\n",
      "798   3650   169.00            10.0\n",
      "799    830    27.46            10.0\n",
      "800   1150    30.00            10.0\n",
      "801    788    25.00            10.0\n",
      "802   1574    61.00            10.0\n",
      "803   1360    52.00            10.0\n",
      "804    850    15.00            10.0\n",
      "805    890    19.00            10.0\n",
      "806   1250    40.00            10.0\n",
      "807    860    18.00            10.0\n",
      "808   2483   116.00            10.0\n",
      "809    528    13.00            10.0\n",
      "810    542    22.00            10.0\n",
      "811    700    21.00            10.0\n",
      "812    760    25.00            10.0\n",
      "813    790    14.00            10.0\n",
      "814    979    43.16            10.0\n",
      "815   1950    90.00            10.0\n",
      "816    650    14.00            10.0\n",
      "817    465    12.00            10.0\n",
      "818   1300    50.00            10.0\n",
      "819   1488    63.61            10.0\n",
      "820    550    12.00            10.0\n",
      "821    795    25.00            10.0\n",
      "822    850    35.00            10.0\n",
      "823    700    10.00            10.0\n",
      "824   1280    34.00            10.0\n",
      "825   1545    65.00            10.0\n",
      "826   1000    21.43            10.0\n",
      "\n",
      "[822 rows x 3 columns]\n",
      "822\n"
     ]
    }
   ],
   "source": [
    "#cleaning line with NaN (not required in that exqmple for 'arrondissement')\n",
    "house_data = house_data[np.isfinite(house_data['surface'])]\n",
    "house_data = house_data[np.isfinite(house_data['arrondissement'])]\n",
    "print(house_data)\n",
    "data_size = len(house_data)\n",
    "print(data_size)"
   ]
  },
  {
   "cell_type": "code",
   "execution_count": 5,
   "metadata": {
    "collapsed": true
   },
   "outputs": [],
   "source": [
    "train, test = train_test_split(house_data, test_size = 0.8)"
   ]
  },
  {
   "cell_type": "code",
   "execution_count": null,
   "metadata": {
    "collapsed": true
   },
   "outputs": [],
   "source": []
  },
  {
   "cell_type": "code",
   "execution_count": 6,
   "metadata": {
    "collapsed": true
   },
   "outputs": [],
   "source": [
    "ytrain, Xtrain =  train['price'], train.loc[:,'surface':'arrondissement']\n",
    "regr = linear_model.LinearRegression()\n",
    "a = regr.fit(Xtrain, ytrain)\n",
    "score = regr.score(Xtrain, ytrain)"
   ]
  },
  {
   "cell_type": "code",
   "execution_count": 7,
   "metadata": {},
   "outputs": [
    {
     "name": "stdout",
     "output_type": "stream",
     "text": [
      "Eq : loyer = 40.19 * Surface + -61.10 * Arrondissement + 14.94\n"
     ]
    }
   ],
   "source": [
    "print(\"Eq : loyer = {:.2f} * Surface + {:.2f} * Arrondissement + {:.2f}\".format(a.coef_[0], a.coef_[1], a.intercept_))"
   ]
  },
  {
   "cell_type": "code",
   "execution_count": 8,
   "metadata": {
    "collapsed": true
   },
   "outputs": [],
   "source": [
    "ytest, Xtest =  test['price'], test.loc[:,'surface':'arrondissement']"
   ]
  },
  {
   "cell_type": "code",
   "execution_count": 9,
   "metadata": {},
   "outputs": [
    {
     "name": "stdout",
     "output_type": "stream",
     "text": [
      "597    5000\n",
      "74      715\n",
      "771     750\n",
      "591    3680\n",
      "596    4500\n",
      "57     2290\n",
      "808    2483\n",
      "528    1253\n",
      "261    1166\n",
      "346    1885\n",
      "99     2300\n",
      "671    2850\n",
      "65     1820\n",
      "639    1000\n",
      "679     684\n",
      "477    1950\n",
      "791     700\n",
      "59     2700\n",
      "119    3750\n",
      "806    1250\n",
      "173    2482\n",
      "316    2500\n",
      "448    1950\n",
      "359    1790\n",
      "199    2200\n",
      "569    1690\n",
      "126    1140\n",
      "469     990\n",
      "471    1800\n",
      "167    2000\n",
      "       ... \n",
      "201     800\n",
      "112    3000\n",
      "17     2390\n",
      "669    2950\n",
      "710    2382\n",
      "640    1732\n",
      "781    1450\n",
      "799     830\n",
      "128    1500\n",
      "188    1545\n",
      "12     2200\n",
      "571    1624\n",
      "132    3020\n",
      "547    2000\n",
      "691    1195\n",
      "139    4722\n",
      "153     800\n",
      "658    1988\n",
      "407     930\n",
      "26     2700\n",
      "342    1042\n",
      "61     1380\n",
      "665    2300\n",
      "330    1200\n",
      "307    1850\n",
      "756    1462\n",
      "628     930\n",
      "240     647\n",
      "51      888\n",
      "68     2000\n",
      "Name: price, Length: 658, dtype: int64      surface  arrondissement\n",
      "597   100.00             4.0\n",
      "74     16.90             1.0\n",
      "771    19.00            10.0\n",
      "591   108.00             4.0\n",
      "596   117.00             4.0\n",
      "57     71.00             1.0\n",
      "808   116.00            10.0\n",
      "528    35.23             4.0\n",
      "261    27.00             2.0\n",
      "346    54.00             3.0\n",
      "99     65.00             1.0\n",
      "671   120.00            10.0\n",
      "65     46.10             1.0\n",
      "639    35.00             4.0\n",
      "679    28.23            10.0\n",
      "477    50.00             4.0\n",
      "791    19.00            10.0\n",
      "59     50.00             1.0\n",
      "119    70.00             1.0\n",
      "806    40.00            10.0\n",
      "173    80.00             2.0\n",
      "316    80.00             3.0\n",
      "448    55.00             3.0\n",
      "359    62.00             3.0\n",
      "199    27.00             2.0\n",
      "569    56.00             4.0\n",
      "126    28.00             1.0\n",
      "469    22.00             3.0\n",
      "471    50.00             4.0\n",
      "167    40.00             2.0\n",
      "..       ...             ...\n",
      "201    20.00             2.0\n",
      "112   101.00             1.0\n",
      "17     71.00             1.0\n",
      "669   117.00            10.0\n",
      "710   108.00            10.0\n",
      "640    60.00             4.0\n",
      "781    40.00            10.0\n",
      "799    27.46            10.0\n",
      "128    42.00             1.0\n",
      "188    50.00             2.0\n",
      "12     40.00             1.0\n",
      "571    46.30             4.0\n",
      "132    84.00             1.0\n",
      "547    30.20             4.0\n",
      "691    44.00            10.0\n",
      "139   160.00             1.0\n",
      "153    14.00             1.0\n",
      "658    73.00            10.0\n",
      "407    26.80             3.0\n",
      "26     80.00             1.0\n",
      "342    33.20             3.0\n",
      "61     42.00             1.0\n",
      "665    75.81            10.0\n",
      "330    23.00             3.0\n",
      "307    51.00             3.0\n",
      "756    57.62            10.0\n",
      "628    16.00             4.0\n",
      "240    15.54             2.0\n",
      "51     24.00             1.0\n",
      "68     79.82             1.0\n",
      "\n",
      "[658 rows x 2 columns]\n"
     ]
    }
   ],
   "source": [
    "print(ytest, Xtest)"
   ]
  },
  {
   "cell_type": "code",
   "execution_count": 10,
   "metadata": {
    "collapsed": true
   },
   "outputs": [],
   "source": [
    "prediction = regr.predict(Xtest)"
   ]
  },
  {
   "cell_type": "code",
   "execution_count": 11,
   "metadata": {},
   "outputs": [
    {
     "name": "stdout",
     "output_type": "stream",
     "text": [
      "(658, 1)\n"
     ]
    }
   ],
   "source": [
    "A1 = prediction.reshape(-1,1)\n",
    "print(A1.shape)"
   ]
  },
  {
   "cell_type": "code",
   "execution_count": 15,
   "metadata": {},
   "outputs": [
    {
     "name": "stdout",
     "output_type": "stream",
     "text": [
      "(658, 1)\n"
     ]
    }
   ],
   "source": [
    "A2 = ytest.values.reshape(-1,1)\n",
    "print(A2.shape)"
   ]
  },
  {
   "cell_type": "code",
   "execution_count": 16,
   "metadata": {},
   "outputs": [
    {
     "name": "stdout",
     "output_type": "stream",
     "text": [
      "0.836526446172\n"
     ]
    }
   ],
   "source": [
    "score = regr.score(Xtest, A2)\n",
    "print(score)"
   ]
  },
  {
   "cell_type": "code",
   "execution_count": null,
   "metadata": {
    "collapsed": true
   },
   "outputs": [],
   "source": []
  }
 ],
 "metadata": {
  "kernelspec": {
   "display_name": "Python 3",
   "language": "python",
   "name": "python3"
  },
  "language_info": {
   "codemirror_mode": {
    "name": "ipython",
    "version": 3
   },
   "file_extension": ".py",
   "mimetype": "text/x-python",
   "name": "python",
   "nbconvert_exporter": "python",
   "pygments_lexer": "ipython3",
   "version": "3.6.1"
  }
 },
 "nbformat": 4,
 "nbformat_minor": 2
}
